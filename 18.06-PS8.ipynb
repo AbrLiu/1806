{
 "cells": [
  {
   "cell_type": "markdown",
   "metadata": {},
   "source": [
    "# 18.06 Problem Set 8"
   ]
  },
  {
   "cell_type": "code",
   "execution_count": 2,
   "metadata": {
    "collapsed": false
   },
   "outputs": [
    {
     "name": "stderr",
     "output_type": "stream",
     "text": [
      "INFO: Removing Homework (unregistered)\n",
      "INFO: Cloning Homework from https://github.com/shashi/Homework.jl.git\n",
      "INFO: Computing changes...\n"
     ]
    },
    {
     "data": {
      "text/html": [
       "<script charset=\"utf-8\">(function ($, undefined) {\n",
       "\n",
       "    function createElem(tag, attr, content) {\n",
       "\t// TODO: remove jQuery dependency\n",
       "\tvar el = $(\"<\" + tag + \"/>\").attr(attr);\n",
       "\tif (content) {\n",
       "\t    el.append(content);\n",
       "\t}\n",
       "\treturn el[0];\n",
       "    }\n",
       "\n",
       "    // A widget must expose an id field which identifies it to the backend,\n",
       "    // an elem attribute which is will be added to the DOM, and\n",
       "    // a getState() method which returns the value to be sent to the backend\n",
       "    // a sendUpdate() method which sends its current value to the backend\n",
       "    var Widget = {\n",
       "\tid: undefined,\n",
       "\telem: undefined,\n",
       "\tlabel: undefined,\n",
       "\tgetState: function () {\n",
       "\t    return this.elem.value;\n",
       "\t},\n",
       "\tsendUpdate: undefined\n",
       "    };\n",
       "\n",
       "    var Slider = function (typ, id, init) {\n",
       "\tvar attr = { type:  \"range\",\n",
       "\t\t     value: init.value,\n",
       "\t\t     min:   init.min,\n",
       "\t\t     max:   init.max,\n",
       "\t\t     step:  init.step },\n",
       "\t    elem = createElem(\"input\", attr),\n",
       "\t    self = this;\n",
       "\n",
       "\telem.onchange = function () {\n",
       "\t    self.sendUpdate();\n",
       "\t}\n",
       "\n",
       "\tthis.id = id;\n",
       "\tthis.elem = elem;\n",
       "\tthis.label = init.label;\n",
       "\n",
       "\tInputWidgets.commInitializer(this); // Initialize communication\n",
       "    }\n",
       "    Slider.prototype = Widget;\n",
       "\n",
       "    var Checkbox = function (typ, id, init) {\n",
       "\tvar attr = { type: \"checkbox\",\n",
       "\t\t     checked: init.value },\n",
       "\t    elem = createElem(\"input\", attr),\n",
       "\t    self = this;\n",
       "\n",
       "\tthis.getState = function () {\n",
       "\t    return elem.checked;\n",
       "\t}\n",
       "\telem.onchange = function () {\n",
       "\t    self.sendUpdate();\n",
       "\t}\n",
       "\n",
       "\tthis.id = id;\n",
       "\tthis.elem = elem;\n",
       "\tthis.label = init.label;\n",
       "\n",
       "\tInputWidgets.commInitializer(this);\n",
       "    }\n",
       "    Checkbox.prototype = Widget;\n",
       "\n",
       "    var Button = function (typ, id, init) {\n",
       "\tvar attr = { type:    \"button\",\n",
       "\t\t     value:   init.label },\n",
       "\t    elem = createElem(\"input\", attr),\n",
       "\t    self = this;\n",
       "\tthis.getState = function () {\n",
       "\t    return null;\n",
       "\t}\n",
       "\telem.onclick = function () {\n",
       "\t    self.sendUpdate();\n",
       "\t}\n",
       "\n",
       "\tthis.id = id;\n",
       "\tthis.elem = elem;\n",
       "\tthis.label = init.label;\n",
       "\n",
       "\tInputWidgets.commInitializer(this);\n",
       "    }\n",
       "    Button.prototype = Widget;\n",
       "\n",
       "    var Text = function (typ, id, init) {\n",
       "\tvar attr = { type:  \"text\",\n",
       "\t\t     placeholder: init.label,\n",
       "\t\t     value: init.value },\n",
       "\t    elem = createElem(\"input\", attr),\n",
       "\t    self = this;\n",
       "\tthis.getState = function () {\n",
       "\t    return elem.value;\n",
       "\t}\n",
       "\telem.onkeyup = function () {\n",
       "\t    self.sendUpdate();\n",
       "\t}\n",
       "\n",
       "\tthis.id = id;\n",
       "\tthis.elem = elem;\n",
       "\tthis.label = init.label;\n",
       "\n",
       "\tInputWidgets.commInitializer(this);\n",
       "    }\n",
       "    Text.prototype = Widget;\n",
       "\n",
       "    var Textarea = function (typ, id, init) {\n",
       "\tvar attr = { placeholder: init.label },\n",
       "\t    elem = createElem(\"textarea\", attr, init.value),\n",
       "\t    self = this;\n",
       "\tthis.getState = function () {\n",
       "\t    return elem.value;\n",
       "\t}\n",
       "\telem.onchange = function () {\n",
       "\t    self.sendUpdate();\n",
       "\t}\n",
       "\n",
       "\tthis.id = id;\n",
       "\tthis.elem = elem;\n",
       "\tthis.label = init.label;\n",
       "\n",
       "\tInputWidgets.commInitializer(this);\n",
       "    }\n",
       "    Textarea.prototype = Widget;\n",
       "\n",
       "    // RadioButtons\n",
       "    // Dropdown\n",
       "    // HTML\n",
       "    // Latex\n",
       "\n",
       "    var InputWidgets = {\n",
       "\tSlider: Slider,\n",
       "\tCheckbox: Checkbox,\n",
       "\tButton: Button,\n",
       "\tText: Text,\n",
       "\tTextarea: Textarea,\n",
       "\tdebug: false,\n",
       "\tlog: function () {\n",
       "\t    if (InputWidgets.debug) {\n",
       "\t\tconsole.log.apply(console, arguments);\n",
       "\t    }\n",
       "\t},\n",
       "\t// a central way to initalize communication\n",
       "\t// for widgets.\n",
       "\tcommInitializer: function (widget) {\n",
       "\t    widget.sendUpdate = function () {};\n",
       "\t}\n",
       "    };\n",
       "\n",
       "    window.InputWidgets = InputWidgets;\n",
       "\n",
       "})(jQuery, undefined);\n",
       "</script>"
      ]
     },
     "metadata": {},
     "output_type": "display_data"
    },
    {
     "data": {
      "text/html": [
       "<div id=\"interact-js-shim\">\n",
       "    <script charset=\"utf-8\">\n",
       "(function (IPython, $, _, MathJax, Widgets) {\n",
       "    $.event.special.destroyed = {\n",
       "\tremove: function(o) {\n",
       "\t    if (o.handler) {\n",
       "\t\to.handler.apply(this, arguments)\n",
       "\t    }\n",
       "\t}\n",
       "    }\n",
       "\n",
       "    var OutputArea = IPython.version >= \"4.0.0\" ? require(\"notebook/js/outputarea\").OutputArea : IPython.OutputArea;\n",
       "\n",
       "    var redrawValue = function (container, type, val) {\n",
       "\tvar selector = $(\"<div/>\");\n",
       "\tvar oa = new OutputArea(_.extend(selector, {\n",
       "\t    selector: selector,\n",
       "\t    prompt_area: true,\n",
       "\t    events: IPython.events,\n",
       "\t    keyboard_manager: IPython.keyboard_manager\n",
       "\t})); // Hack to work with IPython 2.1.0\n",
       "\n",
       "\tswitch (type) {\n",
       "\tcase \"image/png\":\n",
       "            var _src = 'data:' + type + ';base64,' + val;\n",
       "\t    $(container).find(\"img\").attr('src', _src);\n",
       "\t    break;\n",
       "\tdefault:\n",
       "\t    var toinsert = OutputArea.append_map[type].apply(\n",
       "\t\toa, [val, {}, selector]\n",
       "\t    );\n",
       "\t    $(container).empty().append(toinsert.contents());\n",
       "\t    selector.remove();\n",
       "\t}\n",
       "\tif (type === \"text/latex\" && MathJax) {\n",
       "\t    MathJax.Hub.Queue([\"Typeset\", MathJax.Hub, toinsert.get(0)]);\n",
       "\t}\n",
       "    }\n",
       "\n",
       "\n",
       "    $(document).ready(function() {\n",
       "\tWidgets.debug = false; // log messages etc in console.\n",
       "\tfunction initComm(evt, data) {\n",
       "\t    var comm_manager = data.kernel.comm_manager;\n",
       "        //_.extend(comm_manager.targets, require(\"widgets/js/widget\"))\n",
       "\t    comm_manager.register_target(\"Signal\", function (comm) {\n",
       "            comm.on_msg(function (msg) {\n",
       "                //Widgets.log(\"message received\", msg);\n",
       "                var val = msg.content.data.value;\n",
       "                $(\".signal-\" + comm.comm_id).each(function() {\n",
       "                var type = $(this).data(\"type\");\n",
       "                if (val[type]) {\n",
       "                    redrawValue(this, type, val[type], type);\n",
       "                }\n",
       "                });\n",
       "                delete val;\n",
       "                delete msg.content.data.value;\n",
       "            });\n",
       "\t    });\n",
       "\n",
       "\t    // coordingate with Comm and redraw Signals\n",
       "\t    // XXX: Test using Reactive here to improve performance\n",
       "\t    $([IPython.events]).on(\n",
       "\t\t'output_appended.OutputArea', function (event, type, value, md, toinsert) {\n",
       "\t\t    if (md && md.reactive) {\n",
       "                // console.log(md.comm_id);\n",
       "                toinsert.addClass(\"signal-\" + md.comm_id);\n",
       "                toinsert.data(\"type\", type);\n",
       "                // Signal back indicating the mimetype required\n",
       "                var comm_manager = IPython.notebook.kernel.comm_manager;\n",
       "                var comm = comm_manager.comms[md.comm_id];\n",
       "                comm.then(function (c) {\n",
       "                    c.send({action: \"subscribe_mime\",\n",
       "                       mime: type});\n",
       "                    toinsert.bind(\"destroyed\", function() {\n",
       "                        c.send({action: \"unsubscribe_mime\",\n",
       "                               mime: type});\n",
       "                    });\n",
       "                })\n",
       "\t\t    }\n",
       "\t    });\n",
       "\t}\n",
       "\n",
       "\ttry {\n",
       "\t    // try to initialize right away. otherwise, wait on the status_started event.\n",
       "\t    initComm(undefined, IPython.notebook);\n",
       "\t} catch (e) {\n",
       "\t    $([IPython.events]).on('kernel_created.Kernel kernel_created.Session', initComm);\n",
       "\t}\n",
       "    });\n",
       "})(IPython, jQuery, _, MathJax, InputWidgets);\n",
       "</script>\n",
       "    <script>\n",
       "        window.interactLoadedFlag = true\n",
       "       $(\"#interact-js-shim\").bind(\"destroyed\", function () {\n",
       "           if (window.interactLoadedFlag) {\n",
       "               console.warn(\"JavaScript required by Interact will be removed if you remove this cell or run using Interact more than once.\")\n",
       "           }\n",
       "       })\n",
       "       $([IPython.events]).on(\"kernel_starting.Kernel kernel_restarting.Kernel\", function () { window.interactLoadedFlag = false })\n",
       "   </script>\n",
       "</div>"
      ]
     },
     "metadata": {},
     "output_type": "display_data"
    },
    {
     "name": "stderr",
     "output_type": "stream",
     "text": [
      "INFO: No packages to install, update or remove\n",
      "WARNING: This version of the GnuTLS library (3.2.11) is deprecated\n",
      "and contains known security vulnerabilities. Please upgrade to a\n",
      "more recent version.\n"
     ]
    },
    {
     "data": {
      "text/html": [
       "<script>(function ($) {\n",
       "        // hijack IPython's methods of all CodeCells with the required metadata\n",
       "    if (!window.Homework) {\n",
       "        var get_text = IPython.CodeCell.prototype.get_text\n",
       "        IPython.CodeCell.prototype.get_text = function () {\n",
       "            if (this.metadata && typeof(this.metadata.question) !== \"undefined\") {\n",
       "                var fn = (Homework.mode() == \"create\") ? \"new_question\" : \"attempt_prompt\";\n",
       "                return 'Homework.' + fn + '(' + [\n",
       "                                         JSON.stringify(JSON.stringify(this.metadata)),\n",
       "                                         \"begin \\n\" + get_text.call(this) +\"\\n end\"\n",
       "                                       ].join(\", \") + \")\"\n",
       "            } else {\n",
       "                console.log(\"vs\", get_text.call(this))\n",
       "                return get_text.call(this)\n",
       "            }\n",
       "        }\n",
       "\n",
       "        var cell_to_json = IPython.CodeCell.prototype.toJSON\n",
       "        IPython.CodeCell.prototype.toJSON = function () {\n",
       "            if (this.metadata && typeof(this.metadata.question) !== \"undefined\") {\n",
       "                data = cell_to_json.call(this)\n",
       "                data.source = get_text.call(this)\n",
       "                return data\n",
       "            } else {\n",
       "                return cell_to_json.call(this)\n",
       "            }\n",
       "        }\n",
       "\n",
       "        var rename_keys = IPython.OutputArea.prototype.rename_keys;\n",
       "        IPython.OutputArea.prototype.rename_keys = function (data, key_map) {\n",
       "            data = rename_keys(data, key_map)\n",
       "\n",
       "            if (data.metadata && data.metadata.reactive) {\n",
       "                var cls = \".signal-\" + data.metadata.comm_id\n",
       "                data.html = $(cls).eq(0).html()\n",
       "            }\n",
       "            return data\n",
       "        }\n",
       "\n",
       "        var delete_cell = IPython.Notebook.prototype.delete_cell\n",
       "        IPython.Notebook.prototype.delete_cell = function (index) {\n",
       "            var i = this.index_or_selected(index);\n",
       "            var cell = this.get_selected_cell();\n",
       "            if (cell.metadata && typeof(cell.metadata.question) !== \"undefined\") {\n",
       "                alert(\"Cannot delete this cell. You need to code the answer to Question \" + \n",
       "                        cell.metadata.question + \" here.\")\n",
       "            } else {\n",
       "                // go on and delete\n",
       "                delete_cell.call(this, i)\n",
       "            }\n",
       "        }\n",
       "    }\n",
       "\n",
       "\n",
       "    function get_question(q) {\n",
       "        var i = 0\n",
       "        var cell = IPython.notebook.get_cell(i)\n",
       "        while(cell !== null) {\n",
       "            if (cell.metadata && cell.metadata.question === q) {\n",
       "                return cell\n",
       "            }\n",
       "            cell = IPython.notebook.get_cell(i)\n",
       "            i+=1\n",
       "        }\n",
       "        return null\n",
       "    }\n",
       "\n",
       "    function mount_message(cell) {\n",
       "        if (!cell) { return }\n",
       "        var meta = cell.metadata,\n",
       "            msg = meta.msg || \"<span class='icon-terminal'></span> &nbsp; Code your answer above, hit &lt;Shift+Enter&gt;, then Submit. <span style='float: right'>\",\n",
       "            score = meta.score || 0,\n",
       "            max_score = meta.max_score || 0,\n",
       "            attempts = meta.attempts || 0,\n",
       "            max_attempts = meta.max_attempts || 0\n",
       "\n",
       "        msg += \"<span style='position:absolute; top: 0.5em; right:0.5em' class='label label-info'> Score: \"\n",
       "        if (Homework.mode() === \"answering\") {\n",
       "            msg += \"<b>\" + score + \"</b> / <b>\" + max_score + \"</b>\"\n",
       "        } else if (Homework.mode() === \"create\") {\n",
       "            msg += \"<b>\" + max_score + \"</b>\"\n",
       "        }\n",
       "\n",
       "        msg += \" &middot; Attempts: \"\n",
       "        if (Homework.mode() === \"answering\") {\n",
       "            msg += \"<b>\" + attempts + \"</b>\"\n",
       "            if (max_attempts != 0) {\n",
       "                msg += \" / <b>\" + max_attempts + \"</b>\"\n",
       "            }\n",
       "        } else if (Homework.mode() === \"create\") {\n",
       "            msg += \"<b>\" + max_attempts + \"</b>\"\n",
       "        }\n",
       "        msg += \"</span>\"\n",
       "\n",
       "        var level = meta.alert || \"info\"\n",
       "\n",
       "        msg = \"<div class='hw-msg alert alert-\" + level + \"' id='hw-msg-\" + meta.question +\n",
       "               \"' style='padding: 0.5em; margin: 0; position:relative; border-radius: 0'>\" +\n",
       "               msg + \"</div>\"\n",
       "\n",
       "        $(cell.element).find(\".hw-msg\").remove()\n",
       "        $(cell.element).find(\".input_area\").eq(0).append(msg)\n",
       "        if (cell.metadata.finished) { $(cell.element).find(\".widget-area\").hide() }\n",
       "    }\n",
       "\n",
       "    function set_meta(question, extension) {\n",
       "        console.log(\"set meta\", question, extension)\n",
       "        var cell = get_question(question)\n",
       "        for (var key in extension) {\n",
       "            if (extension.hasOwnProperty(key)) {\n",
       "                cell.metadata[key] = extension[key]\n",
       "            }\n",
       "        }\n",
       "        mount_message(cell)\n",
       "    }\n",
       "\n",
       "    function get_question_cells() {\n",
       "        var cell = IPython.notebook.get_cell(0),\n",
       "            i = 0,\n",
       "            cells = []\n",
       "        while(cell !== null) {\n",
       "            if (cell.metadata && typeof(cell.metadata.question) !== \"undefined\") {\n",
       "                var q = cell.metadata.question\n",
       "                cells.push(cell)\n",
       "            }\n",
       "            i+=1\n",
       "            cell = IPython.notebook.get_cell(i)\n",
       "        }\n",
       "        return cells\n",
       "    }\n",
       "\n",
       "    function hw_create(host, course, s, f) {\n",
       "        if(!s) {\n",
       "            s = function(result){\n",
       "                if(result.code == 0) {\n",
       "                    IPython.dialog.modal({\n",
       "                        title: 'Problemset created',\n",
       "                        body: \"The problem set was created. Now run <code>Homework.clear_answers()</code> to get the notebook ready for distribution.\"\n",
       "                    })\n",
       "                }\n",
       "                else {\n",
       "                    IPython.dialog.modal({\n",
       "                        title: 'Problemset NOT created',\n",
       "                        body: \"Non-zero result code. There was a problem saving the problem set!\"\n",
       "                    })\n",
       "                }\n",
       "            };\n",
       "        };\n",
       "        if(!f) {\n",
       "            f = function() {\n",
       "                    IPython.dialog.modal({\n",
       "                        title: 'Failure',\n",
       "                        body: \"Failed to create problem set. Are you sure you have permission to edit the course? Unexpected server error.\"\n",
       "                    })\n",
       "            };\n",
       "        };\n",
       "        console.log({\n",
       "            'mode': 'create',\n",
       "            'params': JSON.stringify(course)\n",
       "        })\n",
       "        $.ajax({\n",
       "            url: host + '/jboxplugin/hw/',\n",
       "            method: 'POST',\n",
       "            data: {\n",
       "                'mode': 'create',\n",
       "                'params': JSON.stringify(course)\n",
       "            },\n",
       "            success: s,\n",
       "            failure: f\n",
       "        })\n",
       "    }\n",
       "\n",
       "    function create_problemset(config) {\n",
       "        config = config || IPython.notebook.metadata.homework\n",
       "\n",
       "        var cells = get_question_cells()\n",
       "\n",
       "        if (!config.host) { config.host == \"\" }\n",
       "        var questions = []\n",
       "        for (var i=0, l=cells.length; i < l; i++) {\n",
       "            questions.push({\n",
       "                id:    String(cells[i].metadata.question),\n",
       "                score: cells[i].metadata.max_score,\n",
       "                attempts: cells[i].metadata.max_attempts,\n",
       "                ans:   cells[i].metadata.answer,\n",
       "                explanation: cells[i].metadata.explanation || \"\"\n",
       "            })\n",
       "        }\n",
       "\n",
       "        var course = {\n",
       "             admins: config.admins || [],\n",
       "             id: config.course,\n",
       "             problemsets: [{\n",
       "                 id: config.problemset,\n",
       "                 questions: questions\n",
       "             }]\n",
       "        }\n",
       "\n",
       "        console.log(course)\n",
       "\n",
       "        try {\n",
       "            hw_create(config.host || \"\", course)\n",
       "        } catch (e) {\n",
       "            alert(\"An error occured. Problem set not saved!\")\n",
       "        }\n",
       "   }\n",
       "\n",
       "   function clear_admin_metadata() {\n",
       "       var cells = get_question_cells()\n",
       "       for (var i=0, l=cells.length; i < l; i++) {\n",
       "           var cell = cells[i]\n",
       "           delete cell.metadata.answer\n",
       "           delete cell.metadata.msg\n",
       "           cell.metadata.finished && delete cell.metadata.finished\n",
       "           delete cell.metadata.alert\n",
       "       }\n",
       "       IPython.notebook.metadata.homework.mode = \"answering\"\n",
       "       Homework.refresh_messages()\n",
       "   }\n",
       "\n",
       "   function clear_answers() {\n",
       "       var cells = get_question_cells()\n",
       "       for (var i=0, l=cells.length; i < l; i++) {\n",
       "           var cell = cells[i]\n",
       "           cell.clear_input()\n",
       "           cell.clear_output()\n",
       "       }\n",
       "       IPython.notebook.metadata.homework.mode = \"answering\"\n",
       "       Homework.refresh_messages()\n",
       "   }\n",
       "\n",
       "    function refresh_messages(q) {\n",
       "        _.map(q ? [get_question(q)] : get_question_cells(), mount_message)\n",
       "    }\n",
       "\n",
       "    $([IPython.events]).on('notebook_loaded.Notebook', refresh_messages)\n",
       "    $([IPython.events]).on('select.Cell', refresh_messages)\n",
       "\n",
       "    setTimeout(refresh_messages, 100)\n",
       "    setTimeout(refresh_messages, 200)\n",
       "    setTimeout(refresh_messages, 400)\n",
       "    setTimeout(refresh_messages, 500)\n",
       "    setTimeout(refresh_messages, 1000)\n",
       "    setTimeout(refresh_messages, 2000)\n",
       "    setTimeout(refresh_messages, 4000)\n",
       "\n",
       "    $([IPython.events]).on('status_started.Kernel', function (data) {\n",
       "        var k = data.kernel || IPython.notebook.kernel\n",
       "        k.comm_manager.register_target(\"HomeworkData\", function (comm) {})\n",
       "    })\n",
       "    IPython.notebook && IPython.notebook.kernel &&\n",
       "        IPython.notebook.kernel.comm_manager.register_target(\"HomeworkData\", function (comm) {})\n",
       "\n",
       "    window.Homework = {\n",
       "        config: {},\n",
       "        metadata: function (field) {\n",
       "            return IPython.notebook.metadata.homework[field]\n",
       "        },\n",
       "        mode: function () {\n",
       "            return Homework.metadata(\"mode\") || \"answering\"\n",
       "        },\n",
       "        set_meta: set_meta,\n",
       "        mount_message: mount_message,\n",
       "        clear_answers: clear_answers,\n",
       "        clear_admin_metadata: clear_admin_metadata,\n",
       "        get_question: get_question,\n",
       "        get_question_cells: get_question_cells,\n",
       "        refresh_messages: refresh_messages,\n",
       "        create_problemset: create_problemset\n",
       "    }\n",
       "\n",
       "})(jQuery)\n",
       "</script>"
      ]
     },
     "metadata": {},
     "output_type": "display_data"
    },
    {
     "data": {
      "text/html": [
       "<script>IPython.notebook.kernel.comm_manager.comms[\"61269500-6b4c-4318-ac1b-ac00d6dbd910\"].then(\n",
       "    function (comm) {\n",
       "        comm.send({\n",
       "            cookie: document.cookie,\n",
       "            host: IPython.notebook.metadata.homework.host,\n",
       "            course: IPython.notebook.metadata.homework.course,\n",
       "            mode: IPython.notebook.metadata.homework.mode,\n",
       "            problemset: IPython.notebook.metadata.homework.problemset\n",
       "        })\n",
       "    }\n",
       ")</script>"
      ],
      "text/plain": [
       "Html(\"<script>IPython.notebook.kernel.comm_manager.comms[\\\"61269500-6b4c-4318-ac1b-ac00d6dbd910\\\"].then(\\n    function (comm) {\\n        comm.send({\\n            cookie: document.cookie,\\n            host: IPython.notebook.metadata.homework.host,\\n            course: IPython.notebook.metadata.homework.course,\\n            mode: IPython.notebook.metadata.homework.mode,\\n            problemset: IPython.notebook.metadata.homework.problemset\\n        })\\n    }\\n)</script>\")"
      ]
     },
     "metadata": {},
     "output_type": "display_data"
    },
    {
     "data": {
      "text/html": [
       "<iframe src=\"https://docs.google.com/forms/d/1uPqGeJChe0FFOsuUkdeLVbgPo9LzQEbRnS0xIzE-VGo/viewform?embedded=true\" width=\"720\" height=\"570\" frameborder=\"0\" marginheight=\"0\" marginwidth=\"0\">Loading...</iframe>"
      ]
     },
     "metadata": {},
     "output_type": "display_data"
    }
   ],
   "source": [
    "Pkg.rm(\"Homework\")\n",
    "Pkg.clone(\"https://github.com/shashi/Homework.jl.git\")\n",
    "using Homework\n",
    "\n",
    "# Fill the form below, you only need to do it once throughout this semester.\n",
    "Homework.show_mit_form()"
   ]
  },
  {
   "cell_type": "markdown",
   "metadata": {},
   "source": [
    "## Problem 1.  Difference of Squares"
   ]
  },
  {
   "cell_type": "code",
   "execution_count": 2,
   "metadata": {
    "collapsed": false
   },
   "outputs": [
    {
     "name": "stderr",
     "output_type": "stream",
     "text": [
      "Warning: error initializing module Plots:\n",
      "Base.MethodError(f=warn, args=(\"You don't have any of the supported backends installed!  Chose from \", Array{Symbol, 1}[:qwt, :gadfly, :unicodeplots, :pyplot, :immerse, :winston]))\n"
     ]
    },
    {
     "data": {
      "text/latex": [
       "$$y$$"
      ],
      "text/plain": [
       "y"
      ]
     },
     "execution_count": 2,
     "metadata": {},
     "output_type": "execute_result"
    }
   ],
   "source": [
    "using SymPy #Ignore Warnings\n",
    "x=Sym(\"x\")\n",
    "y=Sym(\"y\")"
   ]
  },
  {
   "cell_type": "markdown",
   "metadata": {},
   "source": [
    "a) (2 pt) Write f(x,y)=x$^2$+4xy+3y$^2$ as a difference of squares (each square is a linear function of x and/or y))\n",
    "\n",
    "Format:  (????)^2-(????)^2"
   ]
  },
  {
   "cell_type": "code",
   "execution_count": 5,
   "metadata": {
    "collapsed": false,
    "max_attempts": 1000,
    "max_score": 2,
    "question": "1a"
   },
   "outputs": [
    {
     "data": {
      "text/html": [
       "<script></script>"
      ],
      "text/plain": [
       "Html(\"<script></script>\")"
      ]
     },
     "metadata": {
      "comm_id": "fe9e6240-adb5-4b00-96f1-7e381543c9fa",
      "reactive": true
     },
     "output_type": "display_data"
    },
    {
     "data": {
      "text/html": [],
      "text/plain": [
       "Button{Nothing}([Input{Nothing}] nothing,\"Submit \\ubb\",nothing)"
      ]
     },
     "metadata": {},
     "output_type": "display_data"
    }
   ],
   "source": []
  },
  {
   "cell_type": "markdown",
   "metadata": {},
   "source": [
    "b) (1 pt) f(x,y) can be negative?\n",
    "\n",
    "true or false ?"
   ]
  },
  {
   "cell_type": "code",
   "execution_count": null,
   "metadata": {
    "collapsed": false,
    "max_attempts": 1000,
    "max_score": 1,
    "question": "1b"
   },
   "outputs": [],
   "source": []
  },
  {
   "cell_type": "markdown",
   "metadata": {},
   "source": [
    "## Problem 2.  Saddle  Point\n",
    "\n",
    "a) (1 pt) The function f(x,y)=2xy certainly has a saddle point and not a minimum at (0,0). What symmetric matrix A produces this f?\n",
    "\n",
    "Format: [[x,y],[y,z]]"
   ]
  },
  {
   "cell_type": "code",
   "execution_count": null,
   "metadata": {
    "collapsed": false,
    "max_attempts": 1000,
    "max_score": 1,
    "question": "2a"
   },
   "outputs": [],
   "source": []
  },
  {
   "cell_type": "markdown",
   "metadata": {},
   "source": [
    "b) (1 pt)   Let λ$_1$ and λ$_2$ be the eigenvalues of A with λ$_1$>λ$_2$. What is the vector [λ$_1$,λ$_2$]"
   ]
  },
  {
   "cell_type": "code",
   "execution_count": null,
   "metadata": {
    "collapsed": false,
    "max_attempts": 1000,
    "max_score": 1,
    "question": "2b"
   },
   "outputs": [],
   "source": []
  },
  {
   "cell_type": "markdown",
   "metadata": {},
   "source": [
    "## Problem 3. THE MATRIX CORRESPONDING TO A QUADRATIC FORM  "
   ]
  },
  {
   "cell_type": "markdown",
   "metadata": {},
   "source": [
    "a. (1 pt.) Find the 3 by 3 symmetric matrix A for which\n",
    "\n",
    "$\\begin{bmatrix}x_1 & x_2 & x_3\\end{bmatrix} \\begin{bmatrix} A \\end{bmatrix} \\begin{bmatrix}x_1 \\\\ x_2 \\\\ x_3\\end{bmatrix} = 4(x_1 - x_2 + 2x_3)^2$\n",
    "\n",
    "Format: [[a b c],[d e f],[g h i]]"
   ]
  },
  {
   "cell_type": "code",
   "execution_count": null,
   "metadata": {
    "collapsed": false,
    "max_attempts": 1000,
    "max_score": 1,
    "question": "3a"
   },
   "outputs": [],
   "source": []
  },
  {
   "cell_type": "markdown",
   "metadata": {},
   "source": [
    "b) (1 pt.) Find A's pivots. \n",
    "\n",
    "Format: [p q r] or [p q] or [p] depending on how many pivots there are."
   ]
  },
  {
   "cell_type": "code",
   "execution_count": null,
   "metadata": {
    "collapsed": false,
    "max_attempts": 1000,
    "max_score": 1,
    "question": "3b"
   },
   "outputs": [],
   "source": []
  },
  {
   "cell_type": "markdown",
   "metadata": {},
   "source": [
    "c) (1 pt.) What is the rank of A?"
   ]
  },
  {
   "cell_type": "code",
   "execution_count": null,
   "metadata": {
    "collapsed": false,
    "max_attempts": 1000,
    "max_score": 1,
    "question": "3c"
   },
   "outputs": [],
   "source": []
  },
  {
   "cell_type": "markdown",
   "metadata": {},
   "source": [
    "d) (1 pt.) What are the eigenvalues of A?\n",
    "\n",
    "Format: [a, b, c] where a$\\ge$b$\\ge$c"
   ]
  },
  {
   "cell_type": "code",
   "execution_count": null,
   "metadata": {
    "collapsed": false,
    "max_attempts": 1000,
    "max_score": 1,
    "question": "3d"
   },
   "outputs": [],
   "source": []
  },
  {
   "cell_type": "markdown",
   "metadata": {},
   "source": [
    "e) (1 pt.) What is det(A)?"
   ]
  },
  {
   "cell_type": "code",
   "execution_count": null,
   "metadata": {
    "collapsed": false,
    "max_attempts": 1000,
    "max_score": 1,
    "question": "3e"
   },
   "outputs": [],
   "source": []
  },
  {
   "cell_type": "markdown",
   "metadata": {},
   "source": [
    "## Problem 4. Upper Left Determinants"
   ]
  },
  {
   "cell_type": "markdown",
   "metadata": {},
   "source": [
    "(3 pt.) Compute the three upper left determinants of\n",
    "A=$\\left[\\begin{matrix}2 &2 & 0\\\\2 & 5 & 3\\\\0 & 3 & 8\\end{matrix}\\right]$\n",
    "to establish positive definiteness. Let a, b and c be equal to the determinant of upper left 1 by 1, 2 by 2 and 3 by 3 matrix respectively.\n",
    "\n",
    "Format: [a,b,c]"
   ]
  },
  {
   "cell_type": "code",
   "execution_count": null,
   "metadata": {
    "collapsed": false,
    "max_attempts": 1000,
    "max_score": 3,
    "question": "4"
   },
   "outputs": [],
   "source": []
  },
  {
   "cell_type": "markdown",
   "metadata": {},
   "source": [
    "## Problem 5. Similar Diagonal Matrices  \n",
    "(2 pt.) If A=diag(1,3) and B=diag(3,1) show that A and B are similar (find a permutation matrix M such that B=M$^{−1}$AM).  (Here diag denotes a 2x2 matrix with those entries on the diagonal in the given order.)\n",
    "\n",
    "Format: [[a b],[c d]]  (a permutation matrix)"
   ]
  },
  {
   "cell_type": "code",
   "execution_count": null,
   "metadata": {
    "collapsed": false,
    "max_attempts": 1000,
    "max_score": 2,
    "question": "5"
   },
   "outputs": [],
   "source": []
  },
  {
   "cell_type": "markdown",
   "metadata": {
    "collapsed": true
   },
   "source": [
    "## Problem 6. Change of Basis\n",
    "\n",
    "Show that A and B are similar by finding M so that B=M$^{−1}$AM."
   ]
  },
  {
   "cell_type": "markdown",
   "metadata": {},
   "source": [
    "a. (2 pt.) $A = \\left[ \\begin{smallmatrix}1 & 0\\\\1& 0\\end{smallmatrix}\\right]$ and $B = \\left[ \\begin{smallmatrix}1 & 0\\\\0 & 0\\end{smallmatrix}\\right]$  \n",
    "\n",
    "There are infinitely many possible $M$ but only one with ones and zeros.  Please find the $M$ whose entries are ones and zeros.\n",
    "\n",
    "Format: M=[[a,b],[c,d]]"
   ]
  },
  {
   "cell_type": "code",
   "execution_count": null,
   "metadata": {
    "collapsed": false,
    "max_attempts": 1000,
    "max_score": 2,
    "question": "6a"
   },
   "outputs": [],
   "source": []
  },
  {
   "cell_type": "markdown",
   "metadata": {},
   "source": [
    "b. (2 pt.) $ A = \\left[ \\begin{smallmatrix}1 & 1\\\\1&1\\end{smallmatrix}\\right]$ and  $B = \\left[ \\begin{smallmatrix}1 & -1\\\\-1&1\\end{smallmatrix}\\right]$\n",
    "\n",
    "There are infinitely many possible $M$ but only one with first row [3 4].  Please find the $M$ whose first row is [3 4].\n",
    "\n",
    "Format: [[3 4],[? ?]]"
   ]
  },
  {
   "cell_type": "code",
   "execution_count": null,
   "metadata": {
    "collapsed": false,
    "max_attempts": 1000,
    "max_score": 2,
    "question": "6b"
   },
   "outputs": [],
   "source": []
  },
  {
   "cell_type": "markdown",
   "metadata": {},
   "source": [
    "c. (2 pt.) $ A = \\left[ \\begin{smallmatrix}1 & 2\\\\3&4\\end{smallmatrix}\\right]$ and  $B = \\left[ \\begin{smallmatrix}4 & 3\\\\2&1\\end{smallmatrix}\\right]$\n",
    "\n",
    "\n",
    "There are infinitely many possible $M$ but only one with first row [2  -3].  Please find the $M$ whose first row is [2 -3].\n",
    "\n",
    "Format [[2 -3],[? ?]]\n"
   ]
  },
  {
   "cell_type": "code",
   "execution_count": null,
   "metadata": {
    "collapsed": false,
    "max_attempts": 1000,
    "max_score": 2,
    "question": "6c"
   },
   "outputs": [],
   "source": []
  },
  {
   "cell_type": "markdown",
   "metadata": {},
   "source": [
    "## Problem 7. Powers of a Matrix"
   ]
  },
  {
   "cell_type": "markdown",
   "metadata": {},
   "source": [
    "a. (0.25 pt) Find $A^2$, $A^3$ and $A^5$ where $ A = \\left[ \\begin{smallmatrix}1 & 1\\\\ 0 &1 \\end{smallmatrix}\\right]$.\n",
    "We will only check $A^5$:\n",
    "\n",
    "Format (for $A^5$): [[? ?],[? ?]]"
   ]
  },
  {
   "cell_type": "code",
   "execution_count": null,
   "metadata": {
    "collapsed": false,
    "max_attempts": 1000,
    "max_score": 0.25,
    "question": "7a",
    "scrolled": true
   },
   "outputs": [],
   "source": []
  },
  {
   "cell_type": "markdown",
   "metadata": {},
   "source": [
    "b. (0.25 pt) Guess the form of $A^k$\n",
    "\n",
    "[[? ?],[? ?]]  (use numbers and k)"
   ]
  },
  {
   "cell_type": "code",
   "execution_count": 18,
   "metadata": {
    "collapsed": false
   },
   "outputs": [
    {
     "data": {
      "text/latex": [
       "$$k$$"
      ],
      "text/plain": [
       "k"
      ]
     },
     "execution_count": 18,
     "metadata": {},
     "output_type": "execute_result"
    }
   ],
   "source": [
    "using SymPy\n",
    "k=Sym(\"k\")"
   ]
  },
  {
   "cell_type": "code",
   "execution_count": null,
   "metadata": {
    "collapsed": false,
    "max_attempts": 1000,
    "max_score": 0.25,
    "question": "7b"
   },
   "outputs": [],
   "source": []
  },
  {
   "cell_type": "markdown",
   "metadata": {},
   "source": [
    "c. (.5 pt) What is $A^0$ according to the pattern?\n",
    "\n",
    "[[? ?],[? ?]]"
   ]
  },
  {
   "cell_type": "code",
   "execution_count": null,
   "metadata": {
    "collapsed": false,
    "max_attempts": 1000,
    "max_score": 0.25,
    "question": "7c"
   },
   "outputs": [],
   "source": []
  },
  {
   "cell_type": "markdown",
   "metadata": {},
   "source": [
    "d. (.5 pt) What is $A^{-1}$ according to the pattern ( k=-1) ?\n",
    "\n",
    "[[? ?],[? ?]]"
   ]
  },
  {
   "cell_type": "code",
   "execution_count": null,
   "metadata": {
    "collapsed": false,
    "max_attempts": 1000,
    "max_score": 0.25,
    "question": "7d"
   },
   "outputs": [],
   "source": []
  },
  {
   "cell_type": "markdown",
   "metadata": {},
   "source": [
    "## Problem 8. True or False\n",
    "\n",
    "a) (1 pt) A symmetric matrix can't be similar to a nonsymmetric matrix.\n",
    "\n"
   ]
  },
  {
   "cell_type": "code",
   "execution_count": null,
   "metadata": {
    "collapsed": false,
    "max_attempts": 1000,
    "max_score": 1,
    "question": "8a"
   },
   "outputs": [],
   "source": []
  },
  {
   "cell_type": "markdown",
   "metadata": {},
   "source": [
    "b) (1 pt) An invertible matrix can't be similar to a singular matrix."
   ]
  },
  {
   "cell_type": "code",
   "execution_count": null,
   "metadata": {
    "collapsed": false,
    "max_attempts": 1000,
    "max_score": 1,
    "question": "8b"
   },
   "outputs": [],
   "source": []
  },
  {
   "cell_type": "markdown",
   "metadata": {},
   "source": [
    "c) (1 pt) A can't be similar to −A unless A=0."
   ]
  },
  {
   "cell_type": "code",
   "execution_count": null,
   "metadata": {
    "collapsed": false,
    "max_attempts": 1000,
    "max_score": 1,
    "question": "8c"
   },
   "outputs": [],
   "source": []
  },
  {
   "cell_type": "markdown",
   "metadata": {},
   "source": [
    "d) (1 pt) A can't be similar to A+I."
   ]
  },
  {
   "cell_type": "code",
   "execution_count": null,
   "metadata": {
    "collapsed": false,
    "max_attempts": 1000,
    "max_score": 1,
    "question": "8d"
   },
   "outputs": [],
   "source": []
  },
  {
   "cell_type": "markdown",
   "metadata": {},
   "source": [
    "## Problem 9.  Positive Definite Matrices"
   ]
  },
  {
   "cell_type": "code",
   "execution_count": 26,
   "metadata": {
    "collapsed": false
   },
   "outputs": [
    {
     "data": {
      "text/latex": [
       "\\begin{bmatrix}3&1&x\\\\1&4&2\\\\x&2&5\\end{bmatrix}"
      ],
      "text/plain": [
       "3x3 Array{Sym,2}\n",
       "[3  1  x]\n",
       "[       ]\n",
       "[1  4  2]\n",
       "[       ]\n",
       "[x  2  5]"
      ]
     },
     "execution_count": 26,
     "metadata": {},
     "output_type": "execute_result"
    }
   ],
   "source": [
    "using SymPy  # If you run twice the warning messages disappear\n",
    "x=Sym(\"x\")\n",
    "A=[[3 1 x],[1 4 2],[x 2 5]]"
   ]
  },
  {
   "cell_type": "code",
   "execution_count": 27,
   "metadata": {
    "collapsed": false
   },
   "outputs": [
    {
     "data": {
      "text/latex": [
       "$$- 8 x + 4$$"
      ],
      "text/plain": [
       "-8*x + 4"
      ]
     },
     "execution_count": 27,
     "metadata": {},
     "output_type": "execute_result"
    }
   ],
   "source": [
    "(diff(simplify(det(A)),x))"
   ]
  },
  {
   "cell_type": "markdown",
   "metadata": {
    "collapsed": false
   },
   "source": [
    "9a. (4 pts) The above matrix A and its derivative is taken for you in Julia using the SymPy python package. What\n",
    "value for x sets the derivative to 0?  (Thought question, not to be answered online, is this a max or a min?)\n",
    "\n",
    "The derivative is 0 when x= ???"
   ]
  },
  {
   "cell_type": "code",
   "execution_count": null,
   "metadata": {
    "collapsed": false,
    "max_attempts": 1000,
    "max_score": 4,
    "precision": 1,
    "question": "9a"
   },
   "outputs": [],
   "source": [
    "simplify(inv(A)[1,3])"
   ]
  },
  {
   "cell_type": "markdown",
   "metadata": {},
   "source": [
    "9b. (5 pts.) Evaluate the expression below and without being autograded notice that this is \n",
    "determinant of A[2:3,1:2]/det(A) and the numerator is half the derivative.  We can conclude\n",
    "that the derivative is 0 exactly when the corresponding subdeterminant is 0."
   ]
  },
  {
   "cell_type": "code",
   "execution_count": null,
   "metadata": {
    "collapsed": false,
    "max_attempts": 1000,
    "max_score": 5,
    "question": "9b"
   },
   "outputs": [],
   "source": []
  },
  {
   "cell_type": "markdown",
   "metadata": {
    "collapsed": true
   },
   "source": [
    "## Problem 10.  Positive Definite Matrices\n",
    "\n",
    "Now suppose I have a symmetric, positive definite, 4 by 4 matrix A. But now we are missing more data. \n",
    "\n",
    "${A = \\begin{bmatrix}  3 &  1 &  x &  y\\\\ 1 &  4 &  2 &  z\\\\ x &  2 &  5 &  1\\\\ y &  z &  1 &  7 \\end{bmatrix}}$\n",
    "\n",
    "Turns out we can maximize this determinant as well."
   ]
  },
  {
   "cell_type": "code",
   "execution_count": 30,
   "metadata": {
    "collapsed": false
   },
   "outputs": [
    {
     "data": {
      "text/latex": [
       "\\begin{bmatrix}3&1&x&y\\\\1&4&2&z\\\\x&2&5&1\\\\y&z&1&7\\end{bmatrix}"
      ],
      "text/plain": [
       "4x4 Array{Sym,2}\n",
       "[3  1  x  y]\n",
       "[          ]\n",
       "[1  4  2  z]\n",
       "[          ]\n",
       "[x  2  5  1]\n",
       "[          ]\n",
       "[y  z  1  7]"
      ]
     },
     "execution_count": 30,
     "metadata": {},
     "output_type": "execute_result"
    }
   ],
   "source": [
    "# Let's get the matrix into Julia\n",
    "using SymPy  # If you run twice the warning messages disappear\n",
    "x=Sym(\"x\")\n",
    "y=Sym(\"y\")\n",
    "z=Sym(\"z\")\n",
    "A=[[3 1 x y],[1 4 2 z],[x 2 5 1],[y z 1 7]]"
   ]
  },
  {
   "cell_type": "code",
   "execution_count": 31,
   "metadata": {
    "collapsed": false
   },
   "outputs": [
    {
     "data": {
      "text/latex": [
       "$$\\frac{- 4 x + 2}{- 4 x^{2} + 4 x + 43}$$"
      ],
      "text/plain": [
       "   2*(-2*x + 1)  \n",
       "-----------------\n",
       "     2           \n",
       "- 4*x  + 4*x + 43"
      ]
     },
     "execution_count": 31,
     "metadata": {},
     "output_type": "execute_result"
    }
   ],
   "source": [
    "simplify(inv(A[1:3,1:3])[3,1])"
   ]
  },
  {
   "cell_type": "markdown",
   "metadata": {},
   "source": [
    "10a (2 pt.) Set the above equal to 0 to solve for x (again).  It maximizes the 3x3 determinant. The value of\n",
    "x is (same as in problem 9)"
   ]
  },
  {
   "cell_type": "code",
   "execution_count": null,
   "metadata": {
    "collapsed": false,
    "max_attempts": 1000,
    "max_score": 2,
    "precision": 1,
    "question": "10a"
   },
   "outputs": [],
   "source": []
  },
  {
   "cell_type": "code",
   "execution_count": 33,
   "metadata": {
    "collapsed": false
   },
   "outputs": [
    {
     "data": {
      "text/latex": [
       "$$\\frac{- 5 z + 2}{- 5 z^{2} + 4 z + 108}$$"
      ],
      "text/plain": [
       "     -5*z + 2     \n",
       "------------------\n",
       "     2            \n",
       "- 5*z  + 4*z + 108"
      ]
     },
     "execution_count": 33,
     "metadata": {},
     "output_type": "execute_result"
    }
   ],
   "source": [
    "simplify(inv(A[2:4,2:4])[3,1])"
   ]
  },
  {
   "cell_type": "markdown",
   "metadata": {},
   "source": [
    "10b (2 pt.)  Do the same for the bottom 3x3 getting a value for z. The value for z that makes the above 0\n",
    "is ??"
   ]
  },
  {
   "cell_type": "code",
   "execution_count": null,
   "metadata": {
    "collapsed": false,
    "max_attempts": 1000,
    "max_score": 2,
    "question": "10b"
   },
   "outputs": [],
   "source": []
  },
  {
   "cell_type": "code",
   "execution_count": 43,
   "metadata": {
    "collapsed": false
   },
   "outputs": [
    {
     "data": {
      "text/latex": [
       "$$- 32.0 y + 3.2$$"
      ],
      "text/plain": [
       "--32.0*(-1)*y + 3.2"
      ]
     },
     "execution_count": 43,
     "metadata": {},
     "output_type": "execute_result"
    }
   ],
   "source": [
    "x=       # Fill in the correct x\n",
    "z=       # Fill in the correct z\n",
    "y=Sym(\"y\")\n",
    "A=[[3 1 x y],[1 4 2 z],[x 2 5 1],[y z 1 7]]\n",
    "det(A)\n",
    "simplify(diff( det(A) , y))\n"
   ]
  },
  {
   "cell_type": "markdown",
   "metadata": {
    "collapsed": true
   },
   "source": [
    "10c. (2 pt) Now let's do the same for y. Solve the above equals 0 for y.\n",
    "\n",
    "The value of y is"
   ]
  },
  {
   "cell_type": "code",
   "execution_count": null,
   "metadata": {
    "collapsed": false,
    "max_attempts": 1000,
    "max_score": 2,
    "question": "10c"
   },
   "outputs": [],
   "source": []
  },
  {
   "cell_type": "markdown",
   "metadata": {},
   "source": [
    "10d. (2 pts) The maximum value of the determinant of A is then"
   ]
  },
  {
   "cell_type": "code",
   "execution_count": null,
   "metadata": {
    "collapsed": false,
    "max_attempts": 1000,
    "max_score": 4,
    "question": "10d"
   },
   "outputs": [],
   "source": [
    "#x=   # ??\n",
    "#y=    # ??\n",
    "#z=    # ??\n",
    "A=[[3 1 x y],[1 4 2 z],[x 2 5 1],[y z 1 7]]\n",
    "det(A)"
   ]
  },
  {
   "cell_type": "markdown",
   "metadata": {},
   "source": [
    "We can't test this but we'd like you to look at inv(A) and think of anything really small as roundoff error (0).\n",
    "Notice the structure."
   ]
  },
  {
   "cell_type": "code",
   "execution_count": 46,
   "metadata": {
    "collapsed": false
   },
   "outputs": [
    {
     "data": {
      "text/plain": [
       "4x4 Array{Float64,2}:\n",
       "  0.363636     -0.0909091    -2.04085e-19   1.02043e-18\n",
       " -0.0909091     0.335227     -0.125        -2.04085e-18\n",
       " -3.46945e-18  -0.125         0.255882     -0.0294118  \n",
       "  8.67362e-19  -3.46945e-18  -0.0294118     0.147059   "
      ]
     },
     "execution_count": 46,
     "metadata": {},
     "output_type": "execute_result"
    }
   ],
   "source": [
    "inv(A)"
   ]
  },
  {
   "cell_type": "code",
   "execution_count": 48,
   "metadata": {
    "collapsed": false
   },
   "outputs": [
    {
     "data": {
      "text/html": [],
      "text/plain": [
       "Options{:ToggleButtons,ASCIIString}([Input{ASCIIString}] score,\"report\",\"score\",\"Score\",OptionDict({\"Score\",\"Incorrect attempts\"},{\"Score\"=>\"score\",\"Incorrect attempts\"=>\"attempts\"}),None[],None[])"
      ]
     },
     "metadata": {},
     "output_type": "display_data"
    },
    {
     "data": {
      "text/html": [
       "<table class=\"data-frame\"><tr><th></th><th>Names</th><th>total</th><th>1a</th><th>1b</th><th>2a</th><th>2b</th><th>3a</th><th>3b</th><th>3c</th><th>3d</th><th>3e</th><th>4</th><th>5</th><th>6a</th><th>6b</th><th>6c</th><th>7a</th><th>7b</th><th>7c</th><th>7d</th><th>8a</th><th>8b</th><th>8c</th><th>8d</th><th>9a</th><th>9b</th><th>10a</th><th>10b</th><th>10c</th><th>10d</th></tr><tr><th>1</th><td>MAX</td><td><span style=\"color: black\">45.0</span></td><td><span style=\"color: black\">2.0</span></td><td><span style=\"color: black\">1.0</span></td><td><span style=\"color: black\">1.0</span></td><td><span style=\"color: black\">1.0</span></td><td><span style=\"color: black\">1.0</span></td><td><span style=\"color: black\">1.0</span></td><td><span style=\"color: black\">1.0</span></td><td><span style=\"color: black\">1.0</span></td><td><span style=\"color: black\">1.0</span></td><td><span style=\"color: black\">3.0</span></td><td><span style=\"color: black\">2.0</span></td><td><span style=\"color: black\">2.0</span></td><td><span style=\"color: black\">2.0</span></td><td><span style=\"color: black\">2.0</span></td><td><span style=\"color: black\">0.25</span></td><td><span style=\"color: black\">0.25</span></td><td><span style=\"color: black\">0.25</span></td><td><span style=\"color: black\">0.25</span></td><td><span style=\"color: black\">1.0</span></td><td><span style=\"color: black\">1.0</span></td><td><span style=\"color: black\">1.0</span></td><td><span style=\"color: black\">1.0</span></td><td><span style=\"color: black\">4.0</span></td><td><span style=\"color: black\">5.0</span></td><td><span style=\"color: black\">2.0</span></td><td><span style=\"color: black\">2.0</span></td><td><span style=\"color: black\">2.0</span></td><td><span style=\"color: black\">4.0</span></td></tr></table>"
      ],
      "text/plain": [
       "1x30 DataFrame\n",
       "| Row | Names | total                 | 1a                     |\n",
       "|-----|-------|-----------------------|------------------------|\n",
       "| 1   | \"MAX\" | Colored(\"black\",45.0) | Colored(\"black\",\"2.0\") |\n",
       "\n",
       "| Row | 1b                     | 2a                     |\n",
       "|-----|------------------------|------------------------|\n",
       "| 1   | Colored(\"black\",\"1.0\") | Colored(\"black\",\"1.0\") |\n",
       "\n",
       "| Row | 2b                     | 3a                     |\n",
       "|-----|------------------------|------------------------|\n",
       "| 1   | Colored(\"black\",\"1.0\") | Colored(\"black\",\"1.0\") |\n",
       "\n",
       "| Row | 3b                     | 3c                     |\n",
       "|-----|------------------------|------------------------|\n",
       "| 1   | Colored(\"black\",\"1.0\") | Colored(\"black\",\"1.0\") |\n",
       "\n",
       "| Row | 3d                     | 3e                     |\n",
       "|-----|------------------------|------------------------|\n",
       "| 1   | Colored(\"black\",\"1.0\") | Colored(\"black\",\"1.0\") |\n",
       "\n",
       "| Row | 4                      | 5                      |\n",
       "|-----|------------------------|------------------------|\n",
       "| 1   | Colored(\"black\",\"3.0\") | Colored(\"black\",\"2.0\") |\n",
       "\n",
       "| Row | 6a                     | 6b                     |\n",
       "|-----|------------------------|------------------------|\n",
       "| 1   | Colored(\"black\",\"2.0\") | Colored(\"black\",\"2.0\") |\n",
       "\n",
       "| Row | 6c                     | 7a                      |\n",
       "|-----|------------------------|-------------------------|\n",
       "| 1   | Colored(\"black\",\"2.0\") | Colored(\"black\",\"0.25\") |\n",
       "\n",
       "| Row | 7b                      | 7c                      |\n",
       "|-----|-------------------------|-------------------------|\n",
       "| 1   | Colored(\"black\",\"0.25\") | Colored(\"black\",\"0.25\") |\n",
       "\n",
       "| Row | 7d                      | 8a                     |\n",
       "|-----|-------------------------|------------------------|\n",
       "| 1   | Colored(\"black\",\"0.25\") | Colored(\"black\",\"1.0\") |\n",
       "\n",
       "| Row | 8b                     | 8c                     |\n",
       "|-----|------------------------|------------------------|\n",
       "| 1   | Colored(\"black\",\"1.0\") | Colored(\"black\",\"1.0\") |\n",
       "\n",
       "| Row | 8d                     | 9a                     |\n",
       "|-----|------------------------|------------------------|\n",
       "| 1   | Colored(\"black\",\"1.0\") | Colored(\"black\",\"4.0\") |\n",
       "\n",
       "| Row | 9b                     | 10a                    |\n",
       "|-----|------------------------|------------------------|\n",
       "| 1   | Colored(\"black\",\"5.0\") | Colored(\"black\",\"2.0\") |\n",
       "\n",
       "| Row | 10b                    | 10c                    |\n",
       "|-----|------------------------|------------------------|\n",
       "| 1   | Colored(\"black\",\"2.0\") | Colored(\"black\",\"2.0\") |\n",
       "\n",
       "| Row | 10d                    |\n",
       "|-----|------------------------|\n",
       "| 1   | Colored(\"black\",\"4.0\") |"
      ]
     },
     "execution_count": 48,
     "metadata": {
      "comm_id": "e840f770-211e-48c4-9d3f-f9ec160f5c5e",
      "reactive": true
     },
     "output_type": "execute_result"
    }
   ],
   "source": [
    "Homework.progress()"
   ]
  }
 ],
 "metadata": {
  "homework": {
   "course": "MIT-18.06-Spring-2015",
   "mode": "answering",
   "problemset": "pset8"
  },
  "kernelspec": {
   "display_name": "Julia 0.3.11",
   "language": "julia",
   "name": "julia-0.3"
  },
  "language_info": {
   "file_extension": ".jl",
   "mimetype": "application/julia",
   "name": "julia",
   "version": "0.3.11"
  }
 },
 "nbformat": 4,
 "nbformat_minor": 0
}
