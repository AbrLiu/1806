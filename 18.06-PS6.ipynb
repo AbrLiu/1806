{
 "cells": [
  {
   "cell_type": "code",
   "execution_count": 2,
   "metadata": {
    "collapsed": false
   },
   "outputs": [
    {
     "name": "stderr",
     "output_type": "stream",
     "text": [
      "INFO: Removing Homework (unregistered)\n",
      "INFO: Cloning Homework from git://github.com/shashi/Homework.jl.git\n",
      "INFO: Computing changes...\n"
     ]
    },
    {
     "data": {
      "text/html": [
       "<script charset=\"utf-8\">(function ($, undefined) {\n",
       "\n",
       "    function createElem(tag, attr, content) {\n",
       "\t// TODO: remove jQuery dependency\n",
       "\tvar el = $(\"<\" + tag + \"/>\").attr(attr);\n",
       "\tif (content) {\n",
       "\t    el.append(content);\n",
       "\t}\n",
       "\treturn el[0];\n",
       "    }\n",
       "\n",
       "    // A widget must expose an id field which identifies it to the backend,\n",
       "    // an elem attribute which is will be added to the DOM, and\n",
       "    // a getState() method which returns the value to be sent to the backend\n",
       "    // a sendUpdate() method which sends its current value to the backend\n",
       "    var Widget = {\n",
       "\tid: undefined,\n",
       "\telem: undefined,\n",
       "\tlabel: undefined,\n",
       "\tgetState: function () {\n",
       "\t    return this.elem.value;\n",
       "\t},\n",
       "\tsendUpdate: undefined\n",
       "    };\n",
       "\n",
       "    var Slider = function (typ, id, init) {\n",
       "\tvar attr = { type:  \"range\",\n",
       "\t\t     value: init.value,\n",
       "\t\t     min:   init.min,\n",
       "\t\t     max:   init.max,\n",
       "\t\t     step:  init.step },\n",
       "\t    elem = createElem(\"input\", attr),\n",
       "\t    self = this;\n",
       "\n",
       "\telem.onchange = function () {\n",
       "\t    self.sendUpdate();\n",
       "\t}\n",
       "\n",
       "\tthis.id = id;\n",
       "\tthis.elem = elem;\n",
       "\tthis.label = init.label;\n",
       "\n",
       "\tInputWidgets.commInitializer(this); // Initialize communication\n",
       "    }\n",
       "    Slider.prototype = Widget;\n",
       "\n",
       "    var Checkbox = function (typ, id, init) {\n",
       "\tvar attr = { type: \"checkbox\",\n",
       "\t\t     checked: init.value },\n",
       "\t    elem = createElem(\"input\", attr),\n",
       "\t    self = this;\n",
       "\n",
       "\tthis.getState = function () {\n",
       "\t    return elem.checked;\n",
       "\t}\n",
       "\telem.onchange = function () {\n",
       "\t    self.sendUpdate();\n",
       "\t}\n",
       "\n",
       "\tthis.id = id;\n",
       "\tthis.elem = elem;\n",
       "\tthis.label = init.label;\n",
       "\n",
       "\tInputWidgets.commInitializer(this);\n",
       "    }\n",
       "    Checkbox.prototype = Widget;\n",
       "\n",
       "    var Button = function (typ, id, init) {\n",
       "\tvar attr = { type:    \"button\",\n",
       "\t\t     value:   init.label },\n",
       "\t    elem = createElem(\"input\", attr),\n",
       "\t    self = this;\n",
       "\tthis.getState = function () {\n",
       "\t    return null;\n",
       "\t}\n",
       "\telem.onclick = function () {\n",
       "\t    self.sendUpdate();\n",
       "\t}\n",
       "\n",
       "\tthis.id = id;\n",
       "\tthis.elem = elem;\n",
       "\tthis.label = init.label;\n",
       "\n",
       "\tInputWidgets.commInitializer(this);\n",
       "    }\n",
       "    Button.prototype = Widget;\n",
       "\n",
       "    var Text = function (typ, id, init) {\n",
       "\tvar attr = { type:  \"text\",\n",
       "\t\t     placeholder: init.label,\n",
       "\t\t     value: init.value },\n",
       "\t    elem = createElem(\"input\", attr),\n",
       "\t    self = this;\n",
       "\tthis.getState = function () {\n",
       "\t    return elem.value;\n",
       "\t}\n",
       "\telem.onkeyup = function () {\n",
       "\t    self.sendUpdate();\n",
       "\t}\n",
       "\n",
       "\tthis.id = id;\n",
       "\tthis.elem = elem;\n",
       "\tthis.label = init.label;\n",
       "\n",
       "\tInputWidgets.commInitializer(this);\n",
       "    }\n",
       "    Text.prototype = Widget;\n",
       "\n",
       "    var Textarea = function (typ, id, init) {\n",
       "\tvar attr = { placeholder: init.label },\n",
       "\t    elem = createElem(\"textarea\", attr, init.value),\n",
       "\t    self = this;\n",
       "\tthis.getState = function () {\n",
       "\t    return elem.value;\n",
       "\t}\n",
       "\telem.onchange = function () {\n",
       "\t    self.sendUpdate();\n",
       "\t}\n",
       "\n",
       "\tthis.id = id;\n",
       "\tthis.elem = elem;\n",
       "\tthis.label = init.label;\n",
       "\n",
       "\tInputWidgets.commInitializer(this);\n",
       "    }\n",
       "    Textarea.prototype = Widget;\n",
       "\n",
       "    // RadioButtons\n",
       "    // Dropdown\n",
       "    // HTML\n",
       "    // Latex\n",
       "\n",
       "    var InputWidgets = {\n",
       "\tSlider: Slider,\n",
       "\tCheckbox: Checkbox,\n",
       "\tButton: Button,\n",
       "\tText: Text,\n",
       "\tTextarea: Textarea,\n",
       "\tdebug: false,\n",
       "\tlog: function () {\n",
       "\t    if (InputWidgets.debug) {\n",
       "\t\tconsole.log.apply(console, arguments);\n",
       "\t    }\n",
       "\t},\n",
       "\t// a central way to initalize communication\n",
       "\t// for widgets.\n",
       "\tcommInitializer: function (widget) {\n",
       "\t    widget.sendUpdate = function () {};\n",
       "\t}\n",
       "    };\n",
       "\n",
       "    window.InputWidgets = InputWidgets;\n",
       "\n",
       "})(jQuery, undefined);\n",
       "</script>"
      ]
     },
     "metadata": {},
     "output_type": "display_data"
    },
    {
     "data": {
      "text/html": [
       "<div id=\"interact-js-shim\">\n",
       "    <script charset=\"utf-8\">\n",
       "(function (IPython, $, _, MathJax, Widgets) {\n",
       "    $.event.special.destroyed = {\n",
       "\tremove: function(o) {\n",
       "\t    if (o.handler) {\n",
       "\t\to.handler.apply(this, arguments)\n",
       "\t    }\n",
       "\t}\n",
       "    }\n",
       "\n",
       "    var OutputArea = IPython.version >= \"4.0.0\" ? require(\"notebook/js/outputarea\").OutputArea : IPython.OutputArea;\n",
       "\n",
       "    var redrawValue = function (container, type, val) {\n",
       "\tvar selector = $(\"<div/>\");\n",
       "\tvar oa = new OutputArea(_.extend(selector, {\n",
       "\t    selector: selector,\n",
       "\t    prompt_area: true,\n",
       "\t    events: IPython.events,\n",
       "\t    keyboard_manager: IPython.keyboard_manager\n",
       "\t})); // Hack to work with IPython 2.1.0\n",
       "\n",
       "\tswitch (type) {\n",
       "\tcase \"image/png\":\n",
       "            var _src = 'data:' + type + ';base64,' + val;\n",
       "\t    $(container).find(\"img\").attr('src', _src);\n",
       "\t    break;\n",
       "\tdefault:\n",
       "\t    var toinsert = OutputArea.append_map[type].apply(\n",
       "\t\toa, [val, {}, selector]\n",
       "\t    );\n",
       "\t    $(container).empty().append(toinsert.contents());\n",
       "\t    selector.remove();\n",
       "\t}\n",
       "\tif (type === \"text/latex\" && MathJax) {\n",
       "\t    MathJax.Hub.Queue([\"Typeset\", MathJax.Hub, toinsert.get(0)]);\n",
       "\t}\n",
       "    }\n",
       "\n",
       "\n",
       "    $(document).ready(function() {\n",
       "\tWidgets.debug = false; // log messages etc in console.\n",
       "\tfunction initComm(evt, data) {\n",
       "\t    var comm_manager = data.kernel.comm_manager;\n",
       "        //_.extend(comm_manager.targets, require(\"widgets/js/widget\"))\n",
       "\t    comm_manager.register_target(\"Signal\", function (comm) {\n",
       "            comm.on_msg(function (msg) {\n",
       "                //Widgets.log(\"message received\", msg);\n",
       "                var val = msg.content.data.value;\n",
       "                $(\".signal-\" + comm.comm_id).each(function() {\n",
       "                var type = $(this).data(\"type\");\n",
       "                if (val[type]) {\n",
       "                    redrawValue(this, type, val[type], type);\n",
       "                }\n",
       "                });\n",
       "                delete val;\n",
       "                delete msg.content.data.value;\n",
       "            });\n",
       "\t    });\n",
       "\n",
       "\t    // coordingate with Comm and redraw Signals\n",
       "\t    // XXX: Test using Reactive here to improve performance\n",
       "\t    $([IPython.events]).on(\n",
       "\t\t'output_appended.OutputArea', function (event, type, value, md, toinsert) {\n",
       "\t\t    if (md && md.reactive) {\n",
       "                // console.log(md.comm_id);\n",
       "                toinsert.addClass(\"signal-\" + md.comm_id);\n",
       "                toinsert.data(\"type\", type);\n",
       "                // Signal back indicating the mimetype required\n",
       "                var comm_manager = IPython.notebook.kernel.comm_manager;\n",
       "                var comm = comm_manager.comms[md.comm_id];\n",
       "                comm.then(function (c) {\n",
       "                    c.send({action: \"subscribe_mime\",\n",
       "                       mime: type});\n",
       "                    toinsert.bind(\"destroyed\", function() {\n",
       "                        c.send({action: \"unsubscribe_mime\",\n",
       "                               mime: type});\n",
       "                    });\n",
       "                })\n",
       "\t\t    }\n",
       "\t    });\n",
       "\t}\n",
       "\n",
       "\ttry {\n",
       "\t    // try to initialize right away. otherwise, wait on the status_started event.\n",
       "\t    initComm(undefined, IPython.notebook);\n",
       "\t} catch (e) {\n",
       "\t    $([IPython.events]).on('kernel_created.Kernel kernel_created.Session', initComm);\n",
       "\t}\n",
       "    });\n",
       "})(IPython, jQuery, _, MathJax, InputWidgets);\n",
       "</script>\n",
       "    <script>\n",
       "        window.interactLoadedFlag = true\n",
       "       $(\"#interact-js-shim\").bind(\"destroyed\", function () {\n",
       "           if (window.interactLoadedFlag) {\n",
       "               console.warn(\"JavaScript required by Interact will be removed if you remove this cell or run using Interact more than once.\")\n",
       "           }\n",
       "       })\n",
       "       $([IPython.events]).on(\"kernel_starting.Kernel kernel_restarting.Kernel\", function () { window.interactLoadedFlag = false })\n",
       "   </script>\n",
       "</div>"
      ]
     },
     "metadata": {},
     "output_type": "display_data"
    },
    {
     "name": "stderr",
     "output_type": "stream",
     "text": [
      "INFO: No packages to install, update or remove\n",
      "WARNING: This version of the GnuTLS library (3.2.11) is deprecated\n",
      "and contains known security vulnerabilities. Please upgrade to a\n",
      "more recent version.\n"
     ]
    },
    {
     "data": {
      "text/html": [
       "<script>(function ($) {\n",
       "        // hijack IPython's methods of all CodeCells with the required metadata\n",
       "    if (!window.Homework) {\n",
       "        var get_text = IPython.CodeCell.prototype.get_text\n",
       "        IPython.CodeCell.prototype.get_text = function () {\n",
       "            if (this.metadata && typeof(this.metadata.question) !== \"undefined\") {\n",
       "                var fn = (Homework.mode() == \"create\") ? \"new_question\" : \"attempt_prompt\";\n",
       "                return 'Homework.' + fn + '(' + [\n",
       "                                         JSON.stringify(JSON.stringify(this.metadata)),\n",
       "                                         \"begin \\n\" + get_text.call(this) +\"\\n end\"\n",
       "                                       ].join(\", \") + \")\"\n",
       "            } else {\n",
       "                console.log(\"vs\", get_text.call(this))\n",
       "                return get_text.call(this)\n",
       "            }\n",
       "        }\n",
       "\n",
       "        var cell_to_json = IPython.CodeCell.prototype.toJSON\n",
       "        IPython.CodeCell.prototype.toJSON = function () {\n",
       "            if (this.metadata && typeof(this.metadata.question) !== \"undefined\") {\n",
       "                data = cell_to_json.call(this)\n",
       "                data.source = get_text.call(this)\n",
       "                return data\n",
       "            } else {\n",
       "                return cell_to_json.call(this)\n",
       "            }\n",
       "        }\n",
       "\n",
       "        var rename_keys = IPython.OutputArea.prototype.rename_keys;\n",
       "        IPython.OutputArea.prototype.rename_keys = function (data, key_map) {\n",
       "            data = rename_keys(data, key_map)\n",
       "\n",
       "            if (data.metadata && data.metadata.reactive) {\n",
       "                var cls = \".signal-\" + data.metadata.comm_id\n",
       "                data.html = $(cls).eq(0).html()\n",
       "            }\n",
       "            return data\n",
       "        }\n",
       "\n",
       "        var delete_cell = IPython.Notebook.prototype.delete_cell\n",
       "        IPython.Notebook.prototype.delete_cell = function (index) {\n",
       "            var i = this.index_or_selected(index);\n",
       "            var cell = this.get_selected_cell();\n",
       "            if (cell.metadata && typeof(cell.metadata.question) !== \"undefined\") {\n",
       "                alert(\"Cannot delete this cell. You need to code the answer to Question \" + \n",
       "                        cell.metadata.question + \" here.\")\n",
       "            } else {\n",
       "                // go on and delete\n",
       "                delete_cell.call(this, i)\n",
       "            }\n",
       "        }\n",
       "    }\n",
       "\n",
       "\n",
       "    function get_question(q) {\n",
       "        var i = 0\n",
       "        var cell = IPython.notebook.get_cell(i)\n",
       "        while(cell !== null) {\n",
       "            if (cell.metadata && cell.metadata.question === q) {\n",
       "                return cell\n",
       "            }\n",
       "            cell = IPython.notebook.get_cell(i)\n",
       "            i+=1\n",
       "        }\n",
       "        return null\n",
       "    }\n",
       "\n",
       "    function mount_message(cell) {\n",
       "        if (!cell) { return }\n",
       "        var meta = cell.metadata,\n",
       "            msg = meta.msg || \"<span class='icon-terminal'></span> &nbsp; Code your answer above, hit &lt;Shift+Enter&gt;, then Submit. <span style='float: right'>\",\n",
       "            score = meta.score || 0,\n",
       "            max_score = meta.max_score || 0,\n",
       "            attempts = meta.attempts || 0,\n",
       "            max_attempts = meta.max_attempts || 0\n",
       "\n",
       "        msg += \"<span style='position:absolute; top: 0.5em; right:0.5em' class='label label-info'> Score: \"\n",
       "        if (Homework.mode() === \"answering\") {\n",
       "            msg += \"<b>\" + score + \"</b> / <b>\" + max_score + \"</b>\"\n",
       "        } else if (Homework.mode() === \"create\") {\n",
       "            msg += \"<b>\" + max_score + \"</b>\"\n",
       "        }\n",
       "\n",
       "        msg += \" &middot; Attempts: \"\n",
       "        if (Homework.mode() === \"answering\") {\n",
       "            msg += \"<b>\" + attempts + \"</b>\"\n",
       "            if (max_attempts != 0) {\n",
       "                msg += \" / <b>\" + max_attempts + \"</b>\"\n",
       "            }\n",
       "        } else if (Homework.mode() === \"create\") {\n",
       "            msg += \"<b>\" + max_attempts + \"</b>\"\n",
       "        }\n",
       "        msg += \"</span>\"\n",
       "\n",
       "        var level = meta.alert || \"info\"\n",
       "\n",
       "        msg = \"<div class='hw-msg alert alert-\" + level + \"' id='hw-msg-\" + meta.question +\n",
       "               \"' style='padding: 0.5em; margin: 0; position:relative; border-radius: 0'>\" +\n",
       "               msg + \"</div>\"\n",
       "\n",
       "        $(cell.element).find(\".hw-msg\").remove()\n",
       "        $(cell.element).find(\".input_area\").eq(0).append(msg)\n",
       "        if (cell.metadata.finished) { $(cell.element).find(\".widget-area\").hide() }\n",
       "    }\n",
       "\n",
       "    function set_meta(question, extension) {\n",
       "        console.log(\"set meta\", question, extension)\n",
       "        var cell = get_question(question)\n",
       "        for (var key in extension) {\n",
       "            if (extension.hasOwnProperty(key)) {\n",
       "                cell.metadata[key] = extension[key]\n",
       "            }\n",
       "        }\n",
       "        mount_message(cell)\n",
       "    }\n",
       "\n",
       "    function get_question_cells() {\n",
       "        var cell = IPython.notebook.get_cell(0),\n",
       "            i = 0,\n",
       "            cells = []\n",
       "        while(cell !== null) {\n",
       "            if (cell.metadata && typeof(cell.metadata.question) !== \"undefined\") {\n",
       "                var q = cell.metadata.question\n",
       "                cells.push(cell)\n",
       "            }\n",
       "            i+=1\n",
       "            cell = IPython.notebook.get_cell(i)\n",
       "        }\n",
       "        return cells\n",
       "    }\n",
       "\n",
       "    function hw_create(host, course, s, f) {\n",
       "        if(!s) {\n",
       "            s = function(result){\n",
       "                if(result.code == 0) {\n",
       "                    IPython.dialog.modal({\n",
       "                        title: 'Problemset created',\n",
       "                        body: \"The problem set was created. Now run <code>Homework.clear_answers()</code> to get the notebook ready for distribution.\"\n",
       "                    })\n",
       "                }\n",
       "                else {\n",
       "                    IPython.dialog.modal({\n",
       "                        title: 'Problemset NOT created',\n",
       "                        body: \"Non-zero result code. There was a problem saving the problem set!\"\n",
       "                    })\n",
       "                }\n",
       "            };\n",
       "        };\n",
       "        if(!f) {\n",
       "            f = function() {\n",
       "                    IPython.dialog.modal({\n",
       "                        title: 'Failure',\n",
       "                        body: \"Failed to create problem set. Are you sure you have permission to edit the course? Unexpected server error.\"\n",
       "                    })\n",
       "            };\n",
       "        };\n",
       "        console.log({\n",
       "            'mode': 'create',\n",
       "            'params': JSON.stringify(course)\n",
       "        })\n",
       "        $.ajax({\n",
       "            url: host + '/jboxplugin/hw/',\n",
       "            method: 'POST',\n",
       "            data: {\n",
       "                'mode': 'create',\n",
       "                'params': JSON.stringify(course)\n",
       "            },\n",
       "            success: s,\n",
       "            failure: f\n",
       "        })\n",
       "    }\n",
       "\n",
       "    function create_problemset(config) {\n",
       "        config = config || IPython.notebook.metadata.homework\n",
       "\n",
       "        var cells = get_question_cells()\n",
       "\n",
       "        if (!config.host) { config.host == \"\" }\n",
       "        var questions = []\n",
       "        for (var i=0, l=cells.length; i < l; i++) {\n",
       "            questions.push({\n",
       "                id:    String(cells[i].metadata.question),\n",
       "                score: cells[i].metadata.max_score,\n",
       "                attempts: cells[i].metadata.max_attempts,\n",
       "                ans:   cells[i].metadata.answer,\n",
       "                explanation: cells[i].metadata.explanation || \"\"\n",
       "            })\n",
       "        }\n",
       "\n",
       "        var course = {\n",
       "             admins: config.admins || [],\n",
       "             id: config.course,\n",
       "             problemsets: [{\n",
       "                 id: config.problemset,\n",
       "                 questions: questions\n",
       "             }]\n",
       "        }\n",
       "\n",
       "        console.log(course)\n",
       "\n",
       "        try {\n",
       "            hw_create(config.host || \"\", course)\n",
       "        } catch (e) {\n",
       "            alert(\"An error occured. Problem set not saved!\")\n",
       "        }\n",
       "   }\n",
       "\n",
       "   function clear_admin_metadata() {\n",
       "       var cells = get_question_cells()\n",
       "       for (var i=0, l=cells.length; i < l; i++) {\n",
       "           var cell = cells[i]\n",
       "           delete cell.metadata.answer\n",
       "           delete cell.metadata.msg\n",
       "           cell.metadata.finished && delete cell.metadata.finished\n",
       "           delete cell.metadata.alert\n",
       "       }\n",
       "       IPython.notebook.metadata.homework.mode = \"answering\"\n",
       "       Homework.refresh_messages()\n",
       "   }\n",
       "\n",
       "   function clear_answers() {\n",
       "       var cells = get_question_cells()\n",
       "       for (var i=0, l=cells.length; i < l; i++) {\n",
       "           var cell = cells[i]\n",
       "           cell.clear_input()\n",
       "           cell.clear_output()\n",
       "       }\n",
       "       IPython.notebook.metadata.homework.mode = \"answering\"\n",
       "       Homework.refresh_messages()\n",
       "   }\n",
       "\n",
       "    function refresh_messages(q) {\n",
       "        _.map(q ? [get_question(q)] : get_question_cells(), mount_message)\n",
       "    }\n",
       "\n",
       "    $([IPython.events]).on('notebook_loaded.Notebook', refresh_messages)\n",
       "    $([IPython.events]).on('select.Cell', refresh_messages)\n",
       "\n",
       "    setTimeout(refresh_messages, 100)\n",
       "    setTimeout(refresh_messages, 200)\n",
       "    setTimeout(refresh_messages, 400)\n",
       "    setTimeout(refresh_messages, 500)\n",
       "    setTimeout(refresh_messages, 1000)\n",
       "    setTimeout(refresh_messages, 2000)\n",
       "    setTimeout(refresh_messages, 4000)\n",
       "\n",
       "    $([IPython.events]).on('status_started.Kernel', function (data) {\n",
       "        var k = data.kernel || IPython.notebook.kernel\n",
       "        k.comm_manager.register_target(\"HomeworkData\", function (comm) {})\n",
       "    })\n",
       "    IPython.notebook && IPython.notebook.kernel &&\n",
       "        IPython.notebook.kernel.comm_manager.register_target(\"HomeworkData\", function (comm) {})\n",
       "\n",
       "    window.Homework = {\n",
       "        config: {},\n",
       "        metadata: function (field) {\n",
       "            return IPython.notebook.metadata.homework[field]\n",
       "        },\n",
       "        mode: function () {\n",
       "            return Homework.metadata(\"mode\") || \"answering\"\n",
       "        },\n",
       "        set_meta: set_meta,\n",
       "        mount_message: mount_message,\n",
       "        clear_answers: clear_answers,\n",
       "        clear_admin_metadata: clear_admin_metadata,\n",
       "        get_question: get_question,\n",
       "        get_question_cells: get_question_cells,\n",
       "        refresh_messages: refresh_messages,\n",
       "        create_problemset: create_problemset\n",
       "    }\n",
       "\n",
       "})(jQuery)\n",
       "</script>"
      ]
     },
     "metadata": {},
     "output_type": "display_data"
    },
    {
     "data": {
      "text/html": [
       "<script>IPython.notebook.kernel.comm_manager.comms[\"04ce8bea-7e60-4072-8ea3-b4fad8f093e4\"].then(\n",
       "    function (comm) {\n",
       "        comm.send({\n",
       "            cookie: document.cookie,\n",
       "            host: IPython.notebook.metadata.homework.host,\n",
       "            course: IPython.notebook.metadata.homework.course,\n",
       "            mode: IPython.notebook.metadata.homework.mode,\n",
       "            problemset: IPython.notebook.metadata.homework.problemset\n",
       "        })\n",
       "    }\n",
       ")</script>"
      ],
      "text/plain": [
       "Html(\"<script>IPython.notebook.kernel.comm_manager.comms[\\\"04ce8bea-7e60-4072-8ea3-b4fad8f093e4\\\"].then(\\n    function (comm) {\\n        comm.send({\\n            cookie: document.cookie,\\n            host: IPython.notebook.metadata.homework.host,\\n            course: IPython.notebook.metadata.homework.course,\\n            mode: IPython.notebook.metadata.homework.mode,\\n            problemset: IPython.notebook.metadata.homework.problemset\\n        })\\n    }\\n)</script>\")"
      ]
     },
     "metadata": {},
     "output_type": "display_data"
    },
    {
     "data": {
      "text/html": [
       "<iframe src=\"https://docs.google.com/forms/d/1uPqGeJChe0FFOsuUkdeLVbgPo9LzQEbRnS0xIzE-VGo/viewform?embedded=true\" width=\"720\" height=\"570\" frameborder=\"0\" marginheight=\"0\" marginwidth=\"0\">Loading...</iframe>"
      ]
     },
     "metadata": {},
     "output_type": "display_data"
    }
   ],
   "source": [
    "\n",
    "# Running this cell will set up auto-grading\n",
    "# It might take a while to execute.\n",
    "\n",
    "# Please fill in the MIT id form that appears below. You only need to do this once.\n",
    "\n",
    "Pkg.rm(\"Homework\")\n",
    "Pkg.clone(\"git://github.com/shashi/Homework.jl.git\")\n",
    "\n",
    "using Homework\n",
    "\n",
    "Homework.show_mit_form()"
   ]
  },
  {
   "cell_type": "code",
   "execution_count": 4,
   "metadata": {
    "collapsed": false
   },
   "outputs": [
    {
     "data": {
      "text/html": [],
      "text/plain": [
       "Options{:ToggleButtons,ASCIIString}([Input{ASCIIString}] score,\"report\",\"score\",\"Score\",OptionDict({\"Score\",\"Incorrect attempts\"},{\"Score\"=>\"score\",\"Incorrect attempts\"=>\"attempts\"}),None[],None[])"
      ]
     },
     "metadata": {},
     "output_type": "display_data"
    },
    {
     "data": {
      "text/html": [
       "<table class=\"data-frame\"><tr><th></th><th>Names</th><th>total</th><th>1a</th><th>1b</th><th>1c</th><th>1d</th><th>2a</th><th>2b</th><th>3a</th><th>3b</th><th>4</th><th>5a</th><th>5b</th><th>5c</th><th>5d</th><th>5e</th><th>5f</th><th>5g</th><th>5h</th><th>6a</th><th>6b</th><th>6c</th><th>6d</th><th>7a</th><th>7b</th><th>8</th><th>9a</th><th>9b</th><th>9c</th><th>10a</th><th>10b</th><th>10c</th><th>11a</th><th>11b</th><th>11c</th><th>11d</th></tr><tr><th>1</th><td>MAX</td><td><span style=\"color: black\">50.0</span></td><td><span style=\"color: black\">1.0</span></td><td><span style=\"color: black\">1.0</span></td><td><span style=\"color: black\">1.0</span></td><td><span style=\"color: black\">1.0</span></td><td><span style=\"color: black\">2.0</span></td><td><span style=\"color: black\">2.0</span></td><td><span style=\"color: black\">2.0</span></td><td><span style=\"color: black\">2.0</span></td><td><span style=\"color: black\">2.0</span></td><td><span style=\"color: black\">1.0</span></td><td><span style=\"color: black\">0.5</span></td><td><span style=\"color: black\">0.5</span></td><td><span style=\"color: black\">1.0</span></td><td><span style=\"color: black\">0.5</span></td><td><span style=\"color: black\">0.5</span></td><td><span style=\"color: black\">1.0</span></td><td><span style=\"color: black\">1.0</span></td><td><span style=\"color: black\">1.0</span></td><td><span style=\"color: black\">1.0</span></td><td><span style=\"color: black\">1.0</span></td><td><span style=\"color: black\">1.0</span></td><td><span style=\"color: black\">2.0</span></td><td><span style=\"color: black\">2.0</span></td><td><span style=\"color: black\">5.0</span></td><td><span style=\"color: black\">1.0</span></td><td><span style=\"color: black\">2.0</span></td><td><span style=\"color: black\">2.0</span></td><td><span style=\"color: black\">2.0</span></td><td><span style=\"color: black\">2.0</span></td><td><span style=\"color: black\">2.0</span></td><td><span style=\"color: black\">1.0</span></td><td><span style=\"color: black\">2.0</span></td><td><span style=\"color: black\">2.0</span></td><td><span style=\"color: black\">1.0</span></td></tr></table>"
      ],
      "text/plain": [
       "1x36 DataFrame\n",
       "| Row | Names | total                 | 1a                     |\n",
       "|-----|-------|-----------------------|------------------------|\n",
       "| 1   | \"MAX\" | Colored(\"black\",50.0) | Colored(\"black\",\"1.0\") |\n",
       "\n",
       "| Row | 1b                     | 1c                     |\n",
       "|-----|------------------------|------------------------|\n",
       "| 1   | Colored(\"black\",\"1.0\") | Colored(\"black\",\"1.0\") |\n",
       "\n",
       "| Row | 1d                     | 2a                     |\n",
       "|-----|------------------------|------------------------|\n",
       "| 1   | Colored(\"black\",\"1.0\") | Colored(\"black\",\"2.0\") |\n",
       "\n",
       "| Row | 2b                     | 3a                     |\n",
       "|-----|------------------------|------------------------|\n",
       "| 1   | Colored(\"black\",\"2.0\") | Colored(\"black\",\"2.0\") |\n",
       "\n",
       "| Row | 3b                     | 4                      |\n",
       "|-----|------------------------|------------------------|\n",
       "| 1   | Colored(\"black\",\"2.0\") | Colored(\"black\",\"2.0\") |\n",
       "\n",
       "| Row | 5a                     | 5b                     |\n",
       "|-----|------------------------|------------------------|\n",
       "| 1   | Colored(\"black\",\"1.0\") | Colored(\"black\",\"0.5\") |\n",
       "\n",
       "| Row | 5c                     | 5d                     |\n",
       "|-----|------------------------|------------------------|\n",
       "| 1   | Colored(\"black\",\"0.5\") | Colored(\"black\",\"1.0\") |\n",
       "\n",
       "| Row | 5e                     | 5f                     |\n",
       "|-----|------------------------|------------------------|\n",
       "| 1   | Colored(\"black\",\"0.5\") | Colored(\"black\",\"0.5\") |\n",
       "\n",
       "| Row | 5g                     | 5h                     |\n",
       "|-----|------------------------|------------------------|\n",
       "| 1   | Colored(\"black\",\"1.0\") | Colored(\"black\",\"1.0\") |\n",
       "\n",
       "| Row | 6a                     | 6b                     |\n",
       "|-----|------------------------|------------------------|\n",
       "| 1   | Colored(\"black\",\"1.0\") | Colored(\"black\",\"1.0\") |\n",
       "\n",
       "| Row | 6c                     | 6d                     |\n",
       "|-----|------------------------|------------------------|\n",
       "| 1   | Colored(\"black\",\"1.0\") | Colored(\"black\",\"1.0\") |\n",
       "\n",
       "| Row | 7a                     | 7b                     |\n",
       "|-----|------------------------|------------------------|\n",
       "| 1   | Colored(\"black\",\"2.0\") | Colored(\"black\",\"2.0\") |\n",
       "\n",
       "| Row | 8                      | 9a                     |\n",
       "|-----|------------------------|------------------------|\n",
       "| 1   | Colored(\"black\",\"5.0\") | Colored(\"black\",\"1.0\") |\n",
       "\n",
       "| Row | 9b                     | 9c                     |\n",
       "|-----|------------------------|------------------------|\n",
       "| 1   | Colored(\"black\",\"2.0\") | Colored(\"black\",\"2.0\") |\n",
       "\n",
       "| Row | 10a                    | 10b                    |\n",
       "|-----|------------------------|------------------------|\n",
       "| 1   | Colored(\"black\",\"2.0\") | Colored(\"black\",\"2.0\") |\n",
       "\n",
       "| Row | 10c                    | 11a                    |\n",
       "|-----|------------------------|------------------------|\n",
       "| 1   | Colored(\"black\",\"2.0\") | Colored(\"black\",\"1.0\") |\n",
       "\n",
       "| Row | 11b                    | 11c                    |\n",
       "|-----|------------------------|------------------------|\n",
       "| 1   | Colored(\"black\",\"2.0\") | Colored(\"black\",\"2.0\") |\n",
       "\n",
       "| Row | 11d                    |\n",
       "|-----|------------------------|\n",
       "| 1   | Colored(\"black\",\"1.0\") |"
      ]
     },
     "execution_count": 4,
     "metadata": {
      "comm_id": "16550db4-20b8-4fc0-a09a-8fe8f9b93490",
      "reactive": true
     },
     "output_type": "execute_result"
    }
   ],
   "source": [
    "Homework.progress()"
   ]
  },
  {
   "cell_type": "markdown",
   "metadata": {},
   "source": [
    "## Problem 1. Determinants"
   ]
  },
  {
   "cell_type": "markdown",
   "metadata": {},
   "source": [
    "1a) (1pt.) Let A and B be any two r×r square matrices for some r.\n",
    "\n",
    "If A is not invertible then AB is not invertible. (true/false)"
   ]
  },
  {
   "cell_type": "code",
   "execution_count": null,
   "metadata": {
    "attempts": 0,
    "collapsed": false,
    "max_attempts": 1000,
    "max_score": 1,
    "question": "1a",
    "status": 1
   },
   "outputs": [],
   "source": []
  },
  {
   "cell_type": "markdown",
   "metadata": {},
   "source": [
    "1b) (1pt.) The determinant of A is always the product of its pivots. (true/false)"
   ]
  },
  {
   "cell_type": "code",
   "execution_count": null,
   "metadata": {
    "attempts": 0,
    "collapsed": false,
    "max_attempts": 1000,
    "max_score": 1,
    "question": "1b",
    "status": 1
   },
   "outputs": [],
   "source": []
  },
  {
   "cell_type": "markdown",
   "metadata": {},
   "source": [
    "1c) (1pt.) The determinant of A−B always equals detA − detB (true/false)"
   ]
  },
  {
   "cell_type": "code",
   "execution_count": null,
   "metadata": {
    "attempts": 0,
    "collapsed": false,
    "max_attempts": 1000,
    "max_score": 1,
    "question": "1c",
    "status": 1
   },
   "outputs": [],
   "source": []
  },
  {
   "cell_type": "markdown",
   "metadata": {},
   "source": [
    "1d) AB and BA must have the same determinant. (true/false)"
   ]
  },
  {
   "cell_type": "code",
   "execution_count": null,
   "metadata": {
    "attempts": 0,
    "collapsed": false,
    "max_attempts": 1000,
    "max_score": 1,
    "question": "1d",
    "status": 1
   },
   "outputs": [],
   "source": []
  },
  {
   "cell_type": "markdown",
   "metadata": {},
   "source": [
    "## Problem 2. Placing Zeroes"
   ]
  },
  {
   "cell_type": "markdown",
   "metadata": {},
   "source": [
    "2a) (2pt.) What is the smallest number of zeroes that one can place in a 4 by 4 matrix A to guarantee that detA = 0? (Int)"
   ]
  },
  {
   "cell_type": "code",
   "execution_count": null,
   "metadata": {
    "attempts": 0,
    "collapsed": false,
    "max_attempts": 1000,
    "max_score": 2,
    "question": "2a",
    "status": 1
   },
   "outputs": [],
   "source": []
  },
  {
   "cell_type": "markdown",
   "metadata": {},
   "source": [
    "2b) (2 pt.) What is the largest number of zeroes that one can place in a 4 by 4 matrix A while still having detA≠0? (Int)"
   ]
  },
  {
   "cell_type": "code",
   "execution_count": null,
   "metadata": {
    "attempts": 0,
    "collapsed": false,
    "max_attempts": 1000,
    "max_score": 2,
    "question": "2b",
    "status": 1
   },
   "outputs": [],
   "source": []
  },
  {
   "cell_type": "markdown",
   "metadata": {},
   "source": [
    "## Problem 3. Computing the Inverse of a Matrix"
   ]
  },
  {
   "cell_type": "markdown",
   "metadata": {},
   "source": [
    "3a) (2 pt.) Find A$^{-1}$ from the cofactor formula C$^T$/detA.\n",
    "\n",
    "$A = \\left( \\begin{array}\\\\ 1 & 2 & 0 \\\\ 0 & 3 & 0 \\\\ 0 & 7 & 1 \\end{array} \\right)$\n",
    "\n",
    "(Format [a b c; d e f;g h i], use p//q for fractions)"
   ]
  },
  {
   "cell_type": "code",
   "execution_count": null,
   "metadata": {
    "attempts": 0,
    "collapsed": false,
    "max_attempts": 1000,
    "max_score": 2,
    "question": "3a",
    "status": 1
   },
   "outputs": [],
   "source": []
  },
  {
   "cell_type": "markdown",
   "metadata": {},
   "source": [
    "3b) (2 pt.) Find A$^{-1}$ from the cofactor formula C$^T$/detA.\n",
    "\n",
    "$A = \\left( \\begin{array}\\\\ 2 & -1 & 0 \\\\ -1 & 2 & -1 \\\\ 0 & -1 & 2 \\end{array} \\right)$\n",
    "\n",
    "(Format [a b c; d e f;g h i], use p//q for fractions)"
   ]
  },
  {
   "cell_type": "code",
   "execution_count": null,
   "metadata": {
    "attempts": 0,
    "collapsed": false,
    "max_attempts": 1000,
    "max_score": 2,
    "question": "3b",
    "status": 1
   },
   "outputs": [],
   "source": []
  },
  {
   "cell_type": "markdown",
   "metadata": {},
   "source": [
    "## Problem 4. Maximum Determinant"
   ]
  },
  {
   "cell_type": "markdown",
   "metadata": {},
   "source": [
    "(2 pts.) What is the maximum determinant of a 4 by 4 matrix with entries all 1 or −1?"
   ]
  },
  {
   "cell_type": "code",
   "execution_count": null,
   "metadata": {
    "attempts": 0,
    "collapsed": false,
    "max_attempts": 1000,
    "max_score": 2,
    "question": "4",
    "status": 1
   },
   "outputs": [],
   "source": []
  },
  {
   "cell_type": "markdown",
   "metadata": {},
   "source": [
    "## Problem 5. Computing Eigenvalues and Eigenvectors"
   ]
  },
  {
   "cell_type": "markdown",
   "metadata": {},
   "source": [
    "5a.) (1pts) \n",
    "\n",
    "$A= \\left( \\begin{array} \\\\ -1 & 3 \\\\ 2 & 0 \\end{array} \\right)$\n",
    "\n",
    "What are the eigenvalues of A?  <br>\n",
    "        (Format: [$\\lambda_1, \\lambda_2]$  ints with $\\lambda_1<\\lambda_2$)"
   ]
  },
  {
   "cell_type": "code",
   "execution_count": null,
   "metadata": {
    "attempts": 0,
    "collapsed": false,
    "max_attempts": 1000,
    "max_score": 1,
    "question": "5a",
    "status": 1
   },
   "outputs": [],
   "source": []
  },
  {
   "cell_type": "markdown",
   "metadata": {},
   "source": [
    "5b) (1pt)\n",
    "What is  the eigenvector with eigenvalue $\\lambda_1$?\n",
    "\n",
    "(Format: [p,q] ints with p>0 and p and q have no common factors)"
   ]
  },
  {
   "cell_type": "code",
   "execution_count": null,
   "metadata": {
    "attempts": 0,
    "collapsed": false,
    "max_attempts": 1000,
    "max_score": 0.5,
    "question": "5b",
    "status": 1
   },
   "outputs": [],
   "source": []
  },
  {
   "cell_type": "markdown",
   "metadata": {},
   "source": [
    "5c) (0.5pt) What is the eigenvector with eigenvalue $λ_2$?\n",
    "\n",
    "(Format: [p,q] ints with p>0 and p and q have no common factors)"
   ]
  },
  {
   "cell_type": "code",
   "execution_count": null,
   "metadata": {
    "attempts": 0,
    "collapsed": false,
    "max_attempts": 1000,
    "max_score": 0.5,
    "question": "5c",
    "status": 1
   },
   "outputs": [],
   "source": []
  },
  {
   "cell_type": "markdown",
   "metadata": {},
   "source": [
    "5d) (0.5 pts) What are the eigenvalues of $A^2$? <br>\n",
    "(Format: [$\\lambda_1, \\lambda_2]$  ints with $\\lambda_1<\\lambda_2$)  (These  $\\lambda_1,\\lambda_2$ different from 5a)"
   ]
  },
  {
   "cell_type": "code",
   "execution_count": null,
   "metadata": {
    "attempts": 0,
    "collapsed": false,
    "max_attempts": 1000,
    "max_score": 1,
    "question": "5d",
    "status": 1
   },
   "outputs": [],
   "source": []
  },
  {
   "cell_type": "markdown",
   "metadata": {},
   "source": [
    "5e) (0.5pts)\n",
    "What is the eigenvector of $A^2$ with eigenvalue $\\lambda_2$ where $\\lambda_1<\\lambda_2$ are the eigenvalues of $A^2$?\n",
    "\n",
    "(Format: [p,q] ints with p>0 and p and q have no common factors)"
   ]
  },
  {
   "cell_type": "code",
   "execution_count": null,
   "metadata": {
    "attempts": 0,
    "collapsed": false,
    "max_attempts": 1000,
    "max_score": 0.5,
    "question": "5e",
    "status": 1
   },
   "outputs": [],
   "source": []
  },
  {
   "cell_type": "markdown",
   "metadata": {},
   "source": [
    "5f) (0.5pts)\n",
    "What is  the eigenvector of $A^2$ with eigenvalue $\\lambda_1$?\n",
    "\n",
    "(Format: [p,q] ints with p>0 and p and q have no common factors"
   ]
  },
  {
   "cell_type": "code",
   "execution_count": null,
   "metadata": {
    "attempts": 0,
    "collapsed": false,
    "max_attempts": 1000,
    "max_score": 0.5,
    "question": "5f",
    "status": 1
   },
   "outputs": [],
   "source": []
  },
  {
   "cell_type": "markdown",
   "metadata": {},
   "source": [
    "5g) (1 pt)\n",
    "Let A now be any 2 by 2 matrix. Then A$^2$ has the same ________ as A.\n",
    "\n",
    "1. eigenvalues <br>\n",
    "2. eigenvectors <br>\n",
    "3. determinant <br>\n",
    "4. characteristic polynomial \n",
    "\n",
    "(Format: 1,2,3,or 4)"
   ]
  },
  {
   "cell_type": "code",
   "execution_count": null,
   "metadata": {
    "attempts": 0,
    "collapsed": false,
    "max_attempts": 1000,
    "max_score": 1,
    "question": "5g",
    "status": 1
   },
   "outputs": [],
   "source": []
  },
  {
   "cell_type": "markdown",
   "metadata": {},
   "source": [
    "5h) (1 pt) When A has eigenvalues λ$_1$ and λ$_2$, A$^2$ has trace\n",
    "\n",
    "1. λ$_1$  + λ$_2$ <br>\n",
    "2. 2 λ$_1$  λ$_2$ <br>\n",
    "3.  (λ$_1$  + λ$_2$)$^2$ <br>\n",
    "4.  λ$_1^2$  + λ$_2^2$\n",
    "\n",
    "(Format: 1,2,3, or 4)"
   ]
  },
  {
   "cell_type": "code",
   "execution_count": null,
   "metadata": {
    "attempts": 0,
    "collapsed": false,
    "max_attempts": 1000,
    "max_score": 1,
    "question": "5h",
    "status": 1
   },
   "outputs": [],
   "source": []
  },
  {
   "cell_type": "markdown",
   "metadata": {},
   "source": [
    "## Problem 6. Extracting Information from Eigenvalues\n",
    "\n",
    "A 3 by 3 matrix B is known to have eigenvalues 0, 1, 2.\n",
    "\n"
   ]
  },
  {
   "cell_type": "markdown",
   "metadata": {},
   "source": [
    "6a) (1 pt) What is the rank of B?\n",
    "\n",
    "1. 1 <br>\n",
    "2. 2 <br>\n",
    "3. 3 <br>\n",
    "4. Can not be determined\n",
    "\n",
    "(Format: 1,2,3, or 4 from the choice numbers)"
   ]
  },
  {
   "cell_type": "code",
   "execution_count": null,
   "metadata": {
    "attempts": 0,
    "collapsed": false,
    "max_attempts": 1000,
    "max_score": 1,
    "question": "6a",
    "status": 1
   },
   "outputs": [],
   "source": []
  },
  {
   "cell_type": "markdown",
   "metadata": {},
   "source": [
    "6b) (1 pt) What is the determinant of B$^T$B ?\n",
    "\n",
    "\n",
    "1. 0 <br>\n",
    "2. 1 <br>\n",
    "3. 4 <br>\n",
    "4. Can not be determined\n",
    "\n",
    "(Format: 1,2,3, or 4 from the choice numbers, e.g. an answer of 3 means the determinant is 4)"
   ]
  },
  {
   "cell_type": "code",
   "execution_count": null,
   "metadata": {
    "attempts": 0,
    "collapsed": false,
    "max_attempts": 1000,
    "max_score": 1,
    "question": "6b",
    "status": 1
   },
   "outputs": [],
   "source": []
  },
  {
   "cell_type": "markdown",
   "metadata": {},
   "source": [
    "6c) (1 pt) What are the eigenvalues of B$^T$B ?\n",
    "\n",
    "\n",
    "1. 0,1,2 <br>\n",
    "2. 0,1,4 <br>\n",
    "3. 0,1,1  <br>\n",
    "4. Can not be determined\n",
    "\n",
    "(Format: 1,2,3, or 4 )"
   ]
  },
  {
   "cell_type": "code",
   "execution_count": null,
   "metadata": {
    "attempts": 0,
    "collapsed": false,
    "max_attempts": 1000,
    "max_score": 1,
    "question": "6c",
    "status": 1
   },
   "outputs": [],
   "source": []
  },
  {
   "cell_type": "markdown",
   "metadata": {},
   "source": [
    "6d) (1 pt) What are the eigenvalues of  $(B^2+I)^{-1}$?  (I is the 3x3 Identity)\n",
    "\n",
    "\n",
    "1. 0, 1/2, 1 <br>\n",
    "2. 1/5, 1/2, 1 <br>\n",
    "3. 1,2,5 <br>\n",
    "4. Can not be determined\n",
    "\n",
    "(Format: 1,2,3, or 4 )"
   ]
  },
  {
   "cell_type": "code",
   "execution_count": null,
   "metadata": {
    "attempts": 0,
    "collapsed": false,
    "max_attempts": 1000,
    "max_score": 1,
    "question": "6d",
    "status": 1
   },
   "outputs": [],
   "source": []
  },
  {
   "cell_type": "markdown",
   "metadata": {},
   "source": [
    "## Problem 7. Companion Matrices\n",
    "\n",
    "Choose the last rows of A and B to give eigenvalues 4,7 and 1,2,3:"
   ]
  },
  {
   "cell_type": "markdown",
   "metadata": {},
   "source": [
    "7a) (1 pt) $ A = \\left( \\begin{array} \\\\ 0 & 1 \\\\ * & * \\end{array} \\right) $\n",
    "\n",
    "Enter the last row of A to give eigenvalues 4,7 (Format: [a,b] ints)"
   ]
  },
  {
   "cell_type": "code",
   "execution_count": null,
   "metadata": {
    "attempts": 0,
    "collapsed": false,
    "max_attempts": 1000,
    "max_score": 2,
    "question": "7a",
    "status": 1
   },
   "outputs": [],
   "source": []
  },
  {
   "cell_type": "markdown",
   "metadata": {},
   "source": [
    "7b) (1 pt) $ B = \\left( \\begin{array} \\\\ 0 & 1 & 0 \\\\ 0 & 0 & 1 \\\\  * & * & * \\end{array} \\right) $\n",
    "\n",
    "Enter the last row of B  to give eigenvalues 1,2,3 (Format: [a,b,c] ints)"
   ]
  },
  {
   "cell_type": "code",
   "execution_count": null,
   "metadata": {
    "attempts": 0,
    "collapsed": false,
    "max_attempts": 1000,
    "max_score": 2,
    "question": "7b",
    "status": 1
   },
   "outputs": [],
   "source": []
  },
  {
   "cell_type": "markdown",
   "metadata": {},
   "source": [
    "## Problem 8. Determinant Formulas with Symbolic Julia"
   ]
  },
  {
   "cell_type": "code",
   "execution_count": 26,
   "metadata": {
    "collapsed": false
   },
   "outputs": [
    {
     "name": "stderr",
     "output_type": "stream",
     "text": [
      "Warning: error initializing module Plots:\n",
      "Base.MethodError(f=warn, args=(\"You don't have any of the supported backends installed!  Chose from \", Array{Symbol, 1}[:qwt, :gadfly, :unicodeplots, :pyplot, :immerse, :winston]))\n"
     ]
    }
   ],
   "source": [
    "using SymPy; #Takes a while to load, and comes with lots of ignorable warnings"
   ]
  },
  {
   "cell_type": "code",
   "execution_count": 27,
   "metadata": {
    "collapsed": false
   },
   "outputs": [
    {
     "data": {
      "text/latex": [
       "\\begin{bmatrix}x_{11}&x_{12}&x_{13}&x_{14}\\\\x_{21}&x_{22}&x_{23}&x_{24}\\\\x_{31}&x_{32}&x_{33}&x_{34}\\\\x_{41}&x_{42}&x_{43}&x_{44}\\end{bmatrix}"
      ],
      "text/plain": [
       "4x4 Array{Sym,2}\n",
       "[x11  x12  x13  x14]\n",
       "[                  ]\n",
       "[x21  x22  x23  x24]\n",
       "[                  ]\n",
       "[x31  x32  x33  x34]\n",
       "[                  ]\n",
       "[x41  x42  x43  x44]"
      ]
     },
     "execution_count": 27,
     "metadata": {},
     "output_type": "execute_result"
    }
   ],
   "source": [
    "# Make a pretty symbolic matrix\n",
    "X(n)=Sym[\"x$i$j\" for i=1:n, j=1:n]\n",
    "X(4)"
   ]
  },
  {
   "cell_type": "code",
   "execution_count": 28,
   "metadata": {
    "collapsed": false
   },
   "outputs": [
    {
     "data": {
      "text/plain": [
       "bigdet (generic function with 1 method)"
      ]
     },
     "execution_count": 28,
     "metadata": {},
     "output_type": "execute_result"
    }
   ],
   "source": [
    "# Quick and dirty big determinant formula\n",
    "parity(p) = int(det(eye(length(p))[p,:]))\n",
    "bigdet(M) = sum([parity(p) * prod([M[i,p[i]] for i=1:size(M,1)])  for p in permutations(1:size(M,1))])"
   ]
  },
  {
   "cell_type": "code",
   "execution_count": 29,
   "metadata": {
    "collapsed": false
   },
   "outputs": [
    {
     "data": {
      "text/latex": [
       "$$x_{11} x_{22} - x_{12} x_{21}$$"
      ],
      "text/plain": [
       "x11*x22 - x12*x21"
      ]
     },
     "execution_count": 29,
     "metadata": {},
     "output_type": "execute_result"
    }
   ],
   "source": [
    "bigdet(X(2))"
   ]
  },
  {
   "cell_type": "code",
   "execution_count": 30,
   "metadata": {
    "collapsed": false
   },
   "outputs": [
    {
     "data": {
      "text/latex": [
       "$$x_{11} x_{22} x_{33} - x_{11} x_{23} x_{32} - x_{12} x_{21} x_{33} + x_{12} x_{23} x_{31} + x_{13} x_{21} x_{32} - x_{13} x_{22} x_{31}$$"
      ],
      "text/plain": [
       "x11*x22*x33 - x11*x23*x32 - x12*x21*x33 + x12*x23*x31 + x13*x21*x32 - x13*x22*\n",
       "x31"
      ]
     },
     "execution_count": 30,
     "metadata": {},
     "output_type": "execute_result"
    }
   ],
   "source": [
    "bigdet(X(3))"
   ]
  },
  {
   "cell_type": "code",
   "execution_count": 31,
   "metadata": {
    "collapsed": false
   },
   "outputs": [
    {
     "data": {
      "text/latex": [
       "$$x_{11} x_{22} x_{33} x_{44} - x_{11} x_{22} x_{34} x_{43} - x_{11} x_{23} x_{32} x_{44} + x_{11} x_{23} x_{34} x_{42} + x_{11} x_{24} x_{32} x_{43} - x_{11} x_{24} x_{33} x_{42} - x_{12} x_{21} x_{33} x_{44} + x_{12} x_{21} x_{34} x_{43} + x_{12} x_{23} x_{31} x_{44} - x_{12} x_{23} x_{34} x_{41} - x_{12} x_{24} x_{31} x_{43} + x_{12} x_{24} x_{33} x_{41} + x_{13} x_{21} x_{32} x_{44} - x_{13} x_{21} x_{34} x_{42} - x_{13} x_{22} x_{31} x_{44} + x_{13} x_{22} x_{34} x_{41} + x_{13} x_{24} x_{31} x_{42} - x_{13} x_{24} x_{32} x_{41} - x_{14} x_{21} x_{32} x_{43} + x_{14} x_{21} x_{33} x_{42} + x_{14} x_{22} x_{31} x_{43} - x_{14} x_{22} x_{33} x_{41} - x_{14} x_{23} x_{31} x_{42} + x_{14} x_{23} x_{32} x_{41}$$"
      ],
      "text/plain": [
       "x11*x22*x33*x44 - x11*x22*x34*x43 - x11*x23*x32*x44 + x11*x23*x34*x42 + x11*x2\n",
       "4*x32*x43 - x11*x24*x33*x42 - x12*x21*x33*x44 + x12*x21*x34*x43 + x12*x23*x31*\n",
       "x44 - x12*x23*x34*x41 - x12*x24*x31*x43 + x12*x24*x33*x41 + x13*x21*x32*x44 - \n",
       "x13*x21*x34*x42 - x13*x22*x31*x44 + x13*x22*x34*x41 + x13*x24*x31*x42 - x13*x2\n",
       "4*x32*x41 - x14*x21*x32*x43 + x14*x21*x33*x42 + x14*x22*x31*x43 - x14*x22*x33*\n",
       "x41 - x14*x23*x31*x42 + x14*x23*x32*x41"
      ]
     },
     "execution_count": 31,
     "metadata": {},
     "output_type": "execute_result"
    }
   ],
   "source": [
    "bigdet(X(4))"
   ]
  },
  {
   "cell_type": "code",
   "execution_count": 32,
   "metadata": {
    "collapsed": false
   },
   "outputs": [
    {
     "data": {
      "text/latex": [
       "\\begin{bmatrix}x_{11}&x_{12}&x_{13}&x_{14}\\\\x_{11}&x_{12}&x_{13}&x_{14}\\\\x_{31}&x_{32}&x_{33}&x_{34}\\\\x_{41}&x_{42}&x_{43}&x_{44}\\end{bmatrix}"
      ],
      "text/plain": [
       "4x4 Array{Sym,2}\n",
       "[x11  x12  x13  x14]\n",
       "[                  ]\n",
       "[x11  x12  x13  x14]\n",
       "[                  ]\n",
       "[x31  x32  x33  x34]\n",
       "[                  ]\n",
       "[x41  x42  x43  x44]"
      ]
     },
     "execution_count": 32,
     "metadata": {},
     "output_type": "execute_result"
    }
   ],
   "source": [
    "Y=copy(X(4)) # Y is a copy of X(4)\n",
    "Y[2,:]=Y[1,:] # Set the second row to be equal to the first row\n",
    "Y"
   ]
  },
  {
   "cell_type": "code",
   "execution_count": 33,
   "metadata": {
    "collapsed": false
   },
   "outputs": [
    {
     "data": {
      "text/latex": [
       "$$0$$"
      ],
      "text/plain": [
       "0"
      ]
     },
     "execution_count": 33,
     "metadata": {},
     "output_type": "execute_result"
    }
   ],
   "source": [
    "# Notice what happens if the two first rows of a matrix are identical\n",
    "bigdet(Y)\n",
    "# You might try to find the terms that cancel when for example x₂₁=x₁₁, etc.\n",
    "# I find them hard to spot: here's one x11 x22 x33 x44 - x12 x21 x33 x44 (since x21->x11 and x22->x12 )\n",
    "# Ultimately there are 24 terms which may be grouped as 12 pairs \n",
    "# which will cancel when the first two rows are identical"
   ]
  },
  {
   "cell_type": "markdown",
   "metadata": {},
   "source": [
    "**Note: different from MITx **\n",
    "\n",
    "We'd be happy if you thought a bit more about determinants.\n",
    "\n",
    "Create a matrix Z whose 2nd row is equal to the sum of the 2nd row of X(4) and the first row of X(4). How does Z's determinant compare to the determinant of X(4)?"
   ]
  },
  {
   "cell_type": "code",
   "execution_count": null,
   "metadata": {
    "collapsed": false
   },
   "outputs": [],
   "source": [
    "\n",
    "\n",
    "Z=X(4)\n",
    "Z[2,:]=???\n",
    "Z\n"
   ]
  },
  {
   "cell_type": "code",
   "execution_count": null,
   "metadata": {
    "attempts": 0,
    "collapsed": false,
    "max_attempts": 1000,
    "max_score": 5,
    "question": "8",
    "status": 1
   },
   "outputs": [],
   "source": [
    "# (5 pts)\n",
    "# After defining Z, run this cell and evaluate your answer\n",
    "# Submit this cell without editing\n",
    "#(I know this seems lame, but i don't love the matlab problem in mitx either)\n",
    "\n",
    "\n",
    "simplify(bigdet(X(4)) - bigdet(Z))"
   ]
  },
  {
   "cell_type": "markdown",
   "metadata": {},
   "source": [
    "## Problem 9. Areas, determinants, and fun with manipulate"
   ]
  },
  {
   "cell_type": "markdown",
   "metadata": {},
   "source": [
    "Suppose that you have a matrix A which takes the basis vectors e$_1$=(1,0) and e$_2$=(0,1)  that lie along the square to the corresponding vectors Ae$_1$=(s,s),Ae$_2$=(t,0) on the parallelogram.  Julia lets your draw the pictures nicely. Have fun watching s and t vary."
   ]
  },
  {
   "cell_type": "code",
   "execution_count": 36,
   "metadata": {
    "collapsed": false
   },
   "outputs": [
    {
     "name": "stderr",
     "output_type": "stream",
     "text": [
      "INFO: Loading help data...\n",
      "INFO: Loading additional PyPlot commands for graphing for SymPy objects:\n",
      "contour, quiver, plot_surface, plot_parametric_surface, and plot_implicit.\n",
      "See ?sympy_plotting for some more details\n"
     ]
    }
   ],
   "source": [
    "using PyPlot  #Ignore warnings\n",
    "using Interact"
   ]
  },
  {
   "cell_type": "code",
   "execution_count": 94,
   "metadata": {
    "collapsed": false
   },
   "outputs": [
    {
     "data": {
      "text/html": [],
      "text/plain": [
       "Slider{Float64}([Input{Float64}] 1.7,\"s\",1.7,0.5:0.1:3.0)"
      ]
     },
     "metadata": {},
     "output_type": "display_data"
    },
    {
     "data": {
      "text/html": [],
      "text/plain": [
       "Slider{Float64}([Input{Float64}] 1.2,\"t\",1.2,0.5:0.1:2.0)"
      ]
     },
     "metadata": {},
     "output_type": "display_data"
    },
    {
     "data": {
      "image/png": "[encoded data removed]",
      "text/plain": [
       "Figure(PyObject <matplotlib.figure.Figure object at 0x7f82e6c82250>)"
      ]
     },
     "execution_count": 94,
     "metadata": {
      "comm_id": "2e8b99e4-d80c-47a0-9af3-77d42cb0c988",
      "reactive": true
     },
     "output_type": "execute_result"
    }
   ],
   "source": [
    "f=figure(figsize=(6,6))\n",
    "\n",
    "@manipulate for s=.5:.1:3, t=.5:.1:2; withfig(f) do\n",
    "\n",
    "Ae1=[s s]\n",
    "Ae2=[t 0]\n",
    "\n",
    "subplot(221)\n",
    "ax = gca()\n",
    "arrow(0,0,0,1,head_width=0.05, head_length=0.1,color=\"g\")\n",
    "arrow(0,0,1,0,head_width=0.05, head_length=0.1,color=\"b\")\n",
    "        ax[:add_patch](matplotlib[:patches][:Rectangle]((0, 0), 1,1,facecolor=\"lightblue\"))\n",
    "axis([-.1,3,-.1,3]);\n",
    "        text(1.1,-.05,\"e₁\",horizontalalignment=\"left\",verticalalignment=\"bottom\")\n",
    "        text(.05,1.1,\"e₂\",horizontalalignment=\"center\",verticalalignment=\"bottom\")\n",
    "\n",
    "subplot(222)\n",
    "        \n",
    "ax = gca()\n",
    "arrow(0,0,Ae1...,head_width=0.05, head_length=0.1,color=\"g\")\n",
    "        arrow(0,0,Ae2...,head_width=0.05, head_length=0.1,color=\"b\")\n",
    "        ax[:add_patch](matplotlib[:patches][:Polygon]([[0 0], Ae2, Ae1+Ae2 ,Ae1],facecolor=\"lightblue\",hatch=\"*\"))\n",
    "axis([-.1,3,-.1,3]);\n",
    "        title(\"Ae₁=[$t,0] \\n Ae₂=[$s,$s]\")\n",
    "        text(t+.12,-.05,\"Ae₁\",horizontalalignment=\"left\",verticalalignment=\"bottom\")\n",
    "        text(s,.1+s,\"Ae₂\",horizontalalignment=\"center\",verticalalignment=\"bottom\")\n",
    "    end\n",
    "end"
   ]
  },
  {
   "cell_type": "markdown",
   "metadata": {},
   "source": [
    "9a) (1 pt.) When s=1 and t=2, what is the area of the parallelogram, computed through basic geometry?  (base times height which is perpendicular to the base) (int)"
   ]
  },
  {
   "cell_type": "code",
   "execution_count": null,
   "metadata": {
    "attempts": 0,
    "collapsed": false,
    "max_attempts": 1000,
    "max_score": 1,
    "question": "9a",
    "status": 1
   },
   "outputs": [],
   "source": []
  },
  {
   "cell_type": "markdown",
   "metadata": {},
   "source": [
    "9b) (2 pts.) When s=1 and t=2, what is the the matrix A? <br> Format: By Rows: [[a b],[c d]] all ints.  <br>\n",
    "or by cols: [[a,b] [c,d]] .  (I prefer by cols for this one, don't forget the space in the middle)"
   ]
  },
  {
   "cell_type": "code",
   "execution_count": null,
   "metadata": {
    "attempts": 0,
    "collapsed": false,
    "max_attempts": 1000,
    "max_score": 2,
    "question": "9b",
    "status": 1
   },
   "outputs": [],
   "source": []
  },
  {
   "cell_type": "markdown",
   "metadata": {},
   "source": [
    "9c) (2 pts.) What is the dterminant of A? (int).  Take a moment to explain to yourself what is going on."
   ]
  },
  {
   "cell_type": "code",
   "execution_count": null,
   "metadata": {
    "attempts": 0,
    "collapsed": false,
    "max_attempts": 1000,
    "max_score": 2,
    "question": "9c",
    "status": 1
   },
   "outputs": [],
   "source": []
  },
  {
   "cell_type": "markdown",
   "metadata": {
    "collapsed": true
   },
   "source": [
    "## Problem 10. Volumes and determinants"
   ]
  },
  {
   "cell_type": "code",
   "execution_count": 41,
   "metadata": {
    "collapsed": false
   },
   "outputs": [],
   "source": [
    "using PyPlot\n",
    "using Interact"
   ]
  },
  {
   "cell_type": "markdown",
   "metadata": {},
   "source": [
    "Suppose that you have a matrix A which takes the following basis vectors e$_1$=(1,0,0)$^T$,e$_2$=(0,1,0)$^T$,e$_3$=(0,0,1)$^T$ that lie along the unit cube (not drawn) to the corresponding vectors Ae$_1$=(0.5,−0.5,0)$^T$,Ae$_2$=(0,0,1)$^T$,Ae$_3$=(0.5,1.5,0)$^T$ on the parallelopiped.\n"
   ]
  },
  {
   "cell_type": "code",
   "execution_count": 42,
   "metadata": {
    "collapsed": false
   },
   "outputs": [
    {
     "data": {
      "image/png": "[encoded data removed]",
      "text/plain": [
       "Figure(PyObject <matplotlib.figure.Figure object at 0x7f83280338d0>)"
      ]
     },
     "metadata": {},
     "output_type": "display_data"
    },
    {
     "data": {
      "text/plain": [
       "PyObject <mpl_toolkits.mplot3d.art3d.Text3D object at 0x7f82e922d810>"
      ]
     },
     "execution_count": 42,
     "metadata": {},
     "output_type": "execute_result"
    }
   ],
   "source": [
    "f=figure(figsize=(4,4))\n",
    "Ae₁=[0.5,-0.5,0]\n",
    "Ae₂=[0,0,1]\n",
    "Ae₃=[.5,1.5,0]\n",
    "z=zeros(3)\n",
    "plot3(v,w)=plot3D([ [v[i],w[i]] for i=1:3]...)\n",
    "plot3(z,Ae₁)\n",
    "plot3(z,Ae₂)\n",
    "plot3(z,Ae₃)\n",
    "plot3(Ae₁,Ae₁+Ae₂)\n",
    "plot3(Ae₃,Ae₃+Ae₂)\n",
    "plot3(Ae₂,Ae₁+Ae₂)\n",
    "plot3(Ae₂,Ae₃+Ae₂)\n",
    "plot3(Ae₁,Ae₁+Ae₃)\n",
    "plot3(Ae₃,Ae₁+Ae₃)\n",
    "plot3(Ae₁+Ae₃,Ae₁+Ae₂+Ae₃)\n",
    "plot3(Ae₁+Ae₂,Ae₁+Ae₂+Ae₃)\n",
    "plot3(Ae₃+Ae₂,Ae₁+Ae₂+Ae₃)\n",
    "text3D(.4,-.35,0,\"(.5,-.5,0)\")\n",
    "text3D(.25,1.1,0,\"(.5,1.5,0)\")\n",
    "text3D(-.1,-.2,1.1,\"(0,0,1)\")\n"
   ]
  },
  {
   "cell_type": "markdown",
   "metadata": {},
   "source": [
    "10a) (2 pt) What is the volume of the parallelopiped?  (Use area of base times height)\n",
    "\n",
    "(Format: Answer as Int!!)"
   ]
  },
  {
   "cell_type": "code",
   "execution_count": null,
   "metadata": {
    "attempts": 0,
    "collapsed": false,
    "max_attempts": 1000,
    "max_score": 2,
    "question": "10a",
    "status": 1
   },
   "outputs": [],
   "source": []
  },
  {
   "cell_type": "markdown",
   "metadata": {},
   "source": [
    "10b) (2 pt) What is the matrix A?\n",
    "\n",
    "format(3x3 Array{Float64,2})"
   ]
  },
  {
   "cell_type": "code",
   "execution_count": null,
   "metadata": {
    "attempts": 0,
    "collapsed": false,
    "max_attempts": 1000,
    "max_score": 2,
    "question": "10b",
    "status": 1
   },
   "outputs": [],
   "source": []
  },
  {
   "cell_type": "markdown",
   "metadata": {},
   "source": [
    "10c) (1pt) What is det(A)?\n",
    "\n",
    "(Format: Answer as Int e.g. int(det(A))"
   ]
  },
  {
   "cell_type": "code",
   "execution_count": null,
   "metadata": {
    "attempts": 0,
    "collapsed": false,
    "max_attempts": 1000,
    "max_score": 2,
    "question": "10c",
    "status": 1
   },
   "outputs": [],
   "source": []
  },
  {
   "cell_type": "markdown",
   "metadata": {
    "collapsed": true
   },
   "source": [
    "## Problem 11. Area of a hexagon, determinants and fun with manipulate\n",
    "In this question, you are tasked with finding a matrix A which takes the hexagon in the first image and transforms it into the hexagon in the second image. To help you find such a matrix, look at the first image. Let e$_1$=(0,1)$^T$ be the blue horizontal vector. We define the red vector v to be the vector which forms an equilateral triangle with the first vector. Then in the second image we have Ae$_1$=(s,2)$^T$, Av=(0,4)$^T$ and we\n",
    "want you to manipulate the triangle until has angles 30, 30, and 120."
   ]
  },
  {
   "cell_type": "code",
   "execution_count": 92,
   "metadata": {
    "collapsed": false
   },
   "outputs": [
    {
     "data": {
      "text/html": [],
      "text/plain": [
       "Slider{Float64}([Input{Float64}] 1.5,\"s\",1.5,0.0:0.05:3.0)"
      ]
     },
     "metadata": {},
     "output_type": "display_data"
    },
    {
     "data": {
      "image/png": "[encoded data removed]",
      "text/plain": [
       "Figure(PyObject <matplotlib.figure.Figure object at 0x7f82e6362a90>)"
      ]
     },
     "execution_count": 92,
     "metadata": {
      "comm_id": "4059c108-c7ff-47c0-993e-d00e5247c716",
      "reactive": true
     },
     "output_type": "execute_result"
    }
   ],
   "source": [
    "f=figure(figsize=(8,8))\n",
    "\n",
    "@manipulate for s=.0:.05:3; withfig(f) do\n",
    "\n",
    "hexagon=[ cos(2π*(0:5)/6)  sin(2π*(0:5)/6)]\n",
    "e₁=[1,0]\n",
    "v=[cos(π/3), sin(π/3)]\n",
    "\n",
    "subplot(221)\n",
    "ax = gca()\n",
    "arrow(0,0,e₁...,head_width=0.05, head_length=0.1,color=\"b\")\n",
    "arrow(0,0,v..., head_width=0.05, head_length=0.1,color=\"r\")\n",
    "ax[:add_patch](matplotlib[:patches][:Polygon](hexagon,facecolor=\"lightblue\"))\n",
    "text(1.1,-.05,\"e₁\")\n",
    "text(.05+v...,\"v\")\n",
    "text( .1*(v+e₁)..., \"60°\")\n",
    "axis([-2,2,-2,2]);\n",
    "\n",
    "A=  [[s, 2] [0,4]]/[e₁ v]\n",
    "        \n",
    "subplot(222)\n",
    "ax = gca()\n",
    "arrow(0,0,(A*e₁)...,head_width=0.05, head_length=0.1,color=\"b\")\n",
    "arrow(0,0,(A*v)..., head_width=0.05, head_length=0.1,color=\"r\")\n",
    "text((.05+A*e₁)...,\"Ae₁\")\n",
    "text((.05+A*v)...,\"Av\")\n",
    "ang =  int(round(acosd(dot(A*v,A*e₁)/(norm(A*v)*norm(A*e₁))),0))\n",
    "        \n",
    "text( .05,1.1, \"$(ang)°\",fontsize=8)\n",
    "text( .05,3, \"$(ang)°\",fontsize=8)\n",
    "        text(([-1 -.03]'+A*e₁)...,\"$(180-2*ang)°\",fontsize=8)\n",
    "        \n",
    "ax[:add_patch](matplotlib[:patches][:Polygon]((A*hexagon')',facecolor=\"lightblue\"))\n",
    "        title(\"Ae₁=($s,2) \\n Av=(0,4)\")\n",
    "axis([-5,5,-5,5])       \n",
    "\n",
    "\n",
    "end\n",
    "end\n"
   ]
  },
  {
   "cell_type": "markdown",
   "metadata": {},
   "source": [
    "11a) (1 pt.) What is the area of the first hexagon?  (Hint, the formula is $(3/2)*s^2*\\sqrt{3}$)\n",
    "\n",
    "Format: Float64"
   ]
  },
  {
   "cell_type": "code",
   "execution_count": null,
   "metadata": {
    "attempts": 0,
    "collapsed": false,
    "max_attempts": 1000,
    "max_score": 1,
    "precision": 3,
    "question": "11a",
    "status": 1
   },
   "outputs": [],
   "source": []
  },
  {
   "cell_type": "markdown",
   "metadata": {},
   "source": [
    "11b) (1 pt.) What is the area of the second hexagon?  (Hint: the correct hexagon is made up of 6 congruent triangles)\n",
    "\n",
    "Format:  Array{Float64, 2}"
   ]
  },
  {
   "cell_type": "code",
   "execution_count": null,
   "metadata": {
    "attempts": 0,
    "collapsed": false,
    "max_attempts": 1000,
    "max_score": 2,
    "precision": 3,
    "question": "11b",
    "status": 1
   },
   "outputs": [],
   "source": []
  },
  {
   "cell_type": "markdown",
   "metadata": {},
   "source": [
    "11c) (2 pt.) What is the matrix A?\n",
    "\n",
    "format: Array{Float64, 2}"
   ]
  },
  {
   "cell_type": "code",
   "execution_count": null,
   "metadata": {
    "attempts": 0,
    "collapsed": false,
    "max_attempts": 1000,
    "max_score": 2,
    "precision": 3,
    "question": "11c",
    "status": 1
   },
   "outputs": [],
   "source": []
  },
  {
   "cell_type": "markdown",
   "metadata": {},
   "source": [
    "11d) (1 pt.) What is the determinant of A? (Notice the ratio of the hexagon areas computed in parts b and a)\n",
    "\n",
    "Format: Float64"
   ]
  },
  {
   "cell_type": "code",
   "execution_count": null,
   "metadata": {
    "attempts": 0,
    "collapsed": false,
    "max_attempts": 1000,
    "max_score": 1,
    "precision": 3,
    "question": "11d",
    "status": 1
   },
   "outputs": [],
   "source": []
  },
  {
   "cell_type": "code",
   "execution_count": 11,
   "metadata": {
    "collapsed": false
   },
   "outputs": [
    {
     "data": {
      "text/html": [],
      "text/plain": [
       "Options{:ToggleButtons,ASCIIString}([Input{ASCIIString}] score,\"report\",\"score\",\"Score\",OptionDict({\"Score\",\"Incorrect attempts\"},{\"Score\"=>\"score\",\"Incorrect attempts\"=>\"attempts\"}),None[],None[])"
      ]
     },
     "metadata": {},
     "output_type": "display_data"
    },
    {
     "data": {
      "text/html": [
       "<table class=\"data-frame\"><tr><th></th><th>Names</th><th>total</th><th>1a</th><th>1b</th><th>1c</th><th>1d</th><th>2a</th><th>2b</th><th>3a</th><th>3b</th><th>4</th><th>5a</th><th>5b</th><th>5c</th><th>5d</th><th>5e</th><th>5f</th><th>5g</th><th>5h</th><th>6a</th><th>6b</th><th>6c</th><th>6d</th><th>7a</th><th>7b</th><th>8</th><th>9a</th><th>9b</th><th>9c</th><th>10a</th><th>10b</th><th>10c</th><th>11a</th><th>11b</th><th>11c</th><th>11d</th></tr><tr><th>1</th><td>MAX</td><td><span style=\"color: black\">50.0</span></td><td><span style=\"color: black\">1.0</span></td><td><span style=\"color: black\">1.0</span></td><td><span style=\"color: black\">1.0</span></td><td><span style=\"color: black\">1.0</span></td><td><span style=\"color: black\">2.0</span></td><td><span style=\"color: black\">2.0</span></td><td><span style=\"color: black\">2.0</span></td><td><span style=\"color: black\">2.0</span></td><td><span style=\"color: black\">2.0</span></td><td><span style=\"color: black\">1.0</span></td><td><span style=\"color: black\">0.5</span></td><td><span style=\"color: black\">0.5</span></td><td><span style=\"color: black\">1.0</span></td><td><span style=\"color: black\">0.5</span></td><td><span style=\"color: black\">0.5</span></td><td><span style=\"color: black\">1.0</span></td><td><span style=\"color: black\">1.0</span></td><td><span style=\"color: black\">1.0</span></td><td><span style=\"color: black\">1.0</span></td><td><span style=\"color: black\">1.0</span></td><td><span style=\"color: black\">1.0</span></td><td><span style=\"color: black\">2.0</span></td><td><span style=\"color: black\">2.0</span></td><td><span style=\"color: black\">5.0</span></td><td><span style=\"color: black\">1.0</span></td><td><span style=\"color: black\">2.0</span></td><td><span style=\"color: black\">2.0</span></td><td><span style=\"color: black\">2.0</span></td><td><span style=\"color: black\">2.0</span></td><td><span style=\"color: black\">2.0</span></td><td><span style=\"color: black\">1.0</span></td><td><span style=\"color: black\">2.0</span></td><td><span style=\"color: black\">2.0</span></td><td><span style=\"color: black\">1.0</span></td></tr></table>"
      ],
      "text/plain": [
       "1x36 DataFrame\n",
       "| Row | Names | total                 | 1a                     |\n",
       "|-----|-------|-----------------------|------------------------|\n",
       "| 1   | \"MAX\" | Colored(\"black\",50.0) | Colored(\"black\",\"1.0\") |\n",
       "\n",
       "| Row | 1b                     | 1c                     |\n",
       "|-----|------------------------|------------------------|\n",
       "| 1   | Colored(\"black\",\"1.0\") | Colored(\"black\",\"1.0\") |\n",
       "\n",
       "| Row | 1d                     | 2a                     |\n",
       "|-----|------------------------|------------------------|\n",
       "| 1   | Colored(\"black\",\"1.0\") | Colored(\"black\",\"2.0\") |\n",
       "\n",
       "| Row | 2b                     | 3a                     |\n",
       "|-----|------------------------|------------------------|\n",
       "| 1   | Colored(\"black\",\"2.0\") | Colored(\"black\",\"2.0\") |\n",
       "\n",
       "| Row | 3b                     | 4                      |\n",
       "|-----|------------------------|------------------------|\n",
       "| 1   | Colored(\"black\",\"2.0\") | Colored(\"black\",\"2.0\") |\n",
       "\n",
       "| Row | 5a                     | 5b                     |\n",
       "|-----|------------------------|------------------------|\n",
       "| 1   | Colored(\"black\",\"1.0\") | Colored(\"black\",\"0.5\") |\n",
       "\n",
       "| Row | 5c                     | 5d                     |\n",
       "|-----|------------------------|------------------------|\n",
       "| 1   | Colored(\"black\",\"0.5\") | Colored(\"black\",\"1.0\") |\n",
       "\n",
       "| Row | 5e                     | 5f                     |\n",
       "|-----|------------------------|------------------------|\n",
       "| 1   | Colored(\"black\",\"0.5\") | Colored(\"black\",\"0.5\") |\n",
       "\n",
       "| Row | 5g                     | 5h                     |\n",
       "|-----|------------------------|------------------------|\n",
       "| 1   | Colored(\"black\",\"1.0\") | Colored(\"black\",\"1.0\") |\n",
       "\n",
       "| Row | 6a                     | 6b                     |\n",
       "|-----|------------------------|------------------------|\n",
       "| 1   | Colored(\"black\",\"1.0\") | Colored(\"black\",\"1.0\") |\n",
       "\n",
       "| Row | 6c                     | 6d                     |\n",
       "|-----|------------------------|------------------------|\n",
       "| 1   | Colored(\"black\",\"1.0\") | Colored(\"black\",\"1.0\") |\n",
       "\n",
       "| Row | 7a                     | 7b                     |\n",
       "|-----|------------------------|------------------------|\n",
       "| 1   | Colored(\"black\",\"2.0\") | Colored(\"black\",\"2.0\") |\n",
       "\n",
       "| Row | 8                      | 9a                     |\n",
       "|-----|------------------------|------------------------|\n",
       "| 1   | Colored(\"black\",\"5.0\") | Colored(\"black\",\"1.0\") |\n",
       "\n",
       "| Row | 9b                     | 9c                     |\n",
       "|-----|------------------------|------------------------|\n",
       "| 1   | Colored(\"black\",\"2.0\") | Colored(\"black\",\"2.0\") |\n",
       "\n",
       "| Row | 10a                    | 10b                    |\n",
       "|-----|------------------------|------------------------|\n",
       "| 1   | Colored(\"black\",\"2.0\") | Colored(\"black\",\"2.0\") |\n",
       "\n",
       "| Row | 10c                    | 11a                    |\n",
       "|-----|------------------------|------------------------|\n",
       "| 1   | Colored(\"black\",\"2.0\") | Colored(\"black\",\"1.0\") |\n",
       "\n",
       "| Row | 11b                    | 11c                    |\n",
       "|-----|------------------------|------------------------|\n",
       "| 1   | Colored(\"black\",\"2.0\") | Colored(\"black\",\"2.0\") |\n",
       "\n",
       "| Row | 11d                    |\n",
       "|-----|------------------------|\n",
       "| 1   | Colored(\"black\",\"1.0\") |"
      ]
     },
     "execution_count": 11,
     "metadata": {
      "comm_id": "9a59c180-7722-47d2-8926-e7da2fa09326",
      "reactive": true
     },
     "output_type": "execute_result"
    }
   ],
   "source": [
    "Homework.progress()"
   ]
  },
  {
   "cell_type": "code",
   "execution_count": null,
   "metadata": {
    "collapsed": true
   },
   "outputs": [],
   "source": []
  }
 ],
 "metadata": {
  "homework": {
   "course": "MIT-18.06-Spring-2015",
   "mode": "answering",
   "problemset": "pset6"
  },
  "kernelspec": {
   "display_name": "Julia 0.3.11",
   "language": "julia",
   "name": "julia-0.3"
  },
  "language_info": {
   "file_extension": ".jl",
   "mimetype": "application/julia",
   "name": "julia",
   "version": "0.3.11"
  }
 },
 "nbformat": 4,
 "nbformat_minor": 0
}
