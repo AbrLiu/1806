{
 "cells": [
  {
   "cell_type": "code",
   "execution_count": 1,
   "metadata": {
    "collapsed": false
   },
   "outputs": [
    {
     "name": "stderr",
     "output_type": "stream",
     "text": [
      "INFO: Removing Homework (unregistered)\n",
      "INFO: Cloning Homework from git://github.com/shashi/Homework.jl.git\n",
      "INFO: Computing changes...\n",
      "INFO: No packages to install, update or remove\n"
     ]
    },
    {
     "data": {
      "text/html": [
       "<script charset=\"utf-8\">(function ($, undefined) {\n",
       "\n",
       "    function createElem(tag, attr, content) {\n",
       "\t// TODO: remove jQuery dependency\n",
       "\tvar el = $(\"<\" + tag + \"/>\").attr(attr);\n",
       "\tif (content) {\n",
       "\t    el.append(content);\n",
       "\t}\n",
       "\treturn el[0];\n",
       "    }\n",
       "\n",
       "    // A widget must expose an id field which identifies it to the backend,\n",
       "    // an elem attribute which is will be added to the DOM, and\n",
       "    // a getState() method which returns the value to be sent to the backend\n",
       "    // a sendUpdate() method which sends its current value to the backend\n",
       "    var Widget = {\n",
       "\tid: undefined,\n",
       "\telem: undefined,\n",
       "\tlabel: undefined,\n",
       "\tgetState: function () {\n",
       "\t    return this.elem.value;\n",
       "\t},\n",
       "\tsendUpdate: undefined\n",
       "    };\n",
       "\n",
       "    var Slider = function (typ, id, init) {\n",
       "\tvar attr = { type:  \"range\",\n",
       "\t\t     value: init.value,\n",
       "\t\t     min:   init.min,\n",
       "\t\t     max:   init.max,\n",
       "\t\t     step:  init.step },\n",
       "\t    elem = createElem(\"input\", attr),\n",
       "\t    self = this;\n",
       "\n",
       "\telem.onchange = function () {\n",
       "\t    self.sendUpdate();\n",
       "\t}\n",
       "\n",
       "\tthis.id = id;\n",
       "\tthis.elem = elem;\n",
       "\tthis.label = init.label;\n",
       "\n",
       "\tInputWidgets.commInitializer(this); // Initialize communication\n",
       "    }\n",
       "    Slider.prototype = Widget;\n",
       "\n",
       "    var Checkbox = function (typ, id, init) {\n",
       "\tvar attr = { type: \"checkbox\",\n",
       "\t\t     checked: init.value },\n",
       "\t    elem = createElem(\"input\", attr),\n",
       "\t    self = this;\n",
       "\n",
       "\tthis.getState = function () {\n",
       "\t    return elem.checked;\n",
       "\t}\n",
       "\telem.onchange = function () {\n",
       "\t    self.sendUpdate();\n",
       "\t}\n",
       "\n",
       "\tthis.id = id;\n",
       "\tthis.elem = elem;\n",
       "\tthis.label = init.label;\n",
       "\n",
       "\tInputWidgets.commInitializer(this);\n",
       "    }\n",
       "    Checkbox.prototype = Widget;\n",
       "\n",
       "    var Button = function (typ, id, init) {\n",
       "\tvar attr = { type:    \"button\",\n",
       "\t\t     value:   init.label },\n",
       "\t    elem = createElem(\"input\", attr),\n",
       "\t    self = this;\n",
       "\tthis.getState = function () {\n",
       "\t    return null;\n",
       "\t}\n",
       "\telem.onclick = function () {\n",
       "\t    self.sendUpdate();\n",
       "\t}\n",
       "\n",
       "\tthis.id = id;\n",
       "\tthis.elem = elem;\n",
       "\tthis.label = init.label;\n",
       "\n",
       "\tInputWidgets.commInitializer(this);\n",
       "    }\n",
       "    Button.prototype = Widget;\n",
       "\n",
       "    var Text = function (typ, id, init) {\n",
       "\tvar attr = { type:  \"text\",\n",
       "\t\t     placeholder: init.label,\n",
       "\t\t     value: init.value },\n",
       "\t    elem = createElem(\"input\", attr),\n",
       "\t    self = this;\n",
       "\tthis.getState = function () {\n",
       "\t    return elem.value;\n",
       "\t}\n",
       "\telem.onkeyup = function () {\n",
       "\t    self.sendUpdate();\n",
       "\t}\n",
       "\n",
       "\tthis.id = id;\n",
       "\tthis.elem = elem;\n",
       "\tthis.label = init.label;\n",
       "\n",
       "\tInputWidgets.commInitializer(this);\n",
       "    }\n",
       "    Text.prototype = Widget;\n",
       "\n",
       "    var Textarea = function (typ, id, init) {\n",
       "\tvar attr = { placeholder: init.label },\n",
       "\t    elem = createElem(\"textarea\", attr, init.value),\n",
       "\t    self = this;\n",
       "\tthis.getState = function () {\n",
       "\t    return elem.value;\n",
       "\t}\n",
       "\telem.onchange = function () {\n",
       "\t    self.sendUpdate();\n",
       "\t}\n",
       "\n",
       "\tthis.id = id;\n",
       "\tthis.elem = elem;\n",
       "\tthis.label = init.label;\n",
       "\n",
       "\tInputWidgets.commInitializer(this);\n",
       "    }\n",
       "    Textarea.prototype = Widget;\n",
       "\n",
       "    // RadioButtons\n",
       "    // Dropdown\n",
       "    // HTML\n",
       "    // Latex\n",
       "\n",
       "    var InputWidgets = {\n",
       "\tSlider: Slider,\n",
       "\tCheckbox: Checkbox,\n",
       "\tButton: Button,\n",
       "\tText: Text,\n",
       "\tTextarea: Textarea,\n",
       "\tdebug: false,\n",
       "\tlog: function () {\n",
       "\t    if (InputWidgets.debug) {\n",
       "\t\tconsole.log.apply(console, arguments);\n",
       "\t    }\n",
       "\t},\n",
       "\t// a central way to initalize communication\n",
       "\t// for widgets.\n",
       "\tcommInitializer: function (widget) {\n",
       "\t    widget.sendUpdate = function () {};\n",
       "\t}\n",
       "    };\n",
       "\n",
       "    window.InputWidgets = InputWidgets;\n",
       "\n",
       "})(jQuery, undefined);\n",
       "</script>"
      ]
     },
     "metadata": {},
     "output_type": "display_data"
    },
    {
     "data": {
      "text/html": [
       "<div id=\"interact-js-shim\">\n",
       "    <script charset=\"utf-8\">\n",
       "(function (IPython, $, _, MathJax, Widgets) {\n",
       "    $.event.special.destroyed = {\n",
       "\tremove: function(o) {\n",
       "\t    if (o.handler) {\n",
       "\t\to.handler.apply(this, arguments)\n",
       "\t    }\n",
       "\t}\n",
       "    }\n",
       "\n",
       "    var OutputArea = IPython.version >= \"4.0.0\" ? require(\"notebook/js/outputarea\").OutputArea : IPython.OutputArea;\n",
       "\n",
       "    var redrawValue = function (container, type, val) {\n",
       "\tvar selector = $(\"<div/>\");\n",
       "\tvar oa = new OutputArea(_.extend(selector, {\n",
       "\t    selector: selector,\n",
       "\t    prompt_area: true,\n",
       "\t    events: IPython.events,\n",
       "\t    keyboard_manager: IPython.keyboard_manager\n",
       "\t})); // Hack to work with IPython 2.1.0\n",
       "\n",
       "\tswitch (type) {\n",
       "\tcase \"image/png\":\n",
       "            var _src = 'data:' + type + ';base64,' + val;\n",
       "\t    $(container).find(\"img\").attr('src', _src);\n",
       "\t    break;\n",
       "\tdefault:\n",
       "\t    var toinsert = OutputArea.append_map[type].apply(\n",
       "\t\toa, [val, {}, selector]\n",
       "\t    );\n",
       "\t    $(container).empty().append(toinsert.contents());\n",
       "\t    selector.remove();\n",
       "\t}\n",
       "\tif (type === \"text/latex\" && MathJax) {\n",
       "\t    MathJax.Hub.Queue([\"Typeset\", MathJax.Hub, toinsert.get(0)]);\n",
       "\t}\n",
       "    }\n",
       "\n",
       "\n",
       "    $(document).ready(function() {\n",
       "\tWidgets.debug = false; // log messages etc in console.\n",
       "\tfunction initComm(evt, data) {\n",
       "\t    var comm_manager = data.kernel.comm_manager;\n",
       "        //_.extend(comm_manager.targets, require(\"widgets/js/widget\"))\n",
       "\t    comm_manager.register_target(\"Signal\", function (comm) {\n",
       "            comm.on_msg(function (msg) {\n",
       "                //Widgets.log(\"message received\", msg);\n",
       "                var val = msg.content.data.value;\n",
       "                $(\".signal-\" + comm.comm_id).each(function() {\n",
       "                var type = $(this).data(\"type\");\n",
       "                if (val[type]) {\n",
       "                    redrawValue(this, type, val[type], type);\n",
       "                }\n",
       "                });\n",
       "                delete val;\n",
       "                delete msg.content.data.value;\n",
       "            });\n",
       "\t    });\n",
       "\n",
       "\t    // coordingate with Comm and redraw Signals\n",
       "\t    // XXX: Test using Reactive here to improve performance\n",
       "\t    $([IPython.events]).on(\n",
       "\t\t'output_appended.OutputArea', function (event, type, value, md, toinsert) {\n",
       "\t\t    if (md && md.reactive) {\n",
       "                // console.log(md.comm_id);\n",
       "                toinsert.addClass(\"signal-\" + md.comm_id);\n",
       "                toinsert.data(\"type\", type);\n",
       "                // Signal back indicating the mimetype required\n",
       "                var comm_manager = IPython.notebook.kernel.comm_manager;\n",
       "                var comm = comm_manager.comms[md.comm_id];\n",
       "                comm.then(function (c) {\n",
       "                    c.send({action: \"subscribe_mime\",\n",
       "                       mime: type});\n",
       "                    toinsert.bind(\"destroyed\", function() {\n",
       "                        c.send({action: \"unsubscribe_mime\",\n",
       "                               mime: type});\n",
       "                    });\n",
       "                })\n",
       "\t\t    }\n",
       "\t    });\n",
       "\t}\n",
       "\n",
       "\ttry {\n",
       "\t    // try to initialize right away. otherwise, wait on the status_started event.\n",
       "\t    initComm(undefined, IPython.notebook);\n",
       "\t} catch (e) {\n",
       "\t    $([IPython.events]).on('kernel_created.Kernel kernel_created.Session', initComm);\n",
       "\t}\n",
       "    });\n",
       "})(IPython, jQuery, _, MathJax, InputWidgets);\n",
       "</script>\n",
       "    <script>\n",
       "        window.interactLoadedFlag = true\n",
       "       $(\"#interact-js-shim\").bind(\"destroyed\", function () {\n",
       "           if (window.interactLoadedFlag) {\n",
       "               console.warn(\"JavaScript required by Interact will be removed if you remove this cell or run using Interact more than once.\")\n",
       "           }\n",
       "       })\n",
       "       $([IPython.events]).on(\"kernel_starting.Kernel kernel_restarting.Kernel\", function () { window.interactLoadedFlag = false })\n",
       "   </script>\n",
       "</div>"
      ]
     },
     "metadata": {},
     "output_type": "display_data"
    },
    {
     "name": "stderr",
     "output_type": "stream",
     "text": [
      "WARNING: This version of the GnuTLS library (3.2.11) is deprecated\n",
      "and contains known security vulnerabilities. Please upgrade to a\n",
      "more recent version.\n"
     ]
    },
    {
     "data": {
      "text/html": [
       "<script>(function ($) {\n",
       "        // hijack IPython's methods of all CodeCells with the required metadata\n",
       "    if (!window.Homework) {\n",
       "        var get_text = IPython.CodeCell.prototype.get_text\n",
       "        IPython.CodeCell.prototype.get_text = function () {\n",
       "            if (this.metadata && typeof(this.metadata.question) !== \"undefined\") {\n",
       "                var fn = (Homework.mode() == \"create\") ? \"new_question\" : \"attempt_prompt\";\n",
       "                return 'Homework.' + fn + '(' + [\n",
       "                                         JSON.stringify(JSON.stringify(this.metadata)),\n",
       "                                         \"begin \\n\" + get_text.call(this) +\"\\n end\"\n",
       "                                       ].join(\", \") + \")\"\n",
       "            } else {\n",
       "                console.log(\"vs\", get_text.call(this))\n",
       "                return get_text.call(this)\n",
       "            }\n",
       "        }\n",
       "\n",
       "        var cell_to_json = IPython.CodeCell.prototype.toJSON\n",
       "        IPython.CodeCell.prototype.toJSON = function () {\n",
       "            if (this.metadata && typeof(this.metadata.question) !== \"undefined\") {\n",
       "                data = cell_to_json.call(this)\n",
       "                data.source = get_text.call(this)\n",
       "                return data\n",
       "            } else {\n",
       "                return cell_to_json.call(this)\n",
       "            }\n",
       "        }\n",
       "\n",
       "        var rename_keys = IPython.OutputArea.prototype.rename_keys;\n",
       "        IPython.OutputArea.prototype.rename_keys = function (data, key_map) {\n",
       "            data = rename_keys(data, key_map)\n",
       "\n",
       "            if (data.metadata && data.metadata.reactive) {\n",
       "                var cls = \".signal-\" + data.metadata.comm_id\n",
       "                data.html = $(cls).eq(0).html()\n",
       "            }\n",
       "            return data\n",
       "        }\n",
       "\n",
       "        var delete_cell = IPython.Notebook.prototype.delete_cell\n",
       "        IPython.Notebook.prototype.delete_cell = function (index) {\n",
       "            var i = this.index_or_selected(index);\n",
       "            var cell = this.get_selected_cell();\n",
       "            if (cell.metadata && typeof(cell.metadata.question) !== \"undefined\") {\n",
       "                alert(\"Cannot delete this cell. You need to code the answer to Question \" + \n",
       "                        cell.metadata.question + \" here.\")\n",
       "            } else {\n",
       "                // go on and delete\n",
       "                delete_cell.call(this, i)\n",
       "            }\n",
       "        }\n",
       "    }\n",
       "\n",
       "\n",
       "    function get_question(q) {\n",
       "        var i = 0\n",
       "        var cell = IPython.notebook.get_cell(i)\n",
       "        while(cell !== null) {\n",
       "            if (cell.metadata && cell.metadata.question === q) {\n",
       "                return cell\n",
       "            }\n",
       "            cell = IPython.notebook.get_cell(i)\n",
       "            i+=1\n",
       "        }\n",
       "        return null\n",
       "    }\n",
       "\n",
       "    function mount_message(cell) {\n",
       "        if (!cell) { return }\n",
       "        var meta = cell.metadata,\n",
       "            msg = meta.msg || \"<span class='icon-terminal'></span> &nbsp; Code your answer above, hit &lt;Shift+Enter&gt;, then Submit. <span style='float: right'>\",\n",
       "            score = meta.score || 0,\n",
       "            max_score = meta.max_score || 0,\n",
       "            attempts = meta.attempts || 0,\n",
       "            max_attempts = meta.max_attempts || 0\n",
       "\n",
       "        msg += \"<span style='position:absolute; top: 0.5em; right:0.5em' class='label label-info'> Score: \"\n",
       "        if (Homework.mode() === \"answering\") {\n",
       "            msg += \"<b>\" + score + \"</b> / <b>\" + max_score + \"</b>\"\n",
       "        } else if (Homework.mode() === \"create\") {\n",
       "            msg += \"<b>\" + max_score + \"</b>\"\n",
       "        }\n",
       "\n",
       "        msg += \" &middot; Attempts: \"\n",
       "        if (Homework.mode() === \"answering\") {\n",
       "            msg += \"<b>\" + attempts + \"</b>\"\n",
       "            if (max_attempts != 0) {\n",
       "                msg += \" / <b>\" + max_attempts + \"</b>\"\n",
       "            }\n",
       "        } else if (Homework.mode() === \"create\") {\n",
       "            msg += \"<b>\" + max_attempts + \"</b>\"\n",
       "        }\n",
       "        msg += \"</span>\"\n",
       "\n",
       "        var level = meta.alert || \"info\"\n",
       "\n",
       "        msg = \"<div class='hw-msg alert alert-\" + level + \"' id='hw-msg-\" + meta.question +\n",
       "               \"' style='padding: 0.5em; margin: 0; position:relative; border-radius: 0'>\" +\n",
       "               msg + \"</div>\"\n",
       "\n",
       "        $(cell.element).find(\".hw-msg\").remove()\n",
       "        $(cell.element).find(\".input_area\").eq(0).append(msg)\n",
       "        if (cell.metadata.finished) { $(cell.element).find(\".widget-area\").hide() }\n",
       "    }\n",
       "\n",
       "    function set_meta(question, extension) {\n",
       "        console.log(\"set meta\", question, extension)\n",
       "        var cell = get_question(question)\n",
       "        for (var key in extension) {\n",
       "            if (extension.hasOwnProperty(key)) {\n",
       "                cell.metadata[key] = extension[key]\n",
       "            }\n",
       "        }\n",
       "        mount_message(cell)\n",
       "    }\n",
       "\n",
       "    function get_question_cells() {\n",
       "        var cell = IPython.notebook.get_cell(0),\n",
       "            i = 0,\n",
       "            cells = []\n",
       "        while(cell !== null) {\n",
       "            if (cell.metadata && typeof(cell.metadata.question) !== \"undefined\") {\n",
       "                var q = cell.metadata.question\n",
       "                cells.push(cell)\n",
       "            }\n",
       "            i+=1\n",
       "            cell = IPython.notebook.get_cell(i)\n",
       "        }\n",
       "        return cells\n",
       "    }\n",
       "\n",
       "    function hw_create(host, course, s, f) {\n",
       "        if(!s) {\n",
       "            s = function(result){\n",
       "                if(result.code == 0) {\n",
       "                    IPython.dialog.modal({\n",
       "                        title: 'Problemset created',\n",
       "                        body: \"The problem set was created. Now run <code>Homework.clear_answers()</code> to get the notebook ready for distribution.\"\n",
       "                    })\n",
       "                }\n",
       "                else {\n",
       "                    IPython.dialog.modal({\n",
       "                        title: 'Problemset NOT created',\n",
       "                        body: \"Non-zero result code. There was a problem saving the problem set!\"\n",
       "                    })\n",
       "                }\n",
       "            };\n",
       "        };\n",
       "        if(!f) {\n",
       "            f = function() {\n",
       "                    IPython.dialog.modal({\n",
       "                        title: 'Failure',\n",
       "                        body: \"Failed to create problem set. Are you sure you have permission to edit the course? Unexpected server error.\"\n",
       "                    })\n",
       "            };\n",
       "        };\n",
       "        console.log({\n",
       "            'mode': 'create',\n",
       "            'params': JSON.stringify(course)\n",
       "        })\n",
       "        $.ajax({\n",
       "            url: host + '/jboxplugin/hw/',\n",
       "            method: 'POST',\n",
       "            data: {\n",
       "                'mode': 'create',\n",
       "                'params': JSON.stringify(course)\n",
       "            },\n",
       "            success: s,\n",
       "            failure: f\n",
       "        })\n",
       "    }\n",
       "\n",
       "    function create_problemset(config) {\n",
       "        config = config || IPython.notebook.metadata.homework\n",
       "\n",
       "        var cells = get_question_cells()\n",
       "\n",
       "        if (!config.host) { config.host == \"\" }\n",
       "        var questions = []\n",
       "        for (var i=0, l=cells.length; i < l; i++) {\n",
       "            questions.push({\n",
       "                id:    String(cells[i].metadata.question),\n",
       "                score: cells[i].metadata.max_score,\n",
       "                attempts: cells[i].metadata.max_attempts,\n",
       "                ans:   cells[i].metadata.answer,\n",
       "                explanation: cells[i].metadata.explanation || \"\"\n",
       "            })\n",
       "        }\n",
       "\n",
       "        var course = {\n",
       "             admins: config.admins || [],\n",
       "             id: config.course,\n",
       "             problemsets: [{\n",
       "                 id: config.problemset,\n",
       "                 questions: questions\n",
       "             }]\n",
       "        }\n",
       "\n",
       "        console.log(course)\n",
       "\n",
       "        try {\n",
       "            hw_create(config.host || \"\", course)\n",
       "        } catch (e) {\n",
       "            alert(\"An error occured. Problem set not saved!\")\n",
       "        }\n",
       "   }\n",
       "\n",
       "   function clear_admin_metadata() {\n",
       "       var cells = get_question_cells()\n",
       "       for (var i=0, l=cells.length; i < l; i++) {\n",
       "           var cell = cells[i]\n",
       "           delete cell.metadata.answer\n",
       "           delete cell.metadata.msg\n",
       "           cell.metadata.finished && delete cell.metadata.finished\n",
       "           delete cell.metadata.alert\n",
       "       }\n",
       "       IPython.notebook.metadata.homework.mode = \"answering\"\n",
       "       Homework.refresh_messages()\n",
       "   }\n",
       "\n",
       "   function clear_answers() {\n",
       "       var cells = get_question_cells()\n",
       "       for (var i=0, l=cells.length; i < l; i++) {\n",
       "           var cell = cells[i]\n",
       "           cell.clear_input()\n",
       "           cell.clear_output()\n",
       "       }\n",
       "       IPython.notebook.metadata.homework.mode = \"answering\"\n",
       "       Homework.refresh_messages()\n",
       "   }\n",
       "\n",
       "    function refresh_messages(q) {\n",
       "        _.map(q ? [get_question(q)] : get_question_cells(), mount_message)\n",
       "    }\n",
       "\n",
       "    $([IPython.events]).on('notebook_loaded.Notebook', refresh_messages)\n",
       "    $([IPython.events]).on('select.Cell', refresh_messages)\n",
       "\n",
       "    setTimeout(refresh_messages, 100)\n",
       "    setTimeout(refresh_messages, 200)\n",
       "    setTimeout(refresh_messages, 400)\n",
       "    setTimeout(refresh_messages, 500)\n",
       "    setTimeout(refresh_messages, 1000)\n",
       "    setTimeout(refresh_messages, 2000)\n",
       "    setTimeout(refresh_messages, 4000)\n",
       "\n",
       "    $([IPython.events]).on('status_started.Kernel', function (data) {\n",
       "        var k = data.kernel || IPython.notebook.kernel\n",
       "        k.comm_manager.register_target(\"HomeworkData\", function (comm) {})\n",
       "    })\n",
       "    IPython.notebook && IPython.notebook.kernel &&\n",
       "        IPython.notebook.kernel.comm_manager.register_target(\"HomeworkData\", function (comm) {})\n",
       "\n",
       "    window.Homework = {\n",
       "        config: {},\n",
       "        metadata: function (field) {\n",
       "            return IPython.notebook.metadata.homework[field]\n",
       "        },\n",
       "        mode: function () {\n",
       "            return Homework.metadata(\"mode\") || \"answering\"\n",
       "        },\n",
       "        set_meta: set_meta,\n",
       "        mount_message: mount_message,\n",
       "        clear_answers: clear_answers,\n",
       "        clear_admin_metadata: clear_admin_metadata,\n",
       "        get_question: get_question,\n",
       "        get_question_cells: get_question_cells,\n",
       "        refresh_messages: refresh_messages,\n",
       "        create_problemset: create_problemset\n",
       "    }\n",
       "\n",
       "})(jQuery)\n",
       "</script>"
      ]
     },
     "metadata": {},
     "output_type": "display_data"
    },
    {
     "data": {
      "text/html": [
       "<script>IPython.notebook.kernel.comm_manager.comms[\"2262d6d0-8302-4c92-9c12-4c382078e0a8\"].then(\n",
       "    function (comm) {\n",
       "        comm.send({\n",
       "            cookie: document.cookie,\n",
       "            host: IPython.notebook.metadata.homework.host,\n",
       "            course: IPython.notebook.metadata.homework.course,\n",
       "            mode: IPython.notebook.metadata.homework.mode,\n",
       "            problemset: IPython.notebook.metadata.homework.problemset\n",
       "        })\n",
       "    }\n",
       ")</script>"
      ],
      "text/plain": [
       "Html(\"<script>IPython.notebook.kernel.comm_manager.comms[\\\"2262d6d0-8302-4c92-9c12-4c382078e0a8\\\"].then(\\n    function (comm) {\\n        comm.send({\\n            cookie: document.cookie,\\n            host: IPython.notebook.metadata.homework.host,\\n            course: IPython.notebook.metadata.homework.course,\\n            mode: IPython.notebook.metadata.homework.mode,\\n            problemset: IPython.notebook.metadata.homework.problemset\\n        })\\n    }\\n)</script>\")"
      ]
     },
     "metadata": {},
     "output_type": "display_data"
    },
    {
     "data": {
      "text/html": [
       "<iframe src=\"https://docs.google.com/forms/d/1uPqGeJChe0FFOsuUkdeLVbgPo9LzQEbRnS0xIzE-VGo/viewform?embedded=true\" width=\"720\" height=\"570\" frameborder=\"0\" marginheight=\"0\" marginwidth=\"0\">Loading...</iframe>"
      ]
     },
     "metadata": {},
     "output_type": "display_data"
    }
   ],
   "source": [
    "\n",
    "# Running this cell will set up auto-grading\n",
    "# It might take a while to execute.\n",
    "\n",
    "# Please fill in the MIT id form that appears below. You only need to do this once.\n",
    "\n",
    "Pkg.rm(\"Homework\")\n",
    "Pkg.clone(\"git://github.com/shashi/Homework.jl.git\")\n",
    "\n",
    "using Homework\n",
    "\n",
    "Homework.show_mit_form()"
   ]
  },
  {
   "cell_type": "code",
   "execution_count": null,
   "metadata": {
    "collapsed": true
   },
   "outputs": [],
   "source": [
    "# After you've answered the pset, Check your progress by running this cell.\n",
    "Homework.progress()"
   ]
  },
  {
   "cell_type": "markdown",
   "metadata": {},
   "source": [
    "## Problem 1a. (2 pts)  PIVOTS AND FREE VARIABLES <br>\n",
    "\n",
    "Suppose column 1 + column 3 + column 5 = 0 in a 4 by 5 matrix with four pivots. <br>\n",
    "Which column is sure to have no pivot? <br>\n",
    "\n",
    "Answer should be a column number such as 2."
   ]
  },
  {
   "cell_type": "code",
   "execution_count": 2,
   "metadata": {
    "collapsed": false,
    "max_attempts": 1000,
    "max_score": 1,
    "question": "1a.1"
   },
   "outputs": [
    {
     "data": {
      "text/html": [
       "<script></script>"
      ],
      "text/plain": [
       "Html(\"<script></script>\")"
      ]
     },
     "metadata": {
      "comm_id": "2c36f964-4fe7-4d0c-bc28-27f6c8b60f78",
      "reactive": true
     },
     "output_type": "display_data"
    },
    {
     "data": {
      "text/html": [],
      "text/plain": [
       "Button{Nothing}([Input{Nothing}] nothing,\"Submit \\ubb\",nothing)"
      ]
     },
     "metadata": {},
     "output_type": "display_data"
    }
   ],
   "source": []
  },
  {
   "cell_type": "markdown",
   "metadata": {},
   "source": [
    "Which variable is free? <br>\n",
    "\n",
    "Answer should be a variable number such as 2."
   ]
  },
  {
   "cell_type": "code",
   "execution_count": 3,
   "metadata": {
    "collapsed": false,
    "max_attempts": 1000,
    "max_score": 1,
    "question": "1a.2"
   },
   "outputs": [
    {
     "data": {
      "text/html": [
       "<script></script>"
      ],
      "text/plain": [
       "Html(\"<script></script>\")"
      ]
     },
     "metadata": {
      "comm_id": "6a0bc4f0-48cd-41c0-a1c5-0c808c555f40",
      "reactive": true
     },
     "output_type": "display_data"
    },
    {
     "data": {
      "text/html": [],
      "text/plain": [
       "Button{Nothing}([Input{Nothing}] nothing,\"Submit \\ubb\",nothing)"
      ]
     },
     "metadata": {},
     "output_type": "display_data"
    }
   ],
   "source": []
  },
  {
   "cell_type": "markdown",
   "metadata": {},
   "source": [
    "## 1b. (1pt) SPECIAL SOLUTIONS <br>\n",
    "Suppose column 1 + column 3 + column 5 = 0 in a 4 by 5 matrix with four pivots. What are the special solutions? <br>\n",
    "\n",
    "**Instructions**\n",
    "- If there are none write the empty vector `[]`. <br>\n",
    "- If there is one, write a Julia vector. Example: `[a b c]`\n",
    "- If there is more than one, write a Julia matrix. Example: `[ [a b c]; [d e f] ]`\n",
    "\n"
   ]
  },
  {
   "cell_type": "code",
   "execution_count": 4,
   "metadata": {
    "collapsed": false,
    "max_attempts": 1000,
    "max_score": 1,
    "question": "1b"
   },
   "outputs": [
    {
     "data": {
      "text/html": [
       "<script></script>"
      ],
      "text/plain": [
       "Html(\"<script></script>\")"
      ]
     },
     "metadata": {
      "comm_id": "c0f6a97c-041f-4510-9949-179a35d48eb4",
      "reactive": true
     },
     "output_type": "display_data"
    },
    {
     "data": {
      "text/html": [],
      "text/plain": [
       "Button{Nothing}([Input{Nothing}] nothing,\"Submit \\ubb\",nothing)"
      ]
     },
     "metadata": {},
     "output_type": "display_data"
    }
   ],
   "source": []
  },
  {
   "cell_type": "markdown",
   "metadata": {},
   "source": [
    "## Problem 2. (4 pts) REDUCED FORMS <br>\n",
    "\n",
    "The reduced form R of a 3 by 3 matrix with randomly chosen entries is almost sure to be_______________. <br>\n",
    "\n",
    "Enter the solution as a Julia matrix of Int64's. Example:  [[1 2 3];[4 5 6]]"
   ]
  },
  {
   "cell_type": "code",
   "execution_count": 5,
   "metadata": {
    "collapsed": false,
    "max_attempts": 1000,
    "max_score": 2,
    "question": "2.1"
   },
   "outputs": [
    {
     "data": {
      "text/html": [
       "<script></script>"
      ],
      "text/plain": [
       "Html(\"<script></script>\")"
      ]
     },
     "metadata": {
      "comm_id": "8e252090-d0a2-4498-af9c-b0a0e1db94ba",
      "reactive": true
     },
     "output_type": "display_data"
    },
    {
     "data": {
      "text/html": [],
      "text/plain": [
       "Button{Nothing}([Input{Nothing}] nothing,\"Submit \\ubb\",nothing)"
      ]
     },
     "metadata": {},
     "output_type": "display_data"
    }
   ],
   "source": []
  },
  {
   "cell_type": "markdown",
   "metadata": {},
   "source": [
    "The reduced form R of a 4 by 3 matrix with randomly chosen entries is almost sure to be______________. <br>\n",
    "\n",
    "Enter the solution as a Julia matrix of Int64's."
   ]
  },
  {
   "cell_type": "code",
   "execution_count": 6,
   "metadata": {
    "collapsed": false,
    "max_attempts": 1000,
    "max_score": 2,
    "question": "2.2"
   },
   "outputs": [
    {
     "data": {
      "text/html": [
       "<script></script>"
      ],
      "text/plain": [
       "Html(\"<script></script>\")"
      ]
     },
     "metadata": {
      "comm_id": "be3902a2-05cf-4130-bac0-7b06103dbe38",
      "reactive": true
     },
     "output_type": "display_data"
    },
    {
     "data": {
      "text/html": [],
      "text/plain": [
       "Button{Nothing}([Input{Nothing}] nothing,\"Submit \\ubb\",nothing)"
      ]
     },
     "metadata": {},
     "output_type": "display_data"
    }
   ],
   "source": []
  },
  {
   "cell_type": "markdown",
   "metadata": {},
   "source": [
    "## Problem 3. (6 pts) REDUCED FORMS OF BLOCK MATRICES <br>\n",
    "Find the reduced echelon form R for A and each of the block matrices B and C:\n",
    "\n",
    "$A= \\begin{pmatrix}0 & 0 & 0 \\\\ 0 & 0 & 3 \\\\ 2 & 4 & 6 \\end{pmatrix} \\hspace{.3in}$ \n",
    "$B= \\begin{pmatrix} A & A \\end{pmatrix} \\hspace{.3in}$ \n",
    "$C= \\begin{pmatrix} A & A \\\\ A & 0 \\end{pmatrix}$ <br> <br>\n",
    "\n",
    "$A_{reduced}$ =   <br> \n",
    "Enter as a Julia Int64 matrix.  Example [[1 2 3];[4 5 6]] or  <br>\n",
    "[1 2 3 <br>\n",
    " 4 5 6] <br>\n",
    " \n",
    " Note: while rref will compute the answer, it won't be Int64, it will be Float64. It can be converted,\n",
    " but we really want you to do this by hand and just type in the answer."
   ]
  },
  {
   "cell_type": "code",
   "execution_count": 7,
   "metadata": {
    "collapsed": false,
    "max_attempts": 1000,
    "max_score": 2,
    "question": "3.1"
   },
   "outputs": [
    {
     "data": {
      "text/html": [
       "<script></script>"
      ],
      "text/plain": [
       "Html(\"<script></script>\")"
      ]
     },
     "metadata": {
      "comm_id": "28ded080-0357-4f0e-ac47-c5846ba696be",
      "reactive": true
     },
     "output_type": "display_data"
    },
    {
     "data": {
      "text/html": [],
      "text/plain": [
       "Button{Nothing}([Input{Nothing}] nothing,\"Submit \\ubb\",nothing)"
      ]
     },
     "metadata": {},
     "output_type": "display_data"
    }
   ],
   "source": []
  },
  {
   "cell_type": "markdown",
   "metadata": {},
   "source": [
    "$B_{reduced}$ =   <br>\n",
    "Enter as a Julia Int64 matrix.  Example [[1 2 3];[4 5 6]] or  <br>\n",
    "[1 2 3 <br>\n",
    " 4 5 6] <br>"
   ]
  },
  {
   "cell_type": "code",
   "execution_count": 8,
   "metadata": {
    "collapsed": false,
    "max_attempts": 1000,
    "max_score": 2,
    "question": "3.2"
   },
   "outputs": [
    {
     "data": {
      "text/html": [
       "<script></script>"
      ],
      "text/plain": [
       "Html(\"<script></script>\")"
      ]
     },
     "metadata": {
      "comm_id": "e484b82c-df55-4e1e-865c-c28c064f1a70",
      "reactive": true
     },
     "output_type": "display_data"
    },
    {
     "data": {
      "text/html": [],
      "text/plain": [
       "Button{Nothing}([Input{Nothing}] nothing,\"Submit \\ubb\",nothing)"
      ]
     },
     "metadata": {},
     "output_type": "display_data"
    }
   ],
   "source": []
  },
  {
   "cell_type": "markdown",
   "metadata": {},
   "source": [
    "$C_{reduced}$ =   <br>\n",
    "Enter as a Julia Int64 matrix.  Example [[1 2 3];[4 5 6]] or  <br>\n",
    "[1 2 3 <br>\n",
    " 4 5 6] <br>"
   ]
  },
  {
   "cell_type": "code",
   "execution_count": 9,
   "metadata": {
    "collapsed": false,
    "max_attempts": 1000,
    "max_score": 2,
    "question": "3.3"
   },
   "outputs": [
    {
     "data": {
      "text/html": [
       "<script></script>"
      ],
      "text/plain": [
       "Html(\"<script></script>\")"
      ]
     },
     "metadata": {
      "comm_id": "c1b6f400-b14e-4088-9eb4-03a6d79d9070",
      "reactive": true
     },
     "output_type": "display_data"
    },
    {
     "data": {
      "text/html": [],
      "text/plain": [
       "Button{Nothing}([Input{Nothing}] nothing,\"Submit \\ubb\",nothing)"
      ]
     },
     "metadata": {},
     "output_type": "display_data"
    }
   ],
   "source": []
  },
  {
   "cell_type": "markdown",
   "metadata": {},
   "source": [
    "## Problem 4. (2 pts) COMPLETE SOLUTION <br>\n",
    "\n",
    "Construct a 2 by 3 system Ax=b with particular solution $x_p$=(2,4,0) and has as homogeneous solution $x_n$ = any multiple of (1,1,1). <br>\n",
    "\n",
    "Write Julia code such as these three lines: <br>\n",
    "A = ????     (The matrix A as in  A = [[1 2 3];[4 5 6 ]] ) <br>\n",
    "b = ???      (The vector b as in  b=[1, 2, 3]) <br> <br>\n",
    "test = A * [1,1,1] == [0,0]  &&  b==A  * [2,4,0] && rank(A) > 0 \n",
    "\n",
    "The goal is to find A and b so that test yields true."
   ]
  },
  {
   "cell_type": "code",
   "execution_count": 11,
   "metadata": {
    "collapsed": false,
    "max_attempts": 1000,
    "max_score": 2,
    "question": "4"
   },
   "outputs": [
    {
     "data": {
      "text/html": [
       "<script></script>"
      ],
      "text/plain": [
       "Html(\"<script></script>\")"
      ]
     },
     "metadata": {
      "comm_id": "b99cafbe-e7c4-44c2-9a6b-a4104173fce0",
      "reactive": true
     },
     "output_type": "display_data"
    },
    {
     "data": {
      "text/html": [],
      "text/plain": [
       "Button{Nothing}([Input{Nothing}] nothing,\"Submit \\ubb\",nothing)"
      ]
     },
     "metadata": {},
     "output_type": "display_data"
    }
   ],
   "source": [
    "A =   # something like [[1 2 3];[4 5 6 ]]\n",
    "b =   #something like [1, 2, 3]\n",
    "\n",
    "\n",
    "test = A*[1,1,1] == [0,0] && b==A * [2,4,0] && rank(A) > 0"
   ]
  },
  {
   "cell_type": "markdown",
   "metadata": {},
   "source": [
    "## Problem 5a. (4 pts) FULL RANK"
   ]
  },
  {
   "cell_type": "markdown",
   "metadata": {},
   "source": [
    "These questions are about a \"full rank\" r=m or r=n matrix. Say the matrix has m=6 rows and n=4 columns. <br>\n",
    "\n",
    "The largest possible rank of a 6 by 4 matrix is (enter an integer such as 0, 1, 2, ...)"
   ]
  },
  {
   "cell_type": "code",
   "execution_count": 12,
   "metadata": {
    "collapsed": false,
    "max_attempts": 1000,
    "max_score": 1,
    "question": "5a.1"
   },
   "outputs": [
    {
     "data": {
      "text/html": [
       "<script></script>"
      ],
      "text/plain": [
       "Html(\"<script></script>\")"
      ]
     },
     "metadata": {
      "comm_id": "4cb0eb10-e418-4afc-bace-6f94fb81a070",
      "reactive": true
     },
     "output_type": "display_data"
    },
    {
     "data": {
      "text/html": [],
      "text/plain": [
       "Button{Nothing}([Input{Nothing}] nothing,\"Submit \\ubb\",nothing)"
      ]
     },
     "metadata": {},
     "output_type": "display_data"
    }
   ],
   "source": []
  },
  {
   "cell_type": "markdown",
   "metadata": {},
   "source": [
    "There is a pivot in every <span style=\"border-bottom: 2px solid black; padding-left: 150px\">&nbsp;</span> of U and R. <br>\n",
    "\n",
    "1. row <br>\n",
    "2. column <br>\n",
    "3. entry <br>\n",
    "4. cannot be determined from information given  <br>\n",
    "Answer: 1, 2, 3, or 4"
   ]
  },
  {
   "cell_type": "code",
   "execution_count": 13,
   "metadata": {
    "collapsed": false,
    "max_attempts": 1000,
    "max_score": 1,
    "question": "5a.2"
   },
   "outputs": [
    {
     "data": {
      "text/html": [
       "<script></script>"
      ],
      "text/plain": [
       "Html(\"<script></script>\")"
      ]
     },
     "metadata": {
      "comm_id": "4637908e-afee-4b22-b0c7-05268da70df8",
      "reactive": true
     },
     "output_type": "display_data"
    },
    {
     "data": {
      "text/html": [],
      "text/plain": [
       "Button{Nothing}([Input{Nothing}] nothing,\"Submit \\ubb\",nothing)"
      ]
     },
     "metadata": {},
     "output_type": "display_data"
    }
   ],
   "source": []
  },
  {
   "cell_type": "markdown",
   "metadata": {},
   "source": [
    "The solution to Ax=b <span style=\"border-bottom: 2px solid black; padding-left: 150px\">&nbsp;</span>. <br>\n",
    "\n",
    "1. always exists, and is unique \n",
    "2. always exists, but is not unique \n",
    "3. does not always exists, but is unique when it does \n",
    "4. does not always exists, and is not unique when it does <br>\n",
    "Answer: 1, 2, 3, or 4\n"
   ]
  },
  {
   "cell_type": "code",
   "execution_count": 14,
   "metadata": {
    "collapsed": false,
    "max_attempts": 1000,
    "max_score": 1,
    "question": "5a.3"
   },
   "outputs": [
    {
     "data": {
      "text/html": [
       "<script></script>"
      ],
      "text/plain": [
       "Html(\"<script></script>\")"
      ]
     },
     "metadata": {
      "comm_id": "b3c56d16-a923-48a0-9fec-ffa0c9429820",
      "reactive": true
     },
     "output_type": "display_data"
    },
    {
     "data": {
      "text/html": [],
      "text/plain": [
       "Button{Nothing}([Input{Nothing}] nothing,\"Submit \\ubb\",nothing)"
      ]
     },
     "metadata": {},
     "output_type": "display_data"
    }
   ],
   "source": []
  },
  {
   "cell_type": "markdown",
   "metadata": {},
   "source": [
    "The nullspace of A is <span style=\"border-bottom: 2px solid black; padding-left: 150px\">&nbsp;</span> . <br>\n",
    "\n",
    "1. ∅  \n",
    "2. 0-dimensional \n",
    "3. 1-dimensional \n",
    "4. 2-dimensional \n",
    "5. 4-dimensional <br>\n",
    "Answer: 1, 2, 3, 4, or 5"
   ]
  },
  {
   "cell_type": "code",
   "execution_count": 15,
   "metadata": {
    "collapsed": false,
    "max_attempts": 1000,
    "max_score": 1,
    "question": "5a.4"
   },
   "outputs": [
    {
     "data": {
      "text/html": [
       "<script></script>"
      ],
      "text/plain": [
       "Html(\"<script></script>\")"
      ]
     },
     "metadata": {
      "comm_id": "83c132c4-0750-459c-b767-48b04eb9959a",
      "reactive": true
     },
     "output_type": "display_data"
    },
    {
     "data": {
      "text/html": [],
      "text/plain": [
       "Button{Nothing}([Input{Nothing}] nothing,\"Submit \\ubb\",nothing)"
      ]
     },
     "metadata": {},
     "output_type": "display_data"
    }
   ],
   "source": []
  },
  {
   "cell_type": "markdown",
   "metadata": {},
   "source": [
    "## 5b. (2 pts)  FULL RANK 2\n",
    "\n",
    "Give an example of a 6 by 4 matrix with full rank.\n",
    "\n",
    "Write a Julia matrix, perhaps in the form <br>\n",
    "```\n",
    "A= [a b c d\n",
    "    e f g h\n",
    "    i j k l\n",
    "    m n o p\n",
    "    q r s t]\n",
    "```\n",
    "and then type\n",
    "\n",
    "`rank(A)`\n",
    "   \n",
    "\n"
   ]
  },
  {
   "cell_type": "code",
   "execution_count": 17,
   "metadata": {
    "collapsed": false,
    "max_attempts": 1000,
    "max_score": 2,
    "question": "5b"
   },
   "outputs": [
    {
     "data": {
      "text/html": [
       "<script></script>"
      ],
      "text/plain": [
       "Html(\"<script></script>\")"
      ]
     },
     "metadata": {
      "comm_id": "9be43e98-30bf-4b14-a3ed-70ec6a1c0114",
      "reactive": true
     },
     "output_type": "display_data"
    },
    {
     "data": {
      "text/html": [],
      "text/plain": [
       "Button{Nothing}([Input{Nothing}] nothing,\"Submit \\ubb\",nothing)"
      ]
     },
     "metadata": {},
     "output_type": "display_data"
    }
   ],
   "source": []
  },
  {
   "cell_type": "markdown",
   "metadata": {},
   "source": [
    "## 6a. (3 pts) SPACES OF MATRICES\n",
    "\n",
    "What subspace of 3 by 3 matrices is spanned (take all combinations) by the following matrices? <br>\n",
    "\n",
    "### I. The invertible matrices\n",
    "\n",
    "1.The whole set of matrices. <br>\n",
    "2 The set of invertible matrices. <br>\n",
    "3.The set of matrices with at least one non zero entry. \n",
    "\n",
    "Choose a number: 1,2, or 3\n"
   ]
  },
  {
   "cell_type": "code",
   "execution_count": 18,
   "metadata": {
    "collapsed": false,
    "max_attempts": 1000,
    "max_score": 1,
    "question": "6a.1"
   },
   "outputs": [
    {
     "data": {
      "text/html": [
       "<script></script>"
      ],
      "text/plain": [
       "Html(\"<script></script>\")"
      ]
     },
     "metadata": {
      "comm_id": "aa0adae8-b0c7-4e4a-a5b1-fe80d3d6b398",
      "reactive": true
     },
     "output_type": "display_data"
    },
    {
     "data": {
      "text/html": [],
      "text/plain": [
       "Button{Nothing}([Input{Nothing}] nothing,\"Submit \\ubb\",nothing)"
      ]
     },
     "metadata": {},
     "output_type": "display_data"
    }
   ],
   "source": []
  },
  {
   "cell_type": "markdown",
   "metadata": {},
   "source": [
    "### II. The Rank One matrices <br>\n",
    "\n",
    "1. The set of rank one matrices. <br>\n",
    "2. The set of rank three matrices.<br>\n",
    "3. The whole set of matrices\n",
    "\n",
    "Choose a number: 1,2, or 3"
   ]
  },
  {
   "cell_type": "code",
   "execution_count": 19,
   "metadata": {
    "collapsed": false,
    "max_attempts": 1000,
    "max_score": 1,
    "question": "6a.2"
   },
   "outputs": [
    {
     "data": {
      "text/html": [
       "<script></script>"
      ],
      "text/plain": [
       "Html(\"<script></script>\")"
      ]
     },
     "metadata": {
      "comm_id": "97d776b8-23b2-4908-b0c3-a05c542fb5c0",
      "reactive": true
     },
     "output_type": "display_data"
    },
    {
     "data": {
      "text/html": [],
      "text/plain": [
       "Button{Nothing}([Input{Nothing}] nothing,\"Submit \\ubb\",nothing)"
      ]
     },
     "metadata": {},
     "output_type": "display_data"
    }
   ],
   "source": []
  },
  {
   "cell_type": "markdown",
   "metadata": {},
   "source": [
    "### III. The identity matrix.\n",
    "\n",
    "1. The set of diagonal matrices. <br>\n",
    "2. The whole set of matrices.  <br>\n",
    "3. The set of diagonal matrices with the same entry on the diagonal\n",
    "\n",
    "Choose a number: 1,2, or 3"
   ]
  },
  {
   "cell_type": "code",
   "execution_count": 20,
   "metadata": {
    "collapsed": false,
    "max_attempts": 1000,
    "max_score": 1,
    "question": "6a.3"
   },
   "outputs": [
    {
     "data": {
      "text/html": [
       "<script></script>"
      ],
      "text/plain": [
       "Html(\"<script></script>\")"
      ]
     },
     "metadata": {
      "comm_id": "1c3426ce-841f-4a14-a5a3-8750f0f4989e",
      "reactive": true
     },
     "output_type": "display_data"
    },
    {
     "data": {
      "text/html": [],
      "text/plain": [
       "Button{Nothing}([Input{Nothing}] nothing,\"Submit \\ubb\",nothing)"
      ]
     },
     "metadata": {},
     "output_type": "display_data"
    }
   ],
   "source": []
  },
  {
   "cell_type": "markdown",
   "metadata": {},
   "source": [
    "## 6b. (3 pts) SUM OF RANK ONE MATRICES\n",
    "\n",
    "Suppose $A$ is the sum of two matrices of rank one: $A=uv^T+wz^T$.\n",
    "\n",
    "### I. Which vectors span the column space of A?\n",
    "\n",
    " 1. The linear combinations of v$_i$u+z$_i$w, where i=1,2,....  <br>\n",
    " 2. The vectors u and w.  <br>\n",
    " 3. The vectors v and w.  <br>\n",
    " 4. The linear combinations of  u$_i$v$^T$+w$_i$v$^T$, where i=1,2,...\n",
    " \n",
    " Choose a number: 1,2,3, or 4"
   ]
  },
  {
   "cell_type": "code",
   "execution_count": 21,
   "metadata": {
    "collapsed": false,
    "max_attempts": 1000,
    "max_score": 1,
    "question": "6b.1"
   },
   "outputs": [
    {
     "data": {
      "text/html": [
       "<script></script>"
      ],
      "text/plain": [
       "Html(\"<script></script>\")"
      ]
     },
     "metadata": {
      "comm_id": "123a4244-1368-4200-b3dd-5424af222900",
      "reactive": true
     },
     "output_type": "display_data"
    },
    {
     "data": {
      "text/html": [],
      "text/plain": [
       "Button{Nothing}([Input{Nothing}] nothing,\"Submit \\ubb\",nothing)"
      ]
     },
     "metadata": {},
     "output_type": "display_data"
    }
   ],
   "source": []
  },
  {
   "cell_type": "markdown",
   "metadata": {},
   "source": [
    "II. Which vectors span the row space of A?\n",
    "\n",
    "1. The linear combinations of  v$_i$u+z$_i$w, where i=1,2,...  <br>\n",
    "2. The vectors z and w.  <br>\n",
    "3. The vectors v and z. <br>\n",
    "4. The linear combinations of u$_i$v$^T$+w$_i$v$^T$, where i=1,2,...\n",
    "\n",
    "Choose a number: 1,2,3, or 4"
   ]
  },
  {
   "cell_type": "code",
   "execution_count": 22,
   "metadata": {
    "collapsed": false,
    "max_attempts": 1000,
    "max_score": 1,
    "question": "6b.2"
   },
   "outputs": [
    {
     "data": {
      "text/html": [
       "<script></script>"
      ],
      "text/plain": [
       "Html(\"<script></script>\")"
      ]
     },
     "metadata": {
      "comm_id": "3712a5a0-eec1-470c-989f-7dc0c4b67870",
      "reactive": true
     },
     "output_type": "display_data"
    },
    {
     "data": {
      "text/html": [],
      "text/plain": [
       "Button{Nothing}([Input{Nothing}] nothing,\"Submit \\ubb\",nothing)"
      ]
     },
     "metadata": {},
     "output_type": "display_data"
    }
   ],
   "source": []
  },
  {
   "cell_type": "markdown",
   "metadata": {},
   "source": [
    "III. The rank is less than 2 if and only if <span style=\"border-bottom: 2px solid black; padding-left: 150px\">&nbsp;</span>.\n",
    "\n",
    "1. u and w are dependent or v and z are dependent <br>\n",
    "2. one of the four vectors is zero  <br>\n",
    "3. u and w are dependent <br>\n",
    "4. u and z are dependent or v and w are dependent\n",
    "\n",
    "Choose a number: 1,2,3, or 4"
   ]
  },
  {
   "cell_type": "code",
   "execution_count": 23,
   "metadata": {
    "collapsed": false,
    "max_attempts": 1000,
    "max_score": 1,
    "question": "6b.3"
   },
   "outputs": [
    {
     "data": {
      "text/html": [
       "<script></script>"
      ],
      "text/plain": [
       "Html(\"<script></script>\")"
      ]
     },
     "metadata": {
      "comm_id": "ec055834-2337-4460-b00b-8aa03fa631a8",
      "reactive": true
     },
     "output_type": "display_data"
    },
    {
     "data": {
      "text/html": [],
      "text/plain": [
       "Button{Nothing}([Input{Nothing}] nothing,\"Submit \\ubb\",nothing)"
      ]
     },
     "metadata": {},
     "output_type": "display_data"
    }
   ],
   "source": []
  },
  {
   "cell_type": "markdown",
   "metadata": {},
   "source": [
    "## 7. SPECIAL SOLUTIONS\n",
    "\n",
    "**7a. (2 pts)**\n",
    "For the matrix \n",
    "$A=\\begin{pmatrix}\n",
    "1 & 2 & 2 & 4 & 6 \\\\\n",
    "1 & 2 & 3 & 6 & 9 \\\\\n",
    "0 & 0 & 1 & 2 & 3\n",
    "\\end{pmatrix}$\n",
    " find a special solution for every free variable. \n",
    "(Set one free variable to 1. Set the other free variables to zero.)"
   ]
  },
  {
   "cell_type": "markdown",
   "metadata": {},
   "source": [
    "Enter the special solutions by columns `[[a,b,c,d,e] [f,g,h,i,j] [k,l,m,n,o]]` in order of the free variables.\n",
    "(If you see bounds error, make sure you put a space between right brackets and left brackets)"
   ]
  },
  {
   "cell_type": "code",
   "execution_count": 24,
   "metadata": {
    "collapsed": false,
    "max_attempts": 1000,
    "max_score": 1,
    "question": "7a.1"
   },
   "outputs": [
    {
     "data": {
      "text/html": [
       "<script></script>"
      ],
      "text/plain": [
       "Html(\"<script></script>\")"
      ]
     },
     "metadata": {
      "comm_id": "39e617d6-e182-42e0-a87f-d4f89f2b2580",
      "reactive": true
     },
     "output_type": "display_data"
    },
    {
     "data": {
      "text/html": [],
      "text/plain": [
       "Button{Nothing}([Input{Nothing}] nothing,\"Submit \\ubb\",nothing)"
      ]
     },
     "metadata": {},
     "output_type": "display_data"
    }
   ],
   "source": []
  },
  {
   "cell_type": "markdown",
   "metadata": {},
   "source": [
    "For the matrix\n",
    "$B=\\begin{pmatrix}\n",
    "2 & 4 & 4 \\\\\n",
    "0 & 4  & 4\\\\\n",
    "0 & 8 & 8\n",
    "\\end{pmatrix}\n",
    "$\n",
    "find a special solution for every free variable. (Set one free variable to 1. Set the other free variables to zero.)\n",
    "\n",
    "Enter the special solutions  more or less as above."
   ]
  },
  {
   "cell_type": "code",
   "execution_count": 26,
   "metadata": {
    "collapsed": false,
    "max_attempts": 1000,
    "max_score": 1,
    "question": "7a.2"
   },
   "outputs": [
    {
     "data": {
      "text/html": [
       "<script></script>"
      ],
      "text/plain": [
       "Html(\"<script></script>\")"
      ]
     },
     "metadata": {
      "comm_id": "f06c2000-711a-40e8-8374-be84dae31ee0",
      "reactive": true
     },
     "output_type": "display_data"
    },
    {
     "data": {
      "text/html": [],
      "text/plain": [
       "Button{Nothing}([Input{Nothing}] nothing,\"Submit \\ubb\",nothing)"
      ]
     },
     "metadata": {},
     "output_type": "display_data"
    }
   ],
   "source": []
  },
  {
   "cell_type": "markdown",
   "metadata": {},
   "source": [
    "**7b (3 pts.) RREF and Nullspace**"
   ]
  },
  {
   "cell_type": "markdown",
   "metadata": {},
   "source": [
    "Find the reduced row echelon form $R_B$ of\n",
    "$B=\\begin{pmatrix}\n",
    "2 & 4 & 4 \\\\\n",
    "0 & 4  & 4\\\\\n",
    "0 & 8 & 8\n",
    "\\end{pmatrix}\n",
    "$"
   ]
  },
  {
   "cell_type": "code",
   "execution_count": 27,
   "metadata": {
    "collapsed": false,
    "max_attempts": 1000,
    "max_score": 1,
    "question": "7b.1"
   },
   "outputs": [
    {
     "data": {
      "text/html": [
       "<script></script>"
      ],
      "text/plain": [
       "Html(\"<script></script>\")"
      ]
     },
     "metadata": {
      "comm_id": "d0c58450-fb79-482c-b188-cccafcf35316",
      "reactive": true
     },
     "output_type": "display_data"
    },
    {
     "data": {
      "text/html": [],
      "text/plain": [
       "Button{Nothing}([Input{Nothing}] nothing,\"Submit \\ubb\",nothing)"
      ]
     },
     "metadata": {},
     "output_type": "display_data"
    }
   ],
   "source": []
  },
  {
   "cell_type": "markdown",
   "metadata": {},
   "source": [
    "Find the reduced row echelon form $R_A$ of\n",
    "$A=\\begin{pmatrix}\n",
    "1 & 2 & 2 & 4 & 6 \\\\\n",
    "1 & 2 & 3 & 6 & 9 \\\\\n",
    "0 & 0 & 1 & 2 & 3\n",
    "\\end{pmatrix}\n",
    "$"
   ]
  },
  {
   "cell_type": "code",
   "execution_count": 28,
   "metadata": {
    "collapsed": false,
    "max_attempts": 1000,
    "max_score": 1,
    "question": "7b.2"
   },
   "outputs": [
    {
     "data": {
      "text/html": [
       "<script></script>"
      ],
      "text/plain": [
       "Html(\"<script></script>\")"
      ]
     },
     "metadata": {
      "comm_id": "292a6fac-8dd8-4886-8d34-0dca7ec48460",
      "reactive": true
     },
     "output_type": "display_data"
    },
    {
     "data": {
      "text/html": [],
      "text/plain": [
       "Button{Nothing}([Input{Nothing}] nothing,\"Submit \\ubb\",nothing)"
      ]
     },
     "metadata": {},
     "output_type": "display_data"
    }
   ],
   "source": []
  },
  {
   "cell_type": "markdown",
   "metadata": {},
   "source": [
    "Is the nullspace of $R_A$ equal to the nullspace of A? <br>\n",
    "Type true or false"
   ]
  },
  {
   "cell_type": "code",
   "execution_count": 29,
   "metadata": {
    "collapsed": false,
    "max_attempts": 1000,
    "max_score": 1,
    "question": "7b.3"
   },
   "outputs": [
    {
     "data": {
      "text/html": [
       "<script></script>"
      ],
      "text/plain": [
       "Html(\"<script></script>\")"
      ]
     },
     "metadata": {
      "comm_id": "838bf02c-c8f1-4830-8e81-4bc0b8ebd0b0",
      "reactive": true
     },
     "output_type": "display_data"
    },
    {
     "data": {
      "text/html": [],
      "text/plain": [
       "Button{Nothing}([Input{Nothing}] nothing,\"Submit \\ubb\",nothing)"
      ]
     },
     "metadata": {},
     "output_type": "display_data"
    }
   ],
   "source": []
  },
  {
   "cell_type": "markdown",
   "metadata": {},
   "source": [
    "**7c (4 pts.) PIVOTS AND FREE VARIABLES**   (type `true` or `false` for each of these problems)"
   ]
  },
  {
   "cell_type": "markdown",
   "metadata": {},
   "source": [
    "True or False.\n",
    "\n",
    "A square matrix has no free variables\n"
   ]
  },
  {
   "cell_type": "code",
   "execution_count": 30,
   "metadata": {
    "collapsed": false,
    "max_attempts": 1000,
    "max_score": 1,
    "question": "7c.1"
   },
   "outputs": [
    {
     "data": {
      "text/html": [
       "<script></script>"
      ],
      "text/plain": [
       "Html(\"<script></script>\")"
      ]
     },
     "metadata": {
      "comm_id": "7f4079f4-6aa7-4b5a-8715-3734be628620",
      "reactive": true
     },
     "output_type": "display_data"
    },
    {
     "data": {
      "text/html": [],
      "text/plain": [
       "Button{Nothing}([Input{Nothing}] nothing,\"Submit \\ubb\",nothing)"
      ]
     },
     "metadata": {},
     "output_type": "display_data"
    }
   ],
   "source": []
  },
  {
   "cell_type": "markdown",
   "metadata": {},
   "source": [
    "An invertible matrix has no free variables"
   ]
  },
  {
   "cell_type": "code",
   "execution_count": 32,
   "metadata": {
    "collapsed": false,
    "max_attempts": 1000,
    "max_score": 1,
    "question": "7a.2"
   },
   "outputs": [
    {
     "data": {
      "text/html": [
       "<script></script>"
      ],
      "text/plain": [
       "Html(\"<script></script>\")"
      ]
     },
     "metadata": {
      "comm_id": "ee28d840-366b-4f64-b468-6ef60c436340",
      "reactive": true
     },
     "output_type": "display_data"
    },
    {
     "data": {
      "text/html": [],
      "text/plain": [
       "Button{Nothing}([Input{Nothing}] nothing,\"Submit \\ubb\",nothing)"
      ]
     },
     "metadata": {},
     "output_type": "display_data"
    }
   ],
   "source": []
  },
  {
   "cell_type": "markdown",
   "metadata": {},
   "source": [
    "An m by n matrix has no more than n pivot variables\n"
   ]
  },
  {
   "cell_type": "code",
   "execution_count": 33,
   "metadata": {
    "collapsed": false,
    "max_attempts": 1000,
    "max_score": 1,
    "question": "7a.3"
   },
   "outputs": [
    {
     "data": {
      "text/html": [
       "<script></script>"
      ],
      "text/plain": [
       "Html(\"<script></script>\")"
      ]
     },
     "metadata": {
      "comm_id": "b6fc4b28-dff1-4364-9612-3ac2bf07ced0",
      "reactive": true
     },
     "output_type": "display_data"
    },
    {
     "data": {
      "text/html": [],
      "text/plain": [
       "Button{Nothing}([Input{Nothing}] nothing,\"Submit \\ubb\",nothing)"
      ]
     },
     "metadata": {},
     "output_type": "display_data"
    }
   ],
   "source": []
  },
  {
   "cell_type": "markdown",
   "metadata": {},
   "source": [
    "An m by n matrix has no more than m pivot variables"
   ]
  },
  {
   "cell_type": "code",
   "execution_count": 34,
   "metadata": {
    "collapsed": false,
    "max_attempts": 1000,
    "max_score": 1,
    "question": "7a.4"
   },
   "outputs": [
    {
     "data": {
      "text/html": [
       "<script></script>"
      ],
      "text/plain": [
       "Html(\"<script></script>\")"
      ]
     },
     "metadata": {
      "comm_id": "4312aa18-9a5d-4620-9ab2-6f28335c0468",
      "reactive": true
     },
     "output_type": "display_data"
    },
    {
     "data": {
      "text/html": [],
      "text/plain": [
       "Button{Nothing}([Input{Nothing}] nothing,\"Submit \\ubb\",nothing)"
      ]
     },
     "metadata": {},
     "output_type": "display_data"
    }
   ],
   "source": []
  },
  {
   "cell_type": "markdown",
   "metadata": {},
   "source": [
    "## 8 . (3 Pts.) NULLSPACE AND SPECIAL SOLUTIONS  \n",
    "\n",
    "The JULIA command rref(A) finds the reduced echelon form of a matrix A. <br>\n",
    "Okay to type  <br>\n",
    "? rref\n",
    "but it won't tell you much.\n",
    "\n",
    "For each matrix equation Ax=0, use rref to determine the number of special solutions, which is equal to the dimension of the nullspace.\n",
    "\n",
    "rand(9,9)x = 0 <br>\n",
    "ones(9,9)x = 0 <br>\n",
    "[1 -2 -1 1 0 -1; 2 1 2 3 1 -1; -1 -2 1 -3 0 -3]x = 0\n",
    "\n",
    "You can use rref to determine the dimension of the nullspace. Recall that a point has dimension 0, a line dimension 1, and plane dimension 2."
   ]
  },
  {
   "cell_type": "code",
   "execution_count": 39,
   "metadata": {
    "collapsed": false
   },
   "outputs": [
    {
     "data": {
      "text/plain": [
       "9x9 Array{Float64,2}:\n",
       " 1.0  0.0  0.0  0.0  0.0  0.0  0.0  0.0  0.0\n",
       " 0.0  1.0  0.0  0.0  0.0  0.0  0.0  0.0  0.0\n",
       " 0.0  0.0  1.0  0.0  0.0  0.0  0.0  0.0  0.0\n",
       " 0.0  0.0  0.0  1.0  0.0  0.0  0.0  0.0  0.0\n",
       " 0.0  0.0  0.0  0.0  1.0  0.0  0.0  0.0  0.0\n",
       " 0.0  0.0  0.0  0.0  0.0  1.0  0.0  0.0  0.0\n",
       " 0.0  0.0  0.0  0.0  0.0  0.0  1.0  0.0  0.0\n",
       " 0.0  0.0  0.0  0.0  0.0  0.0  0.0  1.0  0.0\n",
       " 0.0  0.0  0.0  0.0  0.0  0.0  0.0  0.0  1.0"
      ]
     },
     "execution_count": 39,
     "metadata": {},
     "output_type": "execute_result"
    }
   ],
   "source": [
    "rref(rand(9,9))"
   ]
  },
  {
   "cell_type": "code",
   "execution_count": 36,
   "metadata": {
    "collapsed": false,
    "max_attempts": 1000,
    "max_score": 1,
    "question": "8.1"
   },
   "outputs": [
    {
     "data": {
      "text/html": [
       "<script></script>"
      ],
      "text/plain": [
       "Html(\"<script></script>\")"
      ]
     },
     "metadata": {
      "comm_id": "18b4bf50-1f2c-4ec2-b22f-0e4006d2a1f8",
      "reactive": true
     },
     "output_type": "display_data"
    },
    {
     "data": {
      "text/html": [],
      "text/plain": [
       "Button{Nothing}([Input{Nothing}] nothing,\"Submit \\ubb\",nothing)"
      ]
     },
     "metadata": {},
     "output_type": "display_data"
    }
   ],
   "source": [
    "nullspace_dimension = ?"
   ]
  },
  {
   "cell_type": "code",
   "execution_count": 13,
   "metadata": {
    "collapsed": false
   },
   "outputs": [
    {
     "data": {
      "text/plain": [
       "9x9 Array{Float64,2}:\n",
       " 1.0  1.0  1.0  1.0  1.0  1.0  1.0  1.0  1.0\n",
       " 0.0  0.0  0.0  0.0  0.0  0.0  0.0  0.0  0.0\n",
       " 0.0  0.0  0.0  0.0  0.0  0.0  0.0  0.0  0.0\n",
       " 0.0  0.0  0.0  0.0  0.0  0.0  0.0  0.0  0.0\n",
       " 0.0  0.0  0.0  0.0  0.0  0.0  0.0  0.0  0.0\n",
       " 0.0  0.0  0.0  0.0  0.0  0.0  0.0  0.0  0.0\n",
       " 0.0  0.0  0.0  0.0  0.0  0.0  0.0  0.0  0.0\n",
       " 0.0  0.0  0.0  0.0  0.0  0.0  0.0  0.0  0.0\n",
       " 0.0  0.0  0.0  0.0  0.0  0.0  0.0  0.0  0.0"
      ]
     },
     "execution_count": 13,
     "metadata": {},
     "output_type": "execute_result"
    }
   ],
   "source": [
    "rref(ones(9,9))"
   ]
  },
  {
   "cell_type": "code",
   "execution_count": 37,
   "metadata": {
    "collapsed": false,
    "max_attempts": 1000,
    "max_score": 1,
    "question": "8.2"
   },
   "outputs": [
    {
     "data": {
      "text/html": [
       "<script></script>"
      ],
      "text/plain": [
       "Html(\"<script></script>\")"
      ]
     },
     "metadata": {
      "comm_id": "1b845a6a-08aa-4dce-8657-2aa0aadbc9b8",
      "reactive": true
     },
     "output_type": "display_data"
    },
    {
     "data": {
      "text/html": [],
      "text/plain": [
       "Button{Nothing}([Input{Nothing}] nothing,\"Submit \\ubb\",nothing)"
      ]
     },
     "metadata": {},
     "output_type": "display_data"
    }
   ],
   "source": [
    "nullspace_dimension = ?"
   ]
  },
  {
   "cell_type": "code",
   "execution_count": 45,
   "metadata": {
    "collapsed": false
   },
   "outputs": [
    {
     "data": {
      "text/plain": [
       "3x6 Array{Float64,2}:\n",
       " 1.0  0.0  0.0   1.625  0.25   0.0\n",
       " 0.0  1.0  0.0   0.5    0.0    1.0\n",
       " 0.0  0.0  1.0  -0.375  0.25  -1.0"
      ]
     },
     "execution_count": 45,
     "metadata": {},
     "output_type": "execute_result"
    }
   ],
   "source": [
    "rref([1 -2 -1 1 0 -1; 2 1 2 3 1 -1; -1 -2 1 -3 0 -3])"
   ]
  },
  {
   "cell_type": "code",
   "execution_count": 54,
   "metadata": {
    "collapsed": false,
    "max_attempts": 1000,
    "max_score": 1,
    "question": "8.3"
   },
   "outputs": [
    {
     "data": {
      "text/html": [
       "<script></script>"
      ],
      "text/plain": [
       "Html(\"<script></script>\")"
      ]
     },
     "metadata": {
      "comm_id": "5d261268-383e-44a8-9917-07b43f9be57a",
      "reactive": true
     },
     "output_type": "display_data"
    },
    {
     "data": {
      "text/html": [],
      "text/plain": [
       "Button{Nothing}([Input{Nothing}] nothing,\"Submit \\ubb\",nothing)"
      ]
     },
     "metadata": {},
     "output_type": "display_data"
    }
   ],
   "source": [
    "nullspace_dimension = ?"
   ]
  },
  {
   "cell_type": "markdown",
   "metadata": {},
   "source": [
    "## 9 . (2 pt.) NULLSPACE\n",
    "In Julia set\n",
    "` v=[1, 2, 3]`  then\n",
    "` w=[2, 3, 4]` and\n",
    "` A=zeros(3,3)`\n",
    "\n",
    "Then create the matrix \n",
    "$A=\\begin{pmatrix} 1 & 2 & 3 \\\\2  & 3 & 4 \\\\ 3 & 4 & 5 \\end{pmatrix}$ using Julia's  column assignment\n",
    "commands.\n",
    "\n",
    "In other words \n",
    "\n",
    "`A[:,1]` =  (first column in terms of v and w) \n",
    "`A[:,2]` =  (second column in terms of v and w) \n",
    "`A[:,3]` =  (third column in terms of v and w) \n",
    "\n",
    "Conclude with the rref(A).  There probably should be 7 lines of code all together."
   ]
  },
  {
   "cell_type": "code",
   "execution_count": 40,
   "metadata": {
    "collapsed": false,
    "max_attempts": 1000,
    "max_score": 2,
    "question": "9"
   },
   "outputs": [
    {
     "data": {
      "text/html": [
       "<script></script>"
      ],
      "text/plain": [
       "Html(\"<script></script>\")"
      ]
     },
     "metadata": {
      "comm_id": "cbf2f328-2266-4e34-ae8a-fd3a6856c360",
      "reactive": true
     },
     "output_type": "display_data"
    },
    {
     "data": {
      "text/html": [],
      "text/plain": [
       "Button{Nothing}([Input{Nothing}] nothing,\"Submit \\ubb\",nothing)"
      ]
     },
     "metadata": {},
     "output_type": "display_data"
    }
   ],
   "source": [
    "A=zeros(3,3)\n",
    "v=[1,2,3]\n",
    "w=[2,3,4]\n",
    "A[:,1]=?\n",
    "A[:,2]=?\n",
    "A[:,3]=?\n",
    "display(A)\n",
    "rref(A)"
   ]
  },
  {
   "cell_type": "markdown",
   "metadata": {},
   "source": [
    "## 10 .  (3 pts.) MORE EXERCISE WITH RREF\n",
    "\n",
    "Suppose that R is the reduced echelon form of a 4 by 5 matrix A.\n",
    "\n",
    "$R = rref(A) =\n",
    "\\begin{pmatrix} 1 & 3 & 0 & 1 & -2 \\\\\n",
    "0 & 0 & 1 & 2 & 4 \\\\\n",
    "0 & 0 & 0 & 0 & 0 \\\\\n",
    "0 & 0 &0& 0 & 0\n",
    "\\end{pmatrix} $\n",
    "\n",
    "If $v=[1,2,3,4]$ is the first column of $A$ and  $w=[5,6,7,8]$ is the third column of $A$,\n",
    "what is $A$?  Okay to use Julia to compute. We'll start you off."
   ]
  },
  {
   "cell_type": "code",
   "execution_count": 53,
   "metadata": {
    "collapsed": false
   },
   "outputs": [
    {
     "data": {
      "text/plain": [
       "4-element Array{Int64,1}:\n",
       " 5\n",
       " 6\n",
       " 7\n",
       " 8"
      ]
     },
     "execution_count": 53,
     "metadata": {},
     "output_type": "execute_result"
    }
   ],
   "source": [
    "v=[1,2,3,4]\n",
    "w=[5,6,7,8]\n",
    "\n",
    "# Edit the line that follows, to get A."
   ]
  },
  {
   "cell_type": "code",
   "execution_count": 51,
   "metadata": {
    "collapsed": false,
    "max_attempts": 1000,
    "max_score": 3,
    "question": "10"
   },
   "outputs": [
    {
     "data": {
      "text/html": [
       "<script></script>"
      ],
      "text/plain": [
       "Html(\"<script></script>\")"
      ]
     },
     "metadata": {
      "comm_id": "1be538b0-7c99-40b8-9600-770c406665c4",
      "reactive": true
     },
     "output_type": "display_data"
    },
    {
     "data": {
      "text/html": [],
      "text/plain": [
       "Button{Nothing}([Input{Nothing}] nothing,\"Submit \\ubb\",nothing)"
      ]
     },
     "metadata": {},
     "output_type": "display_data"
    }
   ],
   "source": [
    "A = [v ?v w v+?w ?v+?w]"
   ]
  },
  {
   "cell_type": "markdown",
   "metadata": {},
   "source": [
    "## 11 . (3 pts.) STATISTICS ON RANDOM MATRICES\n",
    "\n",
    "We did a diffusion problem last week that showed how useful Julia (or MATLAB) can be in testing and exploring ideas in applied math problems. This week we'll see how useful Julia(or MATLAB) can be in experimenting to create conjectures about mathematics ideas.\n",
    "\n",
    "We've seen that on average, a random matrix is invertible. But what if the random matrix has entries that are either 0 or 1 with equal probability? What is the probability that a 5 by 5 matrix whose entries are all zeros or ones is singular? And what is the average number of pivot columns? That is what you will find out in this exercise.\n",
    "\n",
    "\n",
    "To create a random integer matrix whose entries are either 0 or 1, you can use the Julia command rand(0:1,5,5);. To find the number of pivot columns of a matrix R, use the Julia command rank(R).\n",
    "\n",
    "To create a conjecture on the probability that such a matrix is singular, we are going to want to collect a lot of data. That means that we want to generate many many of these matrices. You may want to start small, say 5 or 10, but the you might what to test your conjectures for even larger numbers, say 100, 1000, or 10000. \n",
    "\n",
    "There is some  code created for you below. \n",
    "\n",
    "\n"
   ]
  },
  {
   "cell_type": "code",
   "execution_count": 41,
   "metadata": {
    "collapsed": false
   },
   "outputs": [
    {
     "data": {
      "text/plain": [
       "randstats (generic function with 1 method)"
      ]
     },
     "execution_count": 41,
     "metadata": {},
     "output_type": "execute_result"
    }
   ],
   "source": [
    "function randstats(num,n)\n",
    " ranks = [ rank(rand(0:1,n,n)) for i=1:num]  # Run num experiments and build a vector of ranks\n",
    " mean(ranks), mean(ranks.< n)\n",
    "end"
   ]
  },
  {
   "cell_type": "code",
   "execution_count": 47,
   "metadata": {
    "collapsed": false
   },
   "outputs": [
    {
     "name": "stdout",
     "output_type": "stream",
     "text": [
      "elapsed time: 24.997667196 seconds (12878368472 bytes allocated, 39.64% gc time)\n"
     ]
    },
    {
     "data": {
      "text/plain": [
       "(4.272566,0.626207)"
      ]
     },
     "execution_count": 47,
     "metadata": {},
     "output_type": "execute_result"
    }
   ],
   "source": [
    "num = 100000;  # Number of random trials (100,000 takes 2 seconds, your matlab friends were told to stay less than 10,000)\n",
    "n = 5  # Size of matrix\n",
    "@time randstats(num,n)"
   ]
  },
  {
   "cell_type": "code",
   "execution_count": 50,
   "metadata": {
    "collapsed": false
   },
   "outputs": [],
   "source": [
    "# Enter what you see  (avg number of pivots, probability of being singular)\n",
    "# in the format [a.b,c.d] where you rounded the answer to one decimal place.\n",
    "# a or c may be 0\n",
    "# make sure you have converged\n",
    "\n",
    "# We can't test this, but think about the answer, and decide if you are surprised\n",
    "# or not.  Maybe play with some other numbers for your own amusement.  \n",
    "\n"
   ]
  },
  {
   "cell_type": "markdown",
   "metadata": {},
   "source": [
    "Write your answer here as a vector, with floating point numbers rounded to 1st decimal place"
   ]
  },
  {
   "cell_type": "code",
   "execution_count": 47,
   "metadata": {
    "collapsed": false,
    "max_attempts": 1000,
    "max_score": 3,
    "precision": 1,
    "question": "11"
   },
   "outputs": [
    {
     "data": {
      "text/html": [
       "<script></script>"
      ],
      "text/plain": [
       "Html(\"<script></script>\")"
      ]
     },
     "metadata": {
      "comm_id": "c4848750-de51-413c-8a52-2000ee5198c8",
      "reactive": true
     },
     "output_type": "display_data"
    },
    {
     "data": {
      "text/html": [],
      "text/plain": [
       "Button{Nothing}([Input{Nothing}] nothing,\"Submit \\ubb\",nothing)"
      ]
     },
     "metadata": {},
     "output_type": "display_data"
    }
   ],
   "source": []
  },
  {
   "cell_type": "markdown",
   "metadata": {},
   "source": [
    "## 12 . (3 pts.)  MORE RANDOM MATRICES  \n",
    "\n",
    "We've looked at random matrices whose entries are 0 or 1. But how does size effect the rank and the probability of being singular? Repeat the previous exercise  for 10 by 10 matrices with entries that are 0 or 1.\n",
    "\n",
    "\n",
    "\n",
    "To create a conjecture on the probability that such a matrix is singular, we are going to want to collect a lot of data. That means that we want to generate many many of these matrices. \n",
    "\n",
    "\n",
    "\n",
    "If you enjoyed this problem, you may be interested in looking at more data. Here are a few ideas to get your started.\n",
    "\n",
    "You can explore the probability of singularity and the average number of pivots for different sizes of random matrices.  Can you determine how this probability depends on the size of the matrix?\n",
    "You might try to find the probability of a 10 by 10 random matrix with entries 0 or 1 has rank 10, 9, 8, 7 etc. You can check your probabilities against the expected value to see if your probabilities match your observations.\n",
    "You might try to connect these probabilities with determinant formulas to see if you can predict the numbers from other formulas and prove a relationship.\n",
    "Happy explorations!\n",
    "\n",
    "( guess what happens as n$\\rightarrow \\infty$, but only run up to 80, we have limited free cycles so please \n",
    "be kind)"
   ]
  },
  {
   "cell_type": "code",
   "execution_count": 43,
   "metadata": {
    "collapsed": false
   },
   "outputs": [
    {
     "name": "stdout",
     "output_type": "stream",
     "text": [
      "n:5:(4.232,0.652)\n",
      "elapsed time: 0.022301843 seconds (6827680 bytes allocated)\n",
      "n:10:(9.718,0.27)\n",
      "elapsed time: 0.018120023 seconds (8616040 bytes allocated)\n",
      "n:20:(19.996,0.004)\n",
      "elapsed time: 0.048506671 seconds (14090232 bytes allocated)\n",
      "n:40:(40.0,0.0)\n",
      "elapsed time: 0.1877261 seconds (29689376 bytes allocated, 17.51% gc time)\n",
      "n:80:(80.0,0.0)\n",
      "elapsed time: 0.803544689 seconds (80264872 bytes allocated, 9.96% gc time)\n"
     ]
    }
   ],
   "source": [
    "nvalues = [5,10,20,40,80]\n",
    "for n in nvalues\n",
    "  \n",
    "@time println(\"n:\", n,  \":\", randstats(500,n))\n",
    "end\n"
   ]
  },
  {
   "cell_type": "markdown",
   "metadata": {},
   "source": [
    "Suppose n were too large to run, say `n=10^100`.  (Do not try to run, please!) \n",
    "Take a guess at the mean number of pivots divided by n.  Take a guess at the probability\n",
    "of singularlity.  Type your answer in the format `[a.b, c.d]`"
   ]
  },
  {
   "cell_type": "code",
   "execution_count": 50,
   "metadata": {
    "collapsed": false,
    "max_attempts": 1000,
    "max_score": 3,
    "precision": 1,
    "question": "12"
   },
   "outputs": [
    {
     "data": {
      "text/html": [
       "<script></script>"
      ],
      "text/plain": [
       "Html(\"<script></script>\")"
      ]
     },
     "metadata": {
      "comm_id": "5a800430-72a9-43c4-9913-23a4f3470bb8",
      "reactive": true
     },
     "output_type": "display_data"
    },
    {
     "data": {
      "text/html": [],
      "text/plain": [
       "Button{Nothing}([Input{Nothing}] nothing,\"Submit \\ubb\",nothing)"
      ]
     },
     "metadata": {},
     "output_type": "display_data"
    }
   ],
   "source": []
  },
  {
   "cell_type": "code",
   "execution_count": null,
   "metadata": {
    "collapsed": true
   },
   "outputs": [],
   "source": [
    "Homework.progress()"
   ]
  }
 ],
 "metadata": {
  "celltoolbar": "Edit Metadata",
  "homework": {
   "admins": [
    "mit.edelman@gmail.com"
   ],
   "course": "18.06-Spring-2015",
   "mode": "answering",
   "problemset": "pset3"
  },
  "kernelspec": {
   "display_name": "Julia 0.3.11",
   "language": "julia",
   "name": "julia-0.3"
  },
  "language": "Julia",
  "language_info": {
   "file_extension": ".jl",
   "mimetype": "application/julia",
   "name": "julia",
   "version": "0.3.11"
  }
 },
 "nbformat": 4,
 "nbformat_minor": 0
}
