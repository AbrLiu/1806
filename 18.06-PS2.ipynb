{
 "cells": [
  {
   "cell_type": "code",
   "execution_count": null,
   "metadata": {
    "collapsed": false
   },
   "outputs": [],
   "source": [
    "\n",
    "# Running this cell will set up auto-grading\n",
    "# It might take a while to execute.\n",
    "\n",
    "# Please fill in the MIT id form that appears below. You only need to do this once.\n",
    "\n",
    "Pkg.rm(\"Homework\")\n",
    "Pkg.clone(\"git://github.com/shashi/Homework.jl.git\")\n",
    "\n",
    "using Homework\n",
    "\n",
    "# SymPy takes a while to load - ignore the warnings it produces - they are harmless\n",
    "using SymPy\n",
    "\n",
    "# Symbols for some of the problems\n",
    "a,b,c,r,s,t=@syms a b c r s t\n",
    "\n",
    "Homework.show_mit_form()"
   ]
  },
  {
   "cell_type": "code",
   "execution_count": null,
   "metadata": {
    "collapsed": false
   },
   "outputs": [],
   "source": [
    "Homework.progress()"
   ]
  },
  {
   "cell_type": "markdown",
   "metadata": {},
   "source": [
    "# Problem 1a. LU Decomposition"
   ]
  },
  {
   "cell_type": "markdown",
   "metadata": {},
   "source": [
    "(4 pts.) We would like to find the LU decomposition of A=\n",
    "$\\left( \\begin{matrix}\n",
    "a & r  & r & r \\\\\n",
    "a & b  & s & s \\\\\n",
    "a & b  & c & t \\\\\n",
    "a & b  & c &  d\n",
    "\\end{matrix} \\right) $.\n",
    "\n",
    "Find the four conditions on a,b,c,d,r,s,t so that A=LU above has four pivots.\n",
    "\n",
    "Your expressions can involve any of the variables: `a`,`b`,`c`,`d`,`r`,`s`,`t`.  "
   ]
  },
  {
   "cell_type": "markdown",
   "metadata": {},
   "source": [
    "a ≠"
   ]
  },
  {
   "cell_type": "code",
   "execution_count": null,
   "metadata": {
    "attempts": 1,
    "collapsed": false,
    "max_attempts": 1000,
    "max_score": 1,
    "question": "1a.1",
    "score": 0,
    "status": -1
   },
   "outputs": [],
   "source": []
  },
  {
   "cell_type": "markdown",
   "metadata": {},
   "source": [
    "b ≠"
   ]
  },
  {
   "cell_type": "code",
   "execution_count": null,
   "metadata": {
    "collapsed": false,
    "max_attempts": 1000,
    "max_score": 1,
    "question": "1a.2"
   },
   "outputs": [],
   "source": []
  },
  {
   "cell_type": "markdown",
   "metadata": {},
   "source": [
    "c  ≠"
   ]
  },
  {
   "cell_type": "code",
   "execution_count": null,
   "metadata": {
    "collapsed": false,
    "max_attempts": 1000,
    "max_score": 1,
    "question": "1a.3"
   },
   "outputs": [],
   "source": []
  },
  {
   "cell_type": "markdown",
   "metadata": {},
   "source": [
    "d ≠"
   ]
  },
  {
   "cell_type": "code",
   "execution_count": null,
   "metadata": {
    "collapsed": false,
    "max_attempts": 1000,
    "max_score": 1,
    "question": "1a.4"
   },
   "outputs": [],
   "source": []
  },
  {
   "cell_type": "markdown",
   "metadata": {},
   "source": [
    "**A note about Julia matrix syntax**\n",
    "\n",
    "Because matrices are so common in numerical computing, Julia supports various ways of creating them. Each one is convenient in its own way. To remind ourselves of the syntax, below are some example Julia code snippets that each create the same matrix:\n",
    "\n",
    "\n",
    "\n",
    "In Julia a matrix\n",
    "$\\begin{pmatrix} a & b & c \\\\ d & e & f \\\\ g & h & i \\end{pmatrix}$ can be entered\n",
    "as <br>\n",
    "```\n",
    "[ a b c\n",
    "  d e f\n",
    "  g h i]\n",
    "  ```\n",
    "or\n",
    "\n",
    "```\n",
    "[a b c;d e f;g h i]\n",
    "\n",
    "```\n",
    "or by columns (note that the spaces are required\n",
    "\n",
    "```\n",
    "[[a,d,g] [b,e,h] [c,f,i]]\n",
    "```"
   ]
  },
  {
   "cell_type": "markdown",
   "metadata": {},
   "source": [
    "## Problem 1b\n",
    "\n",
    "**LU Decompositon 2**\n",
    "\n",
    "(2 pts.) For the same problem above, write down L below as a numerical matrix.\n",
    "\n"
   ]
  },
  {
   "cell_type": "code",
   "execution_count": null,
   "metadata": {
    "collapsed": false,
    "max_attempts": 1000,
    "max_score": 2,
    "question": "1b"
   },
   "outputs": [],
   "source": []
  },
  {
   "cell_type": "markdown",
   "metadata": {},
   "source": [
    "# Problem 2. Transposes and Inverses"
   ]
  },
  {
   "cell_type": "markdown",
   "metadata": {},
   "source": [
    "**2a. (4pts)**\n",
    "Find $A^T$ and $A^{-1}$ and $(A^{-1})^T$ and $(A^T)^{-1}$  for\n",
    "\n",
    "$A=\\left( \\begin{matrix} 1 & 0 \\\\ 9 & 3 \\end{matrix}\\right)$\n",
    "\n",
    "Enter your answer $ \\begin{pmatrix} a&b \\\\c&d \\end{pmatrix}$ in the form [a b ; c d]. Enter numerical values as fractions rather than as decimal numbers. (note the fraction $p\\over q$ is written as `p//q` in Julia)"
   ]
  },
  {
   "cell_type": "markdown",
   "metadata": {},
   "source": [
    "$A^T=$"
   ]
  },
  {
   "cell_type": "code",
   "execution_count": null,
   "metadata": {
    "collapsed": false,
    "max_attempts": 1000,
    "max_score": 1,
    "question": "2a.1"
   },
   "outputs": [],
   "source": []
  },
  {
   "cell_type": "markdown",
   "metadata": {},
   "source": [
    "$A^{-1}=$"
   ]
  },
  {
   "cell_type": "code",
   "execution_count": null,
   "metadata": {
    "collapsed": false,
    "max_attempts": 1000,
    "max_score": 1,
    "question": "2a.2"
   },
   "outputs": [],
   "source": []
  },
  {
   "cell_type": "markdown",
   "metadata": {},
   "source": [
    "$(A^{-1})^T=$"
   ]
  },
  {
   "cell_type": "code",
   "execution_count": null,
   "metadata": {
    "collapsed": false,
    "max_attempts": 1000,
    "max_score": 1,
    "question": "2a.3"
   },
   "outputs": [],
   "source": []
  },
  {
   "cell_type": "markdown",
   "metadata": {},
   "source": [
    "$(A^T)^{-1}=$"
   ]
  },
  {
   "cell_type": "code",
   "execution_count": null,
   "metadata": {
    "collapsed": false,
    "max_attempts": 1000,
    "max_score": 1,
    "question": "2a.4"
   },
   "outputs": [],
   "source": []
  },
  {
   "cell_type": "markdown",
   "metadata": {},
   "source": [
    "**(4 pts) TRANSPOSES AND INVERSES**"
   ]
  },
  {
   "cell_type": "markdown",
   "metadata": {},
   "source": [
    "Find $A^T$ and $A^{−1}$ and $(A^{−1})^T$ and $(A^T)^{−1}$ for\n",
    "$A=\n",
    "\\begin{pmatrix}\n",
    "1 & c \\\\ c & 0\n",
    "\\end{pmatrix}.$\n",
    "\n",
    "Enter your answer $ \\begin{pmatrix} a&b \\\\c&d \\end{pmatrix}$ in the form `[a b ; c d]`. Enter numerical values as fractions rather than as decimal numbers. Use the carrot (shift 6) for squares (for example, `c^2` for $c^2$). (Note: it is not recommended to use Julia to get the answer. Rather use scrap paper.)"
   ]
  },
  {
   "cell_type": "markdown",
   "metadata": {},
   "source": [
    "$A^T=$"
   ]
  },
  {
   "cell_type": "code",
   "execution_count": null,
   "metadata": {
    "collapsed": false,
    "max_attempts": 1000,
    "max_score": 1,
    "question": "2b.1"
   },
   "outputs": [],
   "source": []
  },
  {
   "cell_type": "markdown",
   "metadata": {},
   "source": [
    "$A^{-1}=$"
   ]
  },
  {
   "cell_type": "code",
   "execution_count": null,
   "metadata": {
    "collapsed": false,
    "max_attempts": 1000,
    "max_score": 1,
    "question": "2b.2"
   },
   "outputs": [],
   "source": []
  },
  {
   "cell_type": "markdown",
   "metadata": {},
   "source": [
    "$(A^{-1})^T=$"
   ]
  },
  {
   "cell_type": "code",
   "execution_count": null,
   "metadata": {
    "collapsed": false,
    "max_attempts": 1000,
    "max_score": 1,
    "question": "2b.3"
   },
   "outputs": [],
   "source": []
  },
  {
   "cell_type": "markdown",
   "metadata": {},
   "source": [
    "$(A^T)^{-1}=$"
   ]
  },
  {
   "cell_type": "code",
   "execution_count": null,
   "metadata": {
    "collapsed": false,
    "max_attempts": 1000,
    "max_score": 1,
    "question": "2b.4"
   },
   "outputs": [],
   "source": []
  },
  {
   "cell_type": "markdown",
   "metadata": {},
   "source": [
    "# Problem 3 Symmetric Matrices"
   ]
  },
  {
   "cell_type": "markdown",
   "metadata": {},
   "source": [
    "**3a (4 pts.)** Which of these are true? <br>\n",
    "\n",
    "1. The block matrix\n",
    "$\\begin{pmatrix} 0 & A\\\\ A & 0 \\end{pmatrix}$\n",
    "is automatically symmetric.  <br>\n",
    "\n",
    "2. If A and B are symmetric then their product AB is symmetric.  <br>\n",
    "\n",
    "3. If A is not symmetric then A^{−1} is not symmetric.  <br>\n",
    "\n",
    "4. When A,B,C are symmetric, the transpose of ABC is CBA <br>\n",
    "\n",
    "Write your answer as a vector of numbers corresponding to true, example [1, 3] means that 1 and 3 are true,and 2 and 4 are false.\n",
    "\n",
    "\n",
    "\n"
   ]
  },
  {
   "cell_type": "code",
   "execution_count": null,
   "metadata": {
    "collapsed": false,
    "max_attempts": 1000,
    "max_score": 4,
    "question": "3a"
   },
   "outputs": [],
   "source": []
  },
  {
   "cell_type": "markdown",
   "metadata": {},
   "source": [
    "SYMMETRIC MATRICES 2  <br>\n",
    "\n",
    "(2 pts.) If $A=A^T$ and $B=B^T$, which of these matrices are certainly symmetric?"
   ]
  },
  {
   "cell_type": "markdown",
   "metadata": {},
   "source": [
    "1.$A^2−B^2$ <br> 2. $(A+B)(A−B)$<br>  3. $ABA$<br> 4.  $ABAB$\n",
    "\n",
    "Write your answer as a vector of numbers corresponding to certainly symmetric, example [1, 3] means that 1 and 3 are certainly symmetric."
   ]
  },
  {
   "cell_type": "code",
   "execution_count": null,
   "metadata": {
    "collapsed": false,
    "max_attempts": 1000,
    "max_score": 4,
    "question": "3b"
   },
   "outputs": [],
   "source": []
  },
  {
   "cell_type": "markdown",
   "metadata": {},
   "source": [
    "# Problem 4. Subspaces"
   ]
  },
  {
   "cell_type": "markdown",
   "metadata": {},
   "source": [
    "**( 6 pts.)** Which of the following subsets of $R^3$ are actually subspaces?"
   ]
  },
  {
   "cell_type": "markdown",
   "metadata": {},
   "source": [
    "1. The plane of vectors $(b_1,b_2,b_3)$ with $b_1=b_2$\n",
    "2. The plane of vectors with $b_1=1$\n",
    "3. The vectors with $b_1 b_2 b_3 = 0$\n",
    "4. All linear combinations of $v=(1,4,0)$ and $w=(2,2,2)$\n",
    "5. All vectors that satisfy $b_1+b_2+b_3=0$\n",
    "6. All vectors with $b_1≤b_2≤b_3$.\n",
    "\n",
    "Write your answer as a vector of numbers corresponding to which are subspaces, example `[1, 3]` means that 1 and 3 are subspaces (Make sure the items are ordered)."
   ]
  },
  {
   "cell_type": "code",
   "execution_count": null,
   "metadata": {
    "collapsed": false,
    "max_attempts": 1000,
    "max_score": 6,
    "question": "4"
   },
   "outputs": [],
   "source": []
  },
  {
   "cell_type": "markdown",
   "metadata": {},
   "source": [
    "# Problem 5. Matrix Subspaces"
   ]
  },
  {
   "cell_type": "markdown",
   "metadata": {},
   "source": [
    "**(3 pts.)** Remember (from Chapter 3.1) that all two-by-two matrices form a vector space, which we denote M.\n",
    "\n",
    "Which of the following statements are true? Recommendation: check addition in each case by an example.\n",
    "\n",
    "1. The symmetric matrices in M (with $A^T=A$) form a subspace. <br>\n",
    "2. The skew-symmetric matrices in M (with $A^T=−A$) form a subspace. <br>\n",
    "3. The un-symmetric matrices in M (with $A^T≠A$) form a subspace\n",
    "\n",
    "Write your answer as a vector of numbers corresponding to which are a vector space, example [1, 3] means that 1 and 3 are vector spaces."
   ]
  },
  {
   "cell_type": "code",
   "execution_count": null,
   "metadata": {
    "collapsed": false,
    "max_attempts": 1000,
    "max_score": 3,
    "question": "5"
   },
   "outputs": [],
   "source": []
  },
  {
   "cell_type": "markdown",
   "metadata": {},
   "source": [
    "# Problem 6. Special Solutions"
   ]
  },
  {
   "cell_type": "markdown",
   "metadata": {},
   "source": [
    "** 6a (2 pts.)** For the matrix \n",
    "$A=\\begin{pmatrix}\n",
    "1 & 2 & 2 & 4 & 6 \\\\\n",
    "1 & 2 & 3 & 6 & 9 \\\\\n",
    "0 & 0 & 1 & 2 & 3\n",
    "\\end{pmatrix}$\n",
    " find a special solution for every free variable. \n",
    "(Set one free variable to 1. Set the other free variables to zero.)"
   ]
  },
  {
   "cell_type": "markdown",
   "metadata": {},
   "source": [
    "Enter the special solutions by columns `[[a,b,c,d,e] [f,g,h,i,j] [k,l,m,n,o]]` in order of the free variables.\n",
    "(If you see bounds error, make sure you put a space between right brackets and left brackets)"
   ]
  },
  {
   "cell_type": "code",
   "execution_count": null,
   "metadata": {
    "collapsed": false,
    "max_attempts": 1000,
    "max_score": 1,
    "question": "6a.1"
   },
   "outputs": [],
   "source": []
  },
  {
   "cell_type": "markdown",
   "metadata": {},
   "source": [
    "For the matrix\n",
    "$B=\\begin{pmatrix}\n",
    "2 & 4 & 4 \\\\\n",
    "0 & 4  & 4\\\\\n",
    "0 & 8 & 8\n",
    "\\end{pmatrix}\n",
    "$\n",
    "find a special solution for every free variable. (Set one free variable to 1. Set the other free variables to zero.)\n",
    "\n",
    "Enter the special solutions  more or less as above."
   ]
  },
  {
   "cell_type": "code",
   "execution_count": null,
   "metadata": {
    "collapsed": false,
    "max_attempts": 1000,
    "max_score": 1,
    "question": "6a.2"
   },
   "outputs": [],
   "source": []
  },
  {
   "cell_type": "markdown",
   "metadata": {},
   "source": [
    "**6b (3 pts.) RREF and Nullspace**"
   ]
  },
  {
   "cell_type": "markdown",
   "metadata": {},
   "source": [
    "Find the reduced row echelon form $R_B$ of\n",
    "$B=\\begin{pmatrix}\n",
    "2 & 4 & 4 \\\\\n",
    "0 & 4  & 4\\\\\n",
    "0 & 8 & 8\n",
    "\\end{pmatrix}\n",
    "$"
   ]
  },
  {
   "cell_type": "code",
   "execution_count": null,
   "metadata": {
    "collapsed": false,
    "max_attempts": 1000,
    "max_score": 1,
    "question": "6b.1"
   },
   "outputs": [],
   "source": []
  },
  {
   "cell_type": "markdown",
   "metadata": {},
   "source": [
    "Find the reduced row echelon form $R_A$ of\n",
    "$A=\\begin{pmatrix}\n",
    "1 & 2 & 2 & 4 & 6 \\\\\n",
    "1 & 2 & 3 & 6 & 9 \\\\\n",
    "0 & 0 & 1 & 2 & 3\n",
    "\\end{pmatrix}\n",
    "$"
   ]
  },
  {
   "cell_type": "code",
   "execution_count": null,
   "metadata": {
    "collapsed": false,
    "max_attempts": 1000,
    "max_score": 1,
    "question": "6b.2"
   },
   "outputs": [],
   "source": []
  },
  {
   "cell_type": "markdown",
   "metadata": {},
   "source": [
    "Is the nullspace of $R_A$ equal to the nullspace of A? <br>\n",
    "Type true or false"
   ]
  },
  {
   "cell_type": "code",
   "execution_count": null,
   "metadata": {
    "collapsed": false,
    "max_attempts": 1000,
    "max_score": 1,
    "question": "6b.3"
   },
   "outputs": [],
   "source": []
  },
  {
   "cell_type": "markdown",
   "metadata": {},
   "source": [
    "**6c (4 pts.) PIVOTS AND FREE VARIABLES**   (type true or false for each of these problems)"
   ]
  },
  {
   "cell_type": "markdown",
   "metadata": {},
   "source": [
    "A square matrix has no free variables"
   ]
  },
  {
   "cell_type": "code",
   "execution_count": null,
   "metadata": {
    "collapsed": false,
    "max_attempts": 1000,
    "max_score": 1,
    "question": "6c.1"
   },
   "outputs": [],
   "source": []
  },
  {
   "cell_type": "markdown",
   "metadata": {},
   "source": [
    "An invertible matrix has no free variables"
   ]
  },
  {
   "cell_type": "code",
   "execution_count": null,
   "metadata": {
    "collapsed": false,
    "max_attempts": 1000,
    "max_score": 1,
    "question": "6c.2"
   },
   "outputs": [],
   "source": []
  },
  {
   "cell_type": "markdown",
   "metadata": {},
   "source": [
    "An $m \\times n$ matrix has no more than n pivot variables"
   ]
  },
  {
   "cell_type": "code",
   "execution_count": null,
   "metadata": {
    "collapsed": false,
    "max_attempts": 1000,
    "max_score": 1,
    "question": "6c.3"
   },
   "outputs": [],
   "source": []
  },
  {
   "cell_type": "markdown",
   "metadata": {},
   "source": [
    "An $m \\times n$ matrix has no more than m pivot variable"
   ]
  },
  {
   "cell_type": "code",
   "execution_count": null,
   "metadata": {
    "collapsed": false,
    "max_attempts": 1000,
    "max_score": 1,
    "question": "6c.4"
   },
   "outputs": [],
   "source": []
  },
  {
   "cell_type": "markdown",
   "metadata": {},
   "source": [
    "**JULIA PROBLEM 1:** LU Decomposition"
   ]
  },
  {
   "cell_type": "markdown",
   "metadata": {},
   "source": [
    "In Julia one can type L,U,p = lu(A) for the LU decomposition. Here L is lower triangular, U is upper triangular,\n",
    "and p is a permutation vector.  (Storing a permutation vector on a computer is much more sensible than storing\n",
    "a large permutation matrix!)\n",
    "\n",
    "One can learn more by typing <br>\n",
    "```\n",
    "? lu\n",
    "```\n",
    "\n",
    "**(2 pts.) Write three lines of Julia.**\n",
    "\n",
    "1. First line define A to be `[1 2 3; 4 5 6; 7 7 7]`.\n",
    "2. Second line: obtain `L`, `U`, and `p`.\n",
    "3. Third Line: write an expression that combines `L`,`U`, `p` that gives a 0 matrix."
   ]
  },
  {
   "cell_type": "code",
   "execution_count": null,
   "metadata": {
    "collapsed": false,
    "max_attempts": 1000,
    "max_score": 5,
    "question": "7"
   },
   "outputs": [],
   "source": []
  },
  {
   "cell_type": "markdown",
   "metadata": {},
   "source": [
    "There is another command that we will not explore right now: `lufact`, which stores `L` and `U` in half the memory\n",
    "(as half the numbers are 0!).  If you are curious if `z=lufact(A)`, then `z[:L]` displays `L` for humans, `z[:U]` displays `U`,\n",
    "and `z[:P]` displays a permutation matrix, but never stores it."
   ]
  },
  {
   "cell_type": "markdown",
   "metadata": {},
   "source": [
    "**JULIA PROBLEM 2:** Symmetric Matrices and Diffusion \n",
    "(!0 pts)"
   ]
  },
  {
   "cell_type": "markdown",
   "metadata": {},
   "source": [
    "<text>\n",
    "    <p>\n",
    "      <p>Symmetric matrices are important because they appear in the real world \n",
    "      all the time.  One such place is in numerically solving a model for diffusion.\n",
    "      </p>\n",
    "      <p> \n",
    "      The following partial differential equation models diffusion, and \n",
    "      is known as the heat equation. </p>\n",
    "$$\\frac{\\partial}{\\partial t} c(x,t)=\\frac{\\partial^2}\n",
    "      {\\partial x^2}c(x,t) $$</p>\n",
    "      <p>This equation models any sort of diffusion: the diffusion of dye into a \n",
    "      liquid, or the diffusion of heat through a solid. Note that we have omitted constants\n",
    "      required to guarantee the balance of units for simplicity here.</p>\n",
    "      <p/>\n",
    "      <p> To use linear algebra to solve this equation, we need to change this \n",
    "      differential equation into a difference equation.\n",
    "      The partial derivative with respect to $t$\n",
    "      can be approximated as a difference equation as follows:</p>\n",
    "      <p>  $$\\frac{\\partial}{\\partial t} c(x,t) \n",
    "      \\approx \\frac{c(x,t+\\Delta t) - c(x,t)}{\\Delta t}$$ </p>\n",
    "      <p>The second derivative can be approximated as the following difference equation:</p>\n",
    "      <p>$$\\frac{\\partial^2}{\\partial x^2}c(x,t) \n",
    "      \\approx \\cfrac{\\cfrac{c(x+\\Delta x,t) - c(x,t)}{\\Delta x}- \n",
    "      \\cfrac{c(x,t) - c(x-\\Delta x,t)}{\\Delta x}}{\\Delta x} = \\cfrac{c(x+\\Delta x,t) \n",
    "      - 2c(x,t)+ c(x-\\Delta x,t)}{(\\Delta x)^2}$$ </p>\n",
    "      <p>We can rearrange this difference equation to find an expression \n",
    "      at the grid point <code>x</code> at the time step $t + \\Delta t$ as \n",
    "      follows:</p>\n",
    "      <p>$$c(x,t+\\Delta t) = c(x,t) + \\frac{\\Delta t}{(\\Delta x)^2}\n",
    "      (c(x+\\Delta x,t)-2c(x,t)+c(x-\\Delta x,t))$$</p>\n",
    "      <p>Notice that every term on the right hand side only depends \n",
    "      on the values at time step <code> t</code>. So we can rewrite this as a matrix \n",
    "      equation, in terms of a vector <code>c(t)</code> whose entries are points \n",
    "     $x$ separated\n",
    "      by $\\Delta x$</p>\n",
    "      <p>$$ c(x,t + \\Delta t) \\approx c(x,t) + \\Delta t \\frac{\\partial}{\\partial t}c(x,t) = c(x,t) + \\Delta t  \\frac{\\partial^2}{\\partial x^2}c(x,t).$$</p>\n",
    "      <p>$$ c(t + \\Delta t) = (I - \\frac{\\Delta t}{(\\Delta x)^2}A)*c(t)$$</p>\n",
    "      <p>In this problem, we provide you with the code to observe the evolution of this \n",
    "      differential equation, which describes diffusion.  We start by discretizing the \n",
    "      variable <code>x</code>, which we represent as a vector of 101 points lying on the \n",
    "      interval from 0 to 1.  Thus our meshwidth in space,$\\Delta x$,\n",
    "      is 0.01.  We start with an <code>c(x,0) = c</code> is the initial concentration, \n",
    "      which we take to be a Gaussian distribution, or a bell curve.</p>\n",
    "      <p/>\n",
    "      <p>\n",
    "      Your job is to create a negative second difference matrix A.  And, to plot the \n",
    "      concentration vector <code>C(:,t)</code> for (at least) 3 later times. (See further \n",
    "      instructions within the code body.)\n",
    "      \n",
    "      \n",
    "      <p>A note about A:\n",
    "      The dimension of A is 101x101.  \n",
    "     The matrix A must enforce boundary conditions!!!!  Here, this means we will \n",
    "      make the first row and column zero, and the last row and column zero.  You can see\n",
    "      what happens in the plot if you don't enforce this condition!\n",
    "      Note that the diagonal of A will be 2, the super and sub diagonals will be -1, \n",
    "      except at the boundary, where all entries will be zero.\n",
    "      </p>\n",
    "      <p>$A = \\begin{bmatrix} \n",
    "      0 & 0    &  &  \\dots &  &  & 0 & 0 \\\\\n",
    "      0  & 2  & -1  & 0 & \\dots  & & & \\dots & 0 \\\\\n",
    "      0  &-1  &  2  & -1  & 0  &\\dots & &\\dots & 0\\\\\n",
    "      0  &   &  -1  & 2  & -1  & 0 &\\dots&\\dots & 0\\\\\n",
    "      \\vdots &  & &\\ddots  & \\ddots  & \\ddots  & & &\\vdots \\\\\n",
    "      0  & \\dots  & \\dots & 0  & -1 & 2 & -1 &  & 0\\\\\n",
    "      0  &\\dots  &  &\\dots  & 0 & -1 & 2 & -1 & 0\\\\\n",
    "       0  & \\dots  &  &  &  \\dots  &0 & -1 & 2 & 0\\\\\n",
    "      0 & 0 &   &  & \\dots &  & & 0 & 0 \n",
    "      \\end{bmatrix}$\n",
    "      </p>\n",
    "    </p>\n",
    "  </text>"
   ]
  },
  {
   "cell_type": "markdown",
   "metadata": {},
   "source": [
    "This matrix is symmetric tridiagonal so it would be foolish to store more\n",
    "than $n+(n-1)=2n-1$ number to represent or compute with $A$.\n",
    "<br>\n",
    "\n",
    "First define the diagonal of $A$ as a vector of length 101 by typing <br>\n",
    "\n",
    "`d = [0, 2*ones(?), 0]`"
   ]
  },
  {
   "cell_type": "code",
   "execution_count": null,
   "metadata": {
    "collapsed": false
   },
   "outputs": [],
   "source": [
    "d= [0,2*ones(?),0]"
   ]
  },
  {
   "cell_type": "markdown",
   "metadata": {},
   "source": [
    "Next obtain the sub and super diagonal of A as a vector of length 100 by typing <br>\n",
    "\n",
    "`e = [? , ? , ?]`"
   ]
  },
  {
   "cell_type": "code",
   "execution_count": null,
   "metadata": {
    "collapsed": false
   },
   "outputs": [],
   "source": [
    "e=[?,?,?]"
   ]
  },
  {
   "cell_type": "markdown",
   "metadata": {},
   "source": [
    "Then this wonderful matrix is stored compactly in Julia as <br>\n",
    "(Note the display is for humans, only the 201 numbers are stored)"
   ]
  },
  {
   "cell_type": "code",
   "execution_count": null,
   "metadata": {
    "collapsed": false,
    "max_attempts": 1000,
    "max_score": 5,
    "question": "8"
   },
   "outputs": [],
   "source": [
    "A=SymTridiagonal(d,e)"
   ]
  },
  {
   "cell_type": "code",
   "execution_count": 7,
   "metadata": {
    "collapsed": false
   },
   "outputs": [
    {
     "ename": "LoadError",
     "evalue": "DimensionMismatch(\"\")\nwhile loading In[7], in expression starting on line 25",
     "output_type": "error",
     "traceback": [
      "DimensionMismatch(\"\")\nwhile loading In[7], in expression starting on line 25",
      "",
      " in A_mul_B! at linalg/tridiag.jl:66",
      " in * at operators.jl:82",
      " in anonymous at no file:26"
     ]
    }
   ],
   "source": [
    "## We will do the rest\n",
    "numx = 101   #number of grid points in x\n",
    "numt = 10000  #number of time steps to be iterated over \n",
    "Δx = 1/(numx - 1)\n",
    "Δt = 0.00005\n",
    "x = 0: Δx :1 #vector of x values used for plotting and initial conditions\n",
    "        \n",
    "# initialize to Guassian\n",
    "μ = 0.5;\n",
    "σ = 0.05;\n",
    "c = exp(-(x-μ).^2/(2*σ^2)) / sqrt(2*π*σ^2);\n",
    "c[1]=0;\n",
    "c[numx]=0;\n",
    "\n",
    "# Iterate difference equation - note that c[1] and c[numx] always \n",
    "#remain 0 for all time steps\n",
    "#We create a matrix C whose rows are iterative applications of \n",
    "#the discrete diffusion equation to the vector c\n",
    "#We must specify initial conditions\n",
    "C=zeros(numx,numt);\n",
    "C[:,1]=c;       # Initially Gaussian\n",
    "C[1,1] = 0;     #C=0 at x=0 left boundary\n",
    "C[numx,1] = 0;  #C=0 at x=1 right boundary\n",
    "\n",
    "for j=1:(numt-1)\n",
    "      C[:,j+1] = C[:,j] -(Δt/Δx^2)*A*C[:,j]; \n",
    "end\n",
    "\n"
   ]
  },
  {
   "cell_type": "code",
   "execution_count": 8,
   "metadata": {
    "collapsed": false
   },
   "outputs": [
    {
     "name": "stderr",
     "output_type": "stream",
     "text": [
      "INFO: Loading help data...\n"
     ]
    }
   ],
   "source": [
    "using PyPlot,Interact"
   ]
  },
  {
   "cell_type": "code",
   "execution_count": 9,
   "metadata": {
    "collapsed": false
   },
   "outputs": [
    {
     "data": {
      "text/html": [],
      "text/plain": [
       "Slider{Int64}([Input{Int64}] 5000,\"iteration\",5000,1:10000)"
      ]
     },
     "metadata": {},
     "output_type": "display_data"
    },
    {
     "data": {
      "image/png": "[encoded data removed]",
      "text/plain": [
       "Figure(PyObject <matplotlib.figure.Figure object at 0x7fef04275310>)"
      ]
     },
     "execution_count": 9,
     "metadata": {
      "comm_id": "b32aa0f2-164e-42cf-b08a-a75d5c9d332a",
      "reactive": true
     },
     "output_type": "execute_result"
    }
   ],
   "source": [
    "f=figure(figsize=(4,3.5))\n",
    "@manipulate for iteration = 1:numt; withfig(f) do\n",
    "    plot(x,C[:,iteration])\n",
    "    axis([0,1,0,8])\n",
    "    xlabel(\"x\")\n",
    "    ylabel(\"C\")\n",
    "    title(\"diffusion at time=$(round(iteration*Δt,3))\")\n",
    "    \n",
    "    end\n",
    "end"
   ]
  },
  {
   "cell_type": "markdown",
   "metadata": {},
   "source": [
    "Enjoy manipulating the diffusion from a large peak at t=0 to near dissipation at t=.5 !  (Nothing further to submit, your main job is to define A, and learn something about how useful linear algebra can be)"
   ]
  },
  {
   "cell_type": "code",
   "execution_count": null,
   "metadata": {
    "collapsed": false
   },
   "outputs": [],
   "source": [
    "Homework.progress()"
   ]
  }
 ],
 "metadata": {
  "homework": {
   "course": "MIT-18.06-Spring-2015",
   "host": "https://juliabox.org",
   "mode": "answering",
   "problemset": "pset2"
  },
  "kernelspec": {
   "display_name": "Julia 0.3.11",
   "language": "julia",
   "name": "julia-0.3"
  },
  "language": "Julia",
  "language_info": {
   "name": "julia",
   "version": "0.3.11"
  }
 },
 "nbformat": 4,
 "nbformat_minor": 0
}
