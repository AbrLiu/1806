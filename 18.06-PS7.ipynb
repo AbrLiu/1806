{
 "cells": [
  {
   "cell_type": "code",
   "execution_count": 4,
   "metadata": {
    "collapsed": false
   },
   "outputs": [
    {
     "name": "stderr",
     "output_type": "stream",
     "text": [
      "INFO: Removing Homework (unregistered)\n",
      "INFO: Cloning Homework from git://github.com/shashi/Homework.jl.git\n",
      "INFO: Computing changes...\n"
     ]
    },
    {
     "data": {
      "text/html": [
       "<iframe src=\"https://docs.google.com/forms/d/1uPqGeJChe0FFOsuUkdeLVbgPo9LzQEbRnS0xIzE-VGo/viewform?embedded=true\" width=\"720\" height=\"570\" frameborder=\"0\" marginheight=\"0\" marginwidth=\"0\">Loading...</iframe>"
      ]
     },
     "metadata": {},
     "output_type": "display_data"
    },
    {
     "name": "stderr",
     "output_type": "stream",
     "text": [
      "INFO: No packages to install, update or remove\n"
     ]
    }
   ],
   "source": [
    "\n",
    "# Running this cell will set up auto-grading\n",
    "# It might take a while to execute.\n",
    "\n",
    "# Please fill in the MIT id form that appears below. You only need to do this once.\n",
    "\n",
    "Pkg.rm(\"Homework\")\n",
    "Pkg.clone(\"git://github.com/shashi/Homework.jl.git\")\n",
    "\n",
    "using Homework\n",
    "\n",
    "Homework.show_mit_form()"
   ]
  },
  {
   "cell_type": "code",
   "execution_count": 2,
   "metadata": {
    "collapsed": false
   },
   "outputs": [
    {
     "data": {
      "text/html": [],
      "text/plain": [
       "Options{:ToggleButtons,ASCIIString}([Input{ASCIIString}] score,\"report\",\"score\",\"Score\",OptionDict({\"Score\",\"Incorrect attempts\"},{\"Score\"=>\"score\",\"Incorrect attempts\"=>\"attempts\"}),None[],None[])"
      ]
     },
     "metadata": {},
     "output_type": "display_data"
    },
    {
     "data": {
      "text/html": [
       "<table class=\"data-frame\"><tr><th></th><th>Names</th><th>total</th><th>1a</th><th>1b</th><th>2a</th><th>2b</th><th>3a</th><th>3b</th><th>3c</th><th>4a</th><th>4b</th><th>4c</th><th>4d</th><th>4e</th><th>4f</th><th>5a</th><th>5b</th><th>5c</th><th>6</th><th>7a</th><th>7b</th><th>7c</th><th>8</th><th>9</th><th>10a</th><th>10b</th></tr><tr><th>1</th><td>MAX</td><td><span style=\"color: black\">50.0</span></td><td><span style=\"color: black\">1.0</span></td><td><span style=\"color: black\">2.0</span></td><td><span style=\"color: black\">1.0</span></td><td><span style=\"color: black\">1.0</span></td><td><span style=\"color: black\">2.0</span></td><td><span style=\"color: black\">2.0</span></td><td><span style=\"color: black\">1.0</span></td><td><span style=\"color: black\">1.0</span></td><td><span style=\"color: black\">1.0</span></td><td><span style=\"color: black\">1.0</span></td><td><span style=\"color: black\">1.0</span></td><td><span style=\"color: black\">1.0</span></td><td><span style=\"color: black\">1.0</span></td><td><span style=\"color: black\">1.0</span></td><td><span style=\"color: black\">1.0</span></td><td><span style=\"color: black\">1.0</span></td><td><span style=\"color: black\">3.0</span></td><td><span style=\"color: black\">1.0</span></td><td><span style=\"color: black\">1.0</span></td><td><span style=\"color: black\">1.0</span></td><td><span style=\"color: black\">8.0</span></td><td><span style=\"color: black\">8.0</span></td><td><span style=\"color: black\">5.0</span></td><td><span style=\"color: black\">4.0</span></td></tr></table>"
      ],
      "text/plain": [
       "1x26 DataFrame\n",
       "| Row | Names | total                 | 1a                     |\n",
       "|-----|-------|-----------------------|------------------------|\n",
       "| 1   | \"MAX\" | Colored(\"black\",50.0) | Colored(\"black\",\"1.0\") |\n",
       "\n",
       "| Row | 1b                     | 2a                     |\n",
       "|-----|------------------------|------------------------|\n",
       "| 1   | Colored(\"black\",\"2.0\") | Colored(\"black\",\"1.0\") |\n",
       "\n",
       "| Row | 2b                     | 3a                     |\n",
       "|-----|------------------------|------------------------|\n",
       "| 1   | Colored(\"black\",\"1.0\") | Colored(\"black\",\"2.0\") |\n",
       "\n",
       "| Row | 3b                     | 3c                     |\n",
       "|-----|------------------------|------------------------|\n",
       "| 1   | Colored(\"black\",\"2.0\") | Colored(\"black\",\"1.0\") |\n",
       "\n",
       "| Row | 4a                     | 4b                     |\n",
       "|-----|------------------------|------------------------|\n",
       "| 1   | Colored(\"black\",\"1.0\") | Colored(\"black\",\"1.0\") |\n",
       "\n",
       "| Row | 4c                     | 4d                     |\n",
       "|-----|------------------------|------------------------|\n",
       "| 1   | Colored(\"black\",\"1.0\") | Colored(\"black\",\"1.0\") |\n",
       "\n",
       "| Row | 4e                     | 4f                     |\n",
       "|-----|------------------------|------------------------|\n",
       "| 1   | Colored(\"black\",\"1.0\") | Colored(\"black\",\"1.0\") |\n",
       "\n",
       "| Row | 5a                     | 5b                     |\n",
       "|-----|------------------------|------------------------|\n",
       "| 1   | Colored(\"black\",\"1.0\") | Colored(\"black\",\"1.0\") |\n",
       "\n",
       "| Row | 5c                     | 6                      |\n",
       "|-----|------------------------|------------------------|\n",
       "| 1   | Colored(\"black\",\"1.0\") | Colored(\"black\",\"3.0\") |\n",
       "\n",
       "| Row | 7a                     | 7b                     |\n",
       "|-----|------------------------|------------------------|\n",
       "| 1   | Colored(\"black\",\"1.0\") | Colored(\"black\",\"1.0\") |\n",
       "\n",
       "| Row | 7c                     | 8                      |\n",
       "|-----|------------------------|------------------------|\n",
       "| 1   | Colored(\"black\",\"1.0\") | Colored(\"black\",\"8.0\") |\n",
       "\n",
       "| Row | 9                      | 10a                    |\n",
       "|-----|------------------------|------------------------|\n",
       "| 1   | Colored(\"black\",\"8.0\") | Colored(\"black\",\"5.0\") |\n",
       "\n",
       "| Row | 10b                    |\n",
       "|-----|------------------------|\n",
       "| 1   | Colored(\"black\",\"4.0\") |"
      ]
     },
     "execution_count": 2,
     "metadata": {
      "comm_id": "52e4ce00-7d4b-4f4e-8712-0fb80a394bb0",
      "reactive": true
     },
     "output_type": "execute_result"
    }
   ],
   "source": [
    "Homework.progress()"
   ]
  },
  {
   "cell_type": "markdown",
   "metadata": {},
   "source": [
    "## Problem 1.  Fixing Eigenvectors\n",
    "\n",
    "1a) (1 pt.) Write down a matrix with first row \n",
    "[20,15] that has eigenvectors [1,1] and [1,−1]."
   ]
  },
  {
   "cell_type": "code",
   "execution_count": null,
   "metadata": {
    "attempts": 0,
    "collapsed": false,
    "max_attempts": 1000,
    "max_score": 1,
    "question": "1a"
   },
   "outputs": [],
   "source": []
  },
  {
   "cell_type": "markdown",
   "metadata": {},
   "source": [
    "1b) (2 pts.)  What is the dimension of the space of matrices that have [1,1] and [1,−1] as eigenvectors?"
   ]
  },
  {
   "cell_type": "code",
   "execution_count": null,
   "metadata": {
    "alert": "info",
    "answer": "2.0",
    "attempts": 0,
    "collapsed": false,
    "max_attempts": 1000,
    "max_score": 2,
    "msg": "<span class='icon-info'></span> Will commit last result as the answer to question 1b",
    "question": "1b"
   },
   "outputs": [],
   "source": []
  },
  {
   "cell_type": "markdown",
   "metadata": {},
   "source": [
    "## Problem 2. DIAGONALIZABILITY AND EIGENVECTORS"
   ]
  },
  {
   "cell_type": "markdown",
   "metadata": {},
   "source": [
    "2a)  (1 pt.) If the eigenvalues of A are 2, 2, 5 then the matrix is certainly:\n",
    "\n",
    "1. invertible <br>\n",
    "2. diagonalizable <br>\n",
    "3. not diagonalizable \n",
    "\n",
    "(Format: 1,2, or 3)"
   ]
  },
  {
   "cell_type": "code",
   "execution_count": null,
   "metadata": {
    "alert": "info",
    "answer": "1.0",
    "attempts": 0,
    "collapsed": false,
    "max_attempts": 1000,
    "max_score": 1,
    "msg": "<span class='icon-info'></span> Will commit last result as the answer to question 2a",
    "question": "2a"
   },
   "outputs": [],
   "source": []
  },
  {
   "cell_type": "markdown",
   "metadata": {},
   "source": [
    "2b) (1 pt.) If the only eigenvectors of A are multiples of (1,4) then A has:\n",
    "\n",
    "1. no inverse <br>\n",
    "2. a repeated eigenvalue <br>\n",
    "3. no diagonalization SAS${}^{−1}$ \n",
    "\n",
    "(Format: 1,2, 3, [1,2], [1,3], [2,3], or [1,2,3] )"
   ]
  },
  {
   "cell_type": "code",
   "execution_count": null,
   "metadata": {
    "alert": "info",
    "answer": "[2.0,3.0]",
    "attempts": 0,
    "collapsed": false,
    "max_attempts": 1000,
    "max_score": 1,
    "msg": "<span class='icon-info'></span> Will commit last result as the answer to question 2b",
    "question": "2b"
   },
   "outputs": [],
   "source": []
  },
  {
   "cell_type": "markdown",
   "metadata": {},
   "source": [
    "## 3) Convergence to 0"
   ]
  },
  {
   "cell_type": "code",
   "execution_count": 20,
   "metadata": {
    "collapsed": false
   },
   "outputs": [],
   "source": [
    "using SymPy; # Ignore warnings\n",
    "a=Sym(\"a\");"
   ]
  },
  {
   "cell_type": "markdown",
   "metadata": {},
   "source": [
    "3a) (1 pt) Consider the matrix A=$\\left( \\begin{array}\\\\ a & 1 \\\\ 1 & a \\end{array} \\right)$  What are the eigenvalues of A?\n",
    "\n",
    "Format [$\\lambda_1,\\lambda_2$] where $\\lambda_1 \\le \\lambda_2$ are symbolic expressions in a."
   ]
  },
  {
   "cell_type": "code",
   "execution_count": null,
   "metadata": {
    "alert": "info",
    "answer": "[\"sym-a - 1\",\"sym-a + 1\"]",
    "attempts": 0,
    "collapsed": false,
    "max_attempts": 1000,
    "max_score": 2,
    "msg": "<span class='icon-info'></span> Will commit last result as the answer to question 3a",
    "question": "3a"
   },
   "outputs": [],
   "source": []
  },
  {
   "cell_type": "markdown",
   "metadata": {},
   "source": [
    "3b) What are the eigenvalues of B=$\\left( \\begin{array}\\\\ b & -1 \\\\ 1 & b \\end{array} \\right)$?\n",
    "Format [$\\lambda_1,\\lambda_2$] where $\\lambda_1$ and  $\\lambda_2$ are complex symbolic expressions in b and the imaginary part of $\\lambda_1$ is less than that of $\\lambda_2$. (You will need to\n",
    "use $\\bf im$ for the sqrt(-1) here.)"
   ]
  },
  {
   "cell_type": "code",
   "execution_count": 23,
   "metadata": {
    "alert": "info",
    "collapsed": false
   },
   "outputs": [
    {
     "data": {
      "text/latex": [
       "$$b$$"
      ],
      "text/plain": [
       "b"
      ]
     },
     "execution_count": 23,
     "metadata": {},
     "output_type": "execute_result"
    }
   ],
   "source": [
    "b=Sym(\"b\")"
   ]
  },
  {
   "cell_type": "code",
   "execution_count": null,
   "metadata": {
    "alert": "info",
    "answer": "[\"sym-b - I\",\"sym-b + I\"]",
    "attempts": 0,
    "collapsed": false,
    "max_attempts": 1000,
    "max_score": 2,
    "msg": "<span class='icon-info'></span> Will commit last result as the answer to question 3b",
    "question": "3b"
   },
   "outputs": [],
   "source": []
  },
  {
   "cell_type": "markdown",
   "metadata": {},
   "source": [
    "c) When do the all the solutions of du/dt=Au and dv/dt=Bv approach  zero when t→ ∞ ?\n",
    "\n",
    "1. a < 0 and b < 0 <br>\n",
    "2. a ≥ 0 and b > 0 <br>\n",
    "3. a < −1 and b < 0 <br>\n",
    "4. a ≤−1 and b ≤ 0\n",
    "\n",
    "1,2,3, or 4?"
   ]
  },
  {
   "cell_type": "code",
   "execution_count": null,
   "metadata": {
    "alert": "info",
    "answer": "3.0",
    "attempts": 0,
    "collapsed": false,
    "max_attempts": 1000,
    "max_score": 1,
    "msg": "<span class='icon-info'></span> Will commit last result as the answer to question 3c",
    "question": "3c"
   },
   "outputs": [],
   "source": []
  },
  {
   "cell_type": "markdown",
   "metadata": {
    "collapsed": true
   },
   "source": [
    "## 4) Exponential of Matrices"
   ]
  },
  {
   "cell_type": "code",
   "execution_count": 26,
   "metadata": {
    "collapsed": false
   },
   "outputs": [
    {
     "data": {
      "text/latex": [
       "$$t$$"
      ],
      "text/plain": [
       "t"
      ]
     },
     "execution_count": 26,
     "metadata": {},
     "output_type": "execute_result"
    }
   ],
   "source": [
    "# using SymPy;\n",
    "t=Sym(\"t\")"
   ]
  },
  {
   "cell_type": "markdown",
   "metadata": {},
   "source": [
    "4a) (0.5 pts) Consider $A=\\left( \\begin{matrix}  1 & 4 \\\\ 0 & 0 \\end{matrix} \\right).$\n",
    "Compute $e^{tA}$\n",
    "\n",
    "Format: [[a b],[c d]] which might include t or  e^t"
   ]
  },
  {
   "cell_type": "code",
   "execution_count": null,
   "metadata": {
    "alert": "info",
    "answer": "[[\"sym-exp(t)\",\"sym-0\"],[\"sym-4*exp(t) - 4\",\"sym-1\"]]",
    "attempts": 0,
    "collapsed": false,
    "max_attempts": 1000,
    "max_score": 1,
    "msg": "<span class='icon-info'></span> Will commit last result as the answer to question 4a",
    "question": "4a"
   },
   "outputs": [],
   "source": []
  },
  {
   "cell_type": "markdown",
   "metadata": {},
   "source": [
    "4b) (0.5 pts) Consider $B=\\left( \\begin{matrix}  0 & -4 \\\\ 0 & 0 \\end{matrix} \\right).$\n",
    "Compute $e^{tB}$\n",
    "\n",
    "Format: [[a b],[c d]] which might include t or e^t"
   ]
  },
  {
   "cell_type": "code",
   "execution_count": null,
   "metadata": {
    "alert": "info",
    "answer": "[[\"sym-1\",\"sym-0\"],[\"sym--4*t\",\"sym-1\"]]",
    "attempts": 0,
    "collapsed": false,
    "max_attempts": 1000,
    "max_score": 1,
    "msg": "<span class='icon-info'></span> Will commit last result as the answer to question 4b",
    "question": "4b"
   },
   "outputs": [],
   "source": []
  },
  {
   "cell_type": "markdown",
   "metadata": {},
   "source": [
    "4c) (1 pt) \n",
    "Compute $e^{t(A+B)}$\n",
    "\n",
    "Format: [[a b],[c d]] which might include t or e^t"
   ]
  },
  {
   "cell_type": "code",
   "execution_count": null,
   "metadata": {
    "alert": "info",
    "answer": "[[\"sym-exp(t)\",\"sym-0\"],[\"sym-0\",\"sym-1\"]]",
    "attempts": 0,
    "collapsed": false,
    "max_attempts": 1000,
    "max_score": 1,
    "msg": "<span class='icon-info'></span> Will commit last result as the answer to question 4c",
    "question": "4c"
   },
   "outputs": [],
   "source": []
  },
  {
   "cell_type": "markdown",
   "metadata": {},
   "source": [
    "4d) (0.25 pts)  Compute $e^{(A+B)}$\n",
    "\n",
    "Format: anything reasonable"
   ]
  },
  {
   "cell_type": "code",
   "execution_count": null,
   "metadata": {
    "alert": "info",
    "answer": "[[2.718,0.0],[0.0,1.0]]",
    "attempts": 0,
    "collapsed": false,
    "max_attempts": 1000,
    "max_score": 1,
    "msg": "<span class='icon-info'></span> Will commit last result as the answer to question 4d",
    "question": "4d"
   },
   "outputs": [],
   "source": []
  },
  {
   "cell_type": "markdown",
   "metadata": {},
   "source": [
    "4e) (0.25 pts)  Compute $e^A e^B$\n",
    "\n",
    "Format: anything reasonable"
   ]
  },
  {
   "cell_type": "code",
   "execution_count": null,
   "metadata": {
    "alert": "info",
    "answer": "[[2.718,0.0],[-4.0,1.0]]",
    "attempts": 0,
    "collapsed": false,
    "max_attempts": 1000,
    "max_score": 1,
    "msg": "<span class='icon-info'></span> Will commit last result as the answer to question 4e",
    "question": "4e"
   },
   "outputs": [],
   "source": []
  },
  {
   "cell_type": "markdown",
   "metadata": {},
   "source": [
    "4f) (0.5pts) Compute $e^B e^A$\n",
    "\n",
    "Format: anything reasonable"
   ]
  },
  {
   "cell_type": "code",
   "execution_count": null,
   "metadata": {
    "alert": "info",
    "answer": "[[2.718,0.0],[2.873,1.0]]",
    "attempts": 0,
    "collapsed": false,
    "max_attempts": 1000,
    "max_score": 1,
    "msg": "<span class='icon-info'></span> Will commit last result as the answer to question 4f",
    "question": "4f"
   },
   "outputs": [],
   "source": []
  },
  {
   "cell_type": "markdown",
   "metadata": {},
   "source": [
    "## 5) Symmetric and Unsymmetric Matrices"
   ]
  },
  {
   "cell_type": "markdown",
   "metadata": {},
   "source": [
    " Let A=$\\left(\\begin{matrix} 1 & 2 & 4\\\\4 &3&  0 \\\\ 8& 6& 5 \\\\ \\end{matrix} \\right)$. Write A as M+N where M is symmetric and N is antisymmetric.\n",
    " \n",
    " 5a) (0.5 pts) M =\n",
    " \n",
    " Format: [[a b c],[d e f],[g h i]] <br> Anything reasonable"
   ]
  },
  {
   "cell_type": "code",
   "execution_count": null,
   "metadata": {
    "alert": "info",
    "answer": "[[1.0,3.0,6.0],[3.0,3.0,3.0],[6.0,3.0,5.0]]",
    "attempts": 0,
    "collapsed": false,
    "max_attempts": 1000,
    "max_score": 1,
    "msg": "<span class='icon-info'></span> Will commit last result as the answer to question 5a",
    "question": "5a"
   },
   "outputs": [],
   "source": []
  },
  {
   "cell_type": "markdown",
   "metadata": {},
   "source": [
    "5b) (0.5 pts) N=\n",
    "\n",
    "Format: [[a b c],[d e f],[g h i]] <br> Anything reasonable"
   ]
  },
  {
   "cell_type": "code",
   "execution_count": null,
   "metadata": {
    "alert": "info",
    "answer": "[[0.0,1.0,2.0],[-1.0,0.0,3.0],[-2.0,-3.0,0.0]]",
    "attempts": 0,
    "collapsed": false,
    "max_attempts": 1000,
    "max_score": 1,
    "msg": "<span class='icon-info'></span> Will commit last result as the answer to question 5b",
    "question": "5b"
   },
   "outputs": [],
   "source": []
  },
  {
   "cell_type": "markdown",
   "metadata": {},
   "source": [
    "5c (1 pt) Consider the matrix \n",
    "$M= \\frac{1}{\\sqrt{3}} \\left( \\begin{matrix} 0 & 1 & 1 & 1 \\\\ -1 & 0 & -1 & 1 \\\\ -1 & 1 & 0 & -1 \\\\ -1 & -1 & 1 & 0 \\end{matrix} \\right).$\n",
    "This matrix is skew-symmetric (hence it has trace zero) and orthogonal. Therefore, the eigenvalues are:\n",
    "\n",
    "1. i,i,i,−i <br>\n",
    "2. 1,1,−1,−1 <br>\n",
    "3. 1,i,−1,−i <br>\n",
    "4. i,i,−i,−i\n",
    "\n",
    "1, 2, 3, or 4"
   ]
  },
  {
   "cell_type": "code",
   "execution_count": null,
   "metadata": {
    "alert": "info",
    "answer": "4.0",
    "attempts": 0,
    "collapsed": false,
    "max_attempts": 1000,
    "max_score": 1,
    "msg": "<span class='icon-info'></span> Will commit last result as the answer to question 5c",
    "question": "5c"
   },
   "outputs": [],
   "source": []
  },
  {
   "cell_type": "markdown",
   "metadata": {
    "collapsed": true
   },
   "source": [
    "## 6. Looking for Three Numbers"
   ]
  },
  {
   "cell_type": "markdown",
   "metadata": {},
   "source": [
    "(2 pts.) Let A=$\\left( \\begin{matrix} 2 & b \\\\ 1 & 0  \\end{matrix} \\right) $. Let b$_1$, b$_2$ and b$_3$ be values of b such that:\n",
    "\n",
    "1) when b=b$_1$, A is of the form QΛQ$^T$;\n",
    "\n",
    "2) when b=b$_2$, A is not of the form SΛS$^{−1}$;\n",
    "\n",
    "3) when b=b$_3$, A is not invertible.\n",
    "\n",
    "What is  [b$_1$,b$_2$,b$_3$]?\n",
    "\n"
   ]
  },
  {
   "cell_type": "code",
   "execution_count": null,
   "metadata": {
    "alert": "info",
    "answer": "[1.0,-1.0,0.0]",
    "attempts": 0,
    "collapsed": false,
    "max_attempts": 1000,
    "max_score": 3,
    "msg": "<span class='icon-info'></span> Will commit last result as the answer to question 6",
    "question": "6"
   },
   "outputs": [],
   "source": []
  },
  {
   "cell_type": "markdown",
   "metadata": {},
   "source": [
    "## 7. Markov Matrices\n",
    "\n",
    "What are the steady state eigenvectors for the following Markov matrices? (elements add to one)"
   ]
  },
  {
   "cell_type": "markdown",
   "metadata": {},
   "source": [
    "7a) (1 pt)  A=$\\left( \\begin{matrix} 1 & .2 \\\\ 0 & .8 \\end{matrix} \\right)$.\n",
    "\n",
    "[a,b]"
   ]
  },
  {
   "cell_type": "code",
   "execution_count": null,
   "metadata": {
    "alert": "info",
    "answer": "[1.0,0.0]",
    "attempts": 0,
    "collapsed": false,
    "max_attempts": 1000,
    "max_score": 1,
    "msg": "<span class='icon-info'></span> Will commit last result as the answer to question 7a",
    "question": "7a"
   },
   "outputs": [],
   "source": []
  },
  {
   "cell_type": "markdown",
   "metadata": {},
   "source": [
    "7b) (1 pt)  A=$\\left( \\begin{matrix} .2 & 1 \\\\ .8 & 0 \\end{matrix} \\right)$.\n",
    "\n",
    "[a,b]"
   ]
  },
  {
   "cell_type": "code",
   "execution_count": null,
   "metadata": {
    "alert": "info",
    "answer": "[0.556,0.444]",
    "attempts": 0,
    "collapsed": false,
    "max_attempts": 1000,
    "max_score": 1,
    "msg": "<span class='icon-info'></span> Will commit last result as the answer to question 7b",
    "precision": 3,
    "question": "7b"
   },
   "outputs": [],
   "source": []
  },
  {
   "cell_type": "markdown",
   "metadata": {},
   "source": [
    "7c) (1 pt) A=$\\left( \\begin{matrix} 1/2 & 1/4 & 1/4 \\\\ 1/4 & 1/2 & 1/4 \\\\ 1/4 & 1/4 & 1/2 \\end{matrix} \\right)$."
   ]
  },
  {
   "cell_type": "code",
   "execution_count": null,
   "metadata": {
    "alert": "info",
    "answer": "[0.333,0.333,0.333]",
    "attempts": 0,
    "collapsed": false,
    "max_attempts": 1000,
    "max_score": 1,
    "msg": "<span class='icon-info'></span> Will commit last result as the answer to question 7c",
    "question": "7c"
   },
   "outputs": [],
   "source": []
  },
  {
   "cell_type": "markdown",
   "metadata": {},
   "source": [
    "## 8. EXPLICIT IN TIME BACKWARD IN SPACE\n",
    "\n",
    "[For those who do not wish to read too much:\n",
    "when solving differential equations, setting the time step interval\n",
    "dt small can be more accurate, but can take longer.  One can \n",
    "make dt larger but one might regret it with a blown up solution.\n",
    "This problem wants you to experience this for yourself,\n",
    "by evolving to a large time (say 500) and seeing what is the first\n",
    "dt that is so large that it blows up.\n",
    "\n",
    "Either way, this is all about linear algebra.\n",
    "]\n",
    "\n",
    "\n",
    "\n",
    "\n",
    "\n",
    "Let's talk through how numerical methods solve a simple partial differential equation.\n",
    "\n",
    "The differential equation we will consider is the one dimensional wave equation:\n",
    "\n",
    "$\\frac{\\partial u}{\\partial t}=−\\frac{\\partial u}{\\partial x}$,\n",
    "with initial condition u(x,0)=sin(x).\n",
    "\n",
    "Note that the wave equation is typically a second order equation in both x and t because waves disperse in both directions, right and left. This equation models only the part of the wave that travels to the right.\n",
    "\n",
    "The first step to create a numerical method is to discretize. Let's choose the number of points we'd like to break up the x interval from 0 to 2π into. We'll call this variable numx = 5 in this example. In the code below, you will take a much larger number of points. Then our spatial step variable Δx is dx = 2/numx = 2*π/5.\n",
    "\n",
    "Our x vector becomes x = [dx: dx: 2*π]. And the initial condition is u(:,1) = sin(x). It may seem odd to start the input vector x from dx rather than 0. The reason is that because our initial condition is periodic, we will imagine the x axis as continuing infinitely in either direction by identifying the value at 0 with the value at 2π.\n",
    "\n",
    "We'll use a backwards method on the spacial variable to approximate as follows\n",
    "\n",
    " $\\frac{\\partial u}{\\partial x}(x+\\Delta x, t) \\approx \\frac{u(x + \\Delta x,t)-u(x,t)}{\\Delta x} $\n",
    "$= \\frac{1}{\\Delta x} \n",
    "\\left( \\begin{matrix}  1 &  0 &  0 &  0 &  -1\\\\ -1 &  1 &  0 &  0 &  0\\\\ 0 &  -1 &  1 &  0 &  0\\\\ 0 &  0&  -1 &  1 &  0\\\\ 0 &  0 &  0 &  -1 &  1 \\end{matrix} \\right) \\begin{matrix} u \\end{matrix}  $\n",
    "\n",
    "This works because when x=0 we've identified u(0,t)=u(2π,t).\n",
    "\n",
    "Let's name the matrix A=\n",
    "$\\left( \\begin{matrix} 1 &  0 &  0 &  0 &  -1\\\\ -1 &  1 &  0 &  0 &  0\\\\ 0 &  -1 &  1 &  0 &  0\\\\ 0 &  0 &  -1 &  1 &  0\\\\ 0 &  0 &  0 &  -1 &  1 \\end{matrix} \\right) $.\n",
    "\n",
    "Then our differential equation becomes:\n",
    "\n",
    "$\\frac{\\partial u}{\\partial t} = -\\frac{1}{\\Delta x}Au$\n",
    "\n",
    "Next we must discretize the time variable. The first numerical method we will consider is called explicit in time, backwards in space. We will look for a solution of the form\n",
    "\n",
    "$u(x,t+\\Delta t) = u(x,t) - \\frac{\\Delta t}{\\Delta x} A u(x,t).$\n",
    "\n",
    "This is a simple updating scheme, which can be unstable. By changing the size of the time step dt in the code below, find the size dtunstable above which the solution becomes unbounded as the number of time steps increases. Enter your answer to two significant figures.\n",
    "\n"
   ]
  },
  {
   "cell_type": "code",
   "execution_count": 4,
   "metadata": {
    "collapsed": false
   },
   "outputs": [
    {
     "data": {
      "text/plain": [
       "pdesolve (generic function with 1 method)"
      ]
     },
     "execution_count": 4,
     "metadata": {},
     "output_type": "execute_result"
    }
   ],
   "source": [
    "## IN JULIA: THE CODE IS SHORTER THAN THE EXPLANATION!!\n",
    "function pdesolve(dt,time;numx=10)\n",
    "   dx = 2π/numx          # size of step size\n",
    "    A = I-[1==mod(i-j,numx) for i=1:numx, j=1:numx]\n",
    "    x = [dx: dx: 2π]\n",
    "    x,(I - dt/dx*A)^round(time/dt) * sin(x)\n",
    "end"
   ]
  },
  {
   "cell_type": "code",
   "execution_count": 2,
   "metadata": {
    "collapsed": false
   },
   "outputs": [
    {
     "name": "stderr",
     "output_type": "stream",
     "text": [
      "INFO: Loading help data...\n"
     ]
    }
   ],
   "source": [
    "using PyPlot, Interact"
   ]
  },
  {
   "cell_type": "code",
   "execution_count": 5,
   "metadata": {
    "collapsed": false
   },
   "outputs": [
    {
     "data": {
      "text/html": [],
      "text/plain": [
       "Slider{Float64}([Input{Float64}] 0.75,\"dt\",0.75,0.5:0.001:1.0)"
      ]
     },
     "metadata": {},
     "output_type": "display_data"
    },
    {
     "data": {
      "text/html": [],
      "text/plain": [
       "Options{:ToggleButtons,Int64}([Input{Int64}] 1,\"time\",1,\"1\",OptionDict({\"1\",\"2\",\"3\",\"500\"},{\"1\"=>1,\"2\"=>2,\"500\"=>500,\"3\"=>3}),None[],None[])"
      ]
     },
     "metadata": {},
     "output_type": "display_data"
    },
    {
     "data": {
      "image/png": "[encoded data removed]",
      "text/plain": [
       "Figure(PyObject <matplotlib.figure.Figure object at 0x7f6757d84050>)"
      ]
     },
     "execution_count": 5,
     "metadata": {
      "comm_id": "8e6b491c-e9ee-4520-993b-ee547e7f1a80",
      "reactive": true
     },
     "output_type": "execute_result"
    }
   ],
   "source": [
    "f=figure(figsize=(6,6))\n",
    "\n",
    "@manipulate for dt=.5:.001:1, time=[1:3,500]  withfig(f) do\n",
    "        plot(pdesolve(dt,time)...)\n",
    "        title(\"Set Time=500 \\n Find the smallest blowing up dt \\n Time=$time, dt=$dt\")\n",
    "    end\n",
    "end\n"
   ]
  },
  {
   "cell_type": "markdown",
   "metadata": {
    "collapsed": true
   },
   "source": [
    "(4 pts.) To two decimal places, find the smallest dt which graphs values bigger than 10^16\n",
    "smallest unstable dt ="
   ]
  },
  {
   "cell_type": "code",
   "execution_count": null,
   "metadata": {
    "alert": "info",
    "answer": "0.7",
    "attempts": 0,
    "collapsed": false,
    "max_attempts": 1000,
    "max_score": 8,
    "msg": "<span class='icon-info'></span> Will commit last result as the answer to question 8",
    "precision": 1,
    "question": "8"
   },
   "outputs": [],
   "source": []
  },
  {
   "cell_type": "markdown",
   "metadata": {},
   "source": [
    "## 9. IMPLICIT  IN TIME BACKWARD IN SPACE\n",
    "\n",
    "In the previous problem, we used an explicit in time, backwards in space numerical method. The difference equation we modeled was:\n",
    "\n",
    "$u(x,t+\\Delta t) = u(x,t) \n",
    "      - \\frac{\\Delta t}{\\Delta x} A u(x,t).$\n",
    "\n",
    "We saw that this method could be unstable.\n",
    "\n",
    "To make a stable version, we can use an implicit in time, backwards in space method. In this method, you take the space difference Au at the new time t+Δt:\n",
    "\n",
    "$u(x,t+\\Delta t) = u(x,t) \n",
    "      - \\frac{\\Delta t}{\\Delta x} A u(x,t+\\Delta t).$\n",
    "\n",
    "We Modified the code below which was copied from the last problem so that it becomes an implicit in time method. Explore different time steps to see that as the time step increases, solutions tend to zero more quickly.\n",
    "\n"
   ]
  },
  {
   "cell_type": "code",
   "execution_count": 8,
   "metadata": {
    "collapsed": false
   },
   "outputs": [
    {
     "data": {
      "text/plain": [
       "pdesolveback (generic function with 1 method)"
      ]
     },
     "execution_count": 8,
     "metadata": {},
     "output_type": "execute_result"
    }
   ],
   "source": [
    "function pdesolveback(dt,time;numx=10)\n",
    "   dx = 2π/numx          # size of step size\n",
    "    A = I-[1==mod(i-j,numx) for i=1:numx, j=1:numx]\n",
    "    x = [dx: dx: 2π]\n",
    "    x,(I + dt/dx*A)^round(time/dt) \\ sin(x)\n",
    "end"
   ]
  },
  {
   "cell_type": "code",
   "execution_count": 9,
   "metadata": {
    "collapsed": false
   },
   "outputs": [
    {
     "data": {
      "text/html": [],
      "text/plain": [
       "Slider{Float64}([Input{Float64}] 0.525,\"dt\",0.525,0.05:0.001:1.0)"
      ]
     },
     "metadata": {},
     "output_type": "display_data"
    },
    {
     "data": {
      "text/html": [],
      "text/plain": [
       "Options{:ToggleButtons,Int64}([Input{Int64}] 1,\"time\",1,\"1\",OptionDict({\"1\",\"2\",\"3\"},{\"1\"=>1,\"2\"=>2,\"3\"=>3}),None[],None[])"
      ]
     },
     "metadata": {},
     "output_type": "display_data"
    },
    {
     "data": {
      "image/png": "[encoded data removed]",
      "text/plain": [
       "Figure(PyObject <matplotlib.figure.Figure object at 0x7f6719a21ed0>)"
      ]
     },
     "execution_count": 9,
     "metadata": {
      "comm_id": "28450640-16f9-4a60-8729-abdcfc314298",
      "reactive": true
     },
     "output_type": "execute_result"
    }
   ],
   "source": [
    "f=figure(figsize=(6,6))\n",
    "\n",
    "@manipulate for dt=.05:.001:1, time=[1:3]  withfig(f) do\n",
    "        plot(pdesolveback(dt,time)...)\n",
    "        title(\"dt=$dt\")\n",
    "    end\n",
    "end"
   ]
  },
  {
   "cell_type": "markdown",
   "metadata": {},
   "source": [
    "(8 pts.) pdesolveback is a 6 line code.  Which line was modified?\n",
    "1, 2, 3, 4, 5, or 6?  (We can't test you, but we recommend you look\n",
    "at the code and try to understand it. We also recommend playing with the parameters.)"
   ]
  },
  {
   "cell_type": "code",
   "execution_count": null,
   "metadata": {
    "alert": "info",
    "answer": "5.0",
    "attempts": 0,
    "collapsed": false,
    "max_attempts": 1000,
    "max_score": 8,
    "msg": "<span class='icon-info'></span> Will commit last result as the answer to question 9",
    "question": "9"
   },
   "outputs": [],
   "source": []
  },
  {
   "cell_type": "markdown",
   "metadata": {},
   "source": [
    "## 10. CENTERED IN TIME BACKWARD IN SPACE  \n",
    "\n",
    "The explicit in time, backwards in space method could be unstable. In contrast the implicit in time, backwards Euler in space method was very stable. The center method we will discuss below is the most accurate.\n",
    "\n",
    "Recap \n",
    "\n",
    "All of our methods were backwards in space. We considered three different approaches to time variable.\n",
    "\n",
    "Explicit in time (most unstable): $u(x,t+\\Delta t) = u(x,t) - \n",
    "\\frac{\\Delta t}{\\Delta x} A u(x,t).$\n",
    "\n",
    "Implicit in time (most stable): $u(x,t+\\Delta t) = u(x,t) - \n",
    "\\frac{\\Delta t}{\\Delta x} A u(x,t+\\Delta t).$\n",
    "\n",
    "Centered in time (most accurate): $u(x,t+\\Delta t) = u(x,t) - \n",
    "\\frac{\\Delta t}{\\Delta x} A \\left(\\frac{u(x,t+\\Delta t)+u(x,t)}{2}\\right).$\n",
    "\n",
    "\n",
    "The Julia code for the centered in time would look like this:\n",
    "\n"
   ]
  },
  {
   "cell_type": "code",
   "execution_count": null,
   "metadata": {
    "collapsed": false
   },
   "outputs": [],
   "source": [
    "function pdesolvecenter(dt,time;numx=10)\n",
    "   dx = 2π/numx          # size of step size\n",
    "    A = I-[1==mod(i-j,numx) for i=1:numx, j=1:numx]\n",
    "    x = [dx:dx:2π]\n",
    "    x,(?? \\ ??)^round(time/dt) * sin(x) ## (M\\N) is notation for inv(M)*N, you fill in M and N\n",
    "end"
   ]
  },
  {
   "cell_type": "code",
   "execution_count": null,
   "metadata": {
    "collapsed": false
   },
   "outputs": [],
   "source": [
    "using SymPy # Ignore warnings\n",
    "dt=Sym(\"dt\")\n",
    "dx=Sym(\"dx\")\n",
    "A=Sym(\"A\");\n"
   ]
  },
  {
   "cell_type": "markdown",
   "metadata": {},
   "source": [
    "(5pts) Write down a symbolic expression for M in terms of dt, dx, A and I"
   ]
  },
  {
   "cell_type": "code",
   "execution_count": null,
   "metadata": {
    "alert": "info",
    "answer": "[[\"sym-dt/(2*dx) + 1\",\"sym-2*dt/dx\",\"sym-4*dt/dx\"],[\"sym-dt/dx\",\"sym-3*dt/(2*dx) + 1\",\"sym-3*dt/dx\"],[\"sym-2*dt/dx\",\"sym-0\",\"sym-5*dt/(2*dx) + 1\"]]",
    "attempts": 0,
    "collapsed": false,
    "max_attempts": 1000,
    "max_score": 5,
    "msg": "<span class='icon-info'></span> Will commit last result as the answer to question 10a",
    "question": "10a"
   },
   "outputs": [],
   "source": []
  },
  {
   "cell_type": "markdown",
   "metadata": {
    "collapsed": true
   },
   "source": [
    "(4pts) Write down a symbolic expression for N in terms of dt, dx, A and I"
   ]
  },
  {
   "cell_type": "code",
   "execution_count": null,
   "metadata": {
    "alert": "info",
    "answer": "[[\"sym--dt/(2*dx) + 1\",\"sym--2*dt/dx\",\"sym--4*dt/dx\"],[\"sym--dt/dx\",\"sym--3*dt/(2*dx) + 1\",\"sym--3*dt/dx\"],[\"sym--2*dt/dx\",\"sym-0\",\"sym--5*dt/(2*dx) + 1\"]]",
    "attempts": 0,
    "collapsed": false,
    "max_attempts": 1000,
    "max_score": 4,
    "msg": "<span class='icon-info'></span> Will commit last result as the answer to question 10b",
    "question": "10b"
   },
   "outputs": [],
   "source": []
  },
  {
   "cell_type": "code",
   "execution_count": 44,
   "metadata": {
    "collapsed": false
   },
   "outputs": [
    {
     "data": {
      "text/html": [],
      "text/plain": [
       "Options{:ToggleButtons,ASCIIString}([Input{ASCIIString}] score,\"report\",\"score\",\"Score\",OptionDict({\"Score\",\"Incorrect attempts\"},{\"Score\"=>\"score\",\"Incorrect attempts\"=>\"attempts\"}),None[],None[])"
      ]
     },
     "metadata": {},
     "output_type": "display_data"
    },
    {
     "data": {
      "text/html": [
       "<table class=\"data-frame\"><tr><th></th><th>Names</th><th>total</th><th>1a</th><th>1b</th><th>2a</th><th>2b</th><th>3a</th><th>3b</th><th>3c</th><th>4a</th><th>4b</th><th>4c</th><th>4d</th><th>4e</th><th>4f</th><th>5a</th><th>5b</th><th>5c</th><th>6</th><th>7a</th><th>7b</th><th>7c</th><th>8</th><th>9</th><th>10a</th><th>10b</th></tr><tr><th>1</th><td>MAX</td><td><span style=\"color: black\">50.0</span></td><td><span style=\"color: black\">1.0</span></td><td><span style=\"color: black\">2.0</span></td><td><span style=\"color: black\">1.0</span></td><td><span style=\"color: black\">1.0</span></td><td><span style=\"color: black\">2.0</span></td><td><span style=\"color: black\">2.0</span></td><td><span style=\"color: black\">1.0</span></td><td><span style=\"color: black\">1.0</span></td><td><span style=\"color: black\">1.0</span></td><td><span style=\"color: black\">1.0</span></td><td><span style=\"color: black\">1.0</span></td><td><span style=\"color: black\">1.0</span></td><td><span style=\"color: black\">1.0</span></td><td><span style=\"color: black\">1.0</span></td><td><span style=\"color: black\">1.0</span></td><td><span style=\"color: black\">1.0</span></td><td><span style=\"color: black\">3.0</span></td><td><span style=\"color: black\">1.0</span></td><td><span style=\"color: black\">1.0</span></td><td><span style=\"color: black\">1.0</span></td><td><span style=\"color: black\">8.0</span></td><td><span style=\"color: black\">8.0</span></td><td><span style=\"color: black\">5.0</span></td><td><span style=\"color: black\">4.0</span></td></tr></table>"
      ],
      "text/plain": [
       "1x26 DataFrame\n",
       "| Row | Names | total                 | 1a                     |\n",
       "|-----|-------|-----------------------|------------------------|\n",
       "| 1   | \"MAX\" | Colored(\"black\",50.0) | Colored(\"black\",\"1.0\") |\n",
       "\n",
       "| Row | 1b                     | 2a                     |\n",
       "|-----|------------------------|------------------------|\n",
       "| 1   | Colored(\"black\",\"2.0\") | Colored(\"black\",\"1.0\") |\n",
       "\n",
       "| Row | 2b                     | 3a                     |\n",
       "|-----|------------------------|------------------------|\n",
       "| 1   | Colored(\"black\",\"1.0\") | Colored(\"black\",\"2.0\") |\n",
       "\n",
       "| Row | 3b                     | 3c                     |\n",
       "|-----|------------------------|------------------------|\n",
       "| 1   | Colored(\"black\",\"2.0\") | Colored(\"black\",\"1.0\") |\n",
       "\n",
       "| Row | 4a                     | 4b                     |\n",
       "|-----|------------------------|------------------------|\n",
       "| 1   | Colored(\"black\",\"1.0\") | Colored(\"black\",\"1.0\") |\n",
       "\n",
       "| Row | 4c                     | 4d                     |\n",
       "|-----|------------------------|------------------------|\n",
       "| 1   | Colored(\"black\",\"1.0\") | Colored(\"black\",\"1.0\") |\n",
       "\n",
       "| Row | 4e                     | 4f                     |\n",
       "|-----|------------------------|------------------------|\n",
       "| 1   | Colored(\"black\",\"1.0\") | Colored(\"black\",\"1.0\") |\n",
       "\n",
       "| Row | 5a                     | 5b                     |\n",
       "|-----|------------------------|------------------------|\n",
       "| 1   | Colored(\"black\",\"1.0\") | Colored(\"black\",\"1.0\") |\n",
       "\n",
       "| Row | 5c                     | 6                      |\n",
       "|-----|------------------------|------------------------|\n",
       "| 1   | Colored(\"black\",\"1.0\") | Colored(\"black\",\"3.0\") |\n",
       "\n",
       "| Row | 7a                     | 7b                     |\n",
       "|-----|------------------------|------------------------|\n",
       "| 1   | Colored(\"black\",\"1.0\") | Colored(\"black\",\"1.0\") |\n",
       "\n",
       "| Row | 7c                     | 8                      |\n",
       "|-----|------------------------|------------------------|\n",
       "| 1   | Colored(\"black\",\"1.0\") | Colored(\"black\",\"8.0\") |\n",
       "\n",
       "| Row | 9                      | 10a                    |\n",
       "|-----|------------------------|------------------------|\n",
       "| 1   | Colored(\"black\",\"8.0\") | Colored(\"black\",\"5.0\") |\n",
       "\n",
       "| Row | 10b                    |\n",
       "|-----|------------------------|\n",
       "| 1   | Colored(\"black\",\"4.0\") |"
      ]
     },
     "execution_count": 44,
     "metadata": {
      "comm_id": "f6b3cba8-5b3e-441c-aee8-b0ea55aa91da",
      "reactive": true
     },
     "output_type": "execute_result"
    }
   ],
   "source": [
    "Homework.progress()"
   ]
  }
 ],
 "metadata": {
  "homework": {
   "admins": [
    "mit.edelman@gmail.com",
    "edelman.alan@gmail.com"
   ],
   "course": "MIT-18.06-Spring-2015",
   "mode": "answering",
   "problemset": "pset7"
  },
  "kernelspec": {
   "display_name": "Julia 0.3.11",
   "language": "julia",
   "name": "julia-0.3"
  },
  "language_info": {
   "file_extension": ".jl",
   "mimetype": "application/julia",
   "name": "julia",
   "version": "0.3.11"
  }
 },
 "nbformat": 4,
 "nbformat_minor": 0
}
